{
  "cells": [
    {
      "cell_type": "code",
      "source": [
        "from sklearn.preprocessing import OneHotEncoder\n",
        "from sklearn.preprocessing import StandardScaler\n",
        "import matplotlib.pyplot as plt\n",
        "from sklearn.cluster import KMeans\n",
        "from sklearn.decomposition import PCA\n",
        "from sklearn.metrics import silhouette_score\n",
        "import numpy as np\n",
        "import seaborn as sns\n",
        "import datetime"
      ],
      "metadata": {
        "id": "y6xAHGA6cCOJ"
      },
      "execution_count": 1,
      "outputs": []
    },
    {
      "cell_type": "code",
      "execution_count": 2,
      "metadata": {
        "colab": {
          "base_uri": "https://localhost:8080/"
        },
        "id": "LxVILfqU0zSr",
        "outputId": "dc5259e7-6804-434b-c0f5-ee8c3bd7567b"
      },
      "outputs": [
        {
          "output_type": "stream",
          "name": "stdout",
          "text": [
            "Drive already mounted at /content/drive; to attempt to forcibly remount, call drive.mount(\"/content/drive\", force_remount=True).\n"
          ]
        }
      ],
      "source": [
        "import pandas as pd\n",
        "from google.colab import drive\n",
        "drive.mount('/content/drive')"
      ]
    },
    {
      "cell_type": "markdown",
      "metadata": {
        "id": "9N3MlErx1csh"
      },
      "source": [
        "###NYC Historical Data: Complaints"
      ]
    },
    {
      "cell_type": "markdown",
      "metadata": {
        "id": "oW6ZOgPe2f1A"
      },
      "source": [
        "[Data, New York City](https://data.cityofnewyork.us/Public-Safety/NYPD-Complaint-Data-Historic/qgea-i56i)"
      ]
    },
    {
      "cell_type": "markdown",
      "metadata": {
        "id": "EQNc5Ymn2e6q"
      },
      "source": [
        "This dataset includes all valid felony, misdemeanor, and violation crimes reported to the New York City Police Department (NYPD) from 2006 to the end of last year (2019). For additional details, please see the attached data dictionary in the ‘About’ section."
      ]
    },
    {
      "cell_type": "markdown",
      "metadata": {
        "id": "fF8gO8lngfdW"
      },
      "source": [
        "## Exploracion Inicial de Datos"
      ]
    },
    {
      "cell_type": "code",
      "execution_count": 3,
      "metadata": {
        "id": "iGhH8ydA1CsQ"
      },
      "outputs": [],
      "source": [
        "df_copy = pd.read_csv(\"/content/drive/MyDrive/Monografia_NYPD/NYPD_Complaint_Data_Historic.csv\", \n",
        "                 dtype={\"BORO_NM\": \"category\", \"CRM_ATPT_CPTD_CD\": \"category\", \n",
        "                        \"LAW_CAT_CD\": \"category\", \"LOC_OF_OCCUR_DESC\": \"category\", \n",
        "                        \"JURIS_DESC\": \"category\", \"JURISDICTION_CODE\": \"category\", \n",
        "                        \"SUSP_RACE\": \"category\", \"SUSP_SEX\": \"category\",\n",
        "                        \"TRANSIT_DISTRICT\": \"category\", \"VIC_RACE\": \"category\", \n",
        "                        \"VIC_SEX\": \"category\"}, low_memory=False, parse_dates = [\"CMPLNT_FR_DT\"])"
      ]
    },
    {
      "cell_type": "code",
      "execution_count": 4,
      "metadata": {
        "id": "gcJMsAGA37u4"
      },
      "outputs": [],
      "source": [
        "df = df_copy.copy()"
      ]
    },
    {
      "cell_type": "code",
      "execution_count": 5,
      "metadata": {
        "id": "R0ggl7UVuwAg"
      },
      "outputs": [],
      "source": [
        "#%\"CMPLNT_FR_DT\": \"datetime\", \"CMPLNT_TO_DT\": \"datetime\", , \"CMPLNT_FR_TM\": \"time\", \"CMPLNT_TO_TM\": \"time\""
      ]
    },
    {
      "cell_type": "code",
      "execution_count": 6,
      "metadata": {
        "colab": {
          "base_uri": "https://localhost:8080/"
        },
        "id": "10H43jAm2vJo",
        "outputId": "80dcaa38-d9b8-4531-e444-0b858279bc7e"
      },
      "outputs": [
        {
          "output_type": "stream",
          "name": "stdout",
          "text": [
            "La base de datos cuenta con: 7825499 denuncias registradas y, un total de: 35 atributos (columnas) que describen el hecho\n"
          ]
        }
      ],
      "source": [
        "print(f\"La base de datos cuenta con: {df.shape[0]} denuncias registradas y, un total de: {df.shape[1]} atributos (columnas) que describen el hecho\")"
      ]
    },
    {
      "cell_type": "code",
      "source": [
        "#Se examina la presencia de valores nulos por cada columna:\n",
        "\n",
        "\n",
        "#There are missing values for different columns:\n",
        "\n",
        "#df.isna()\n",
        "a = df.isnull().sum().to_frame().sort_values(by=[0], ascending=False)\n",
        "a.rename(columns={0: \"total_nulos\"}, inplace = True)\n",
        "a[\"%_nulos\"] =round(df.apply(lambda x: 1-(x.count()/x.size))*100,2)\n",
        "a\n",
        "#df.style.format(\"{:,.0f}\")"
      ],
      "metadata": {
        "colab": {
          "base_uri": "https://localhost:8080/",
          "height": 1000
        },
        "id": "8XeVoSCRqanF",
        "outputId": "8ae28c05-15f5-42b9-cbd4-268b4dc18972"
      },
      "execution_count": 7,
      "outputs": [
        {
          "output_type": "execute_result",
          "data": {
            "text/plain": [
              "                   total_nulos  %_nulos\n",
              "PARKS_NM               7794644    99.61\n",
              "STATION_NAME           7653024    97.80\n",
              "TRANSIT_DISTRICT       7653024    97.80\n",
              "HADEVELOPT             7477110    95.55\n",
              "HOUSING_PSA            7226206    92.34\n",
              "SUSP_AGE_GROUP         4883369    62.40\n",
              "SUSP_SEX               3648142    46.62\n",
              "SUSP_RACE              3514828    44.92\n",
              "CMPLNT_TO_DT           1744294    22.29\n",
              "CMPLNT_TO_TM           1739479    22.23\n",
              "VIC_AGE_GROUP          1638445    20.94\n",
              "LOC_OF_OCCUR_DESC      1618063    20.68\n",
              "PREM_TYP_DESC            42015     0.54\n",
              "OFNS_DESC                18832     0.24\n",
              "Y_COORD_CD               17339     0.22\n",
              "X_COORD_CD               17339     0.22\n",
              "Lat_Lon                  17339     0.22\n",
              "Latitude                 17339     0.22\n",
              "Longitude                17339     0.22\n",
              "BORO_NM                  12480     0.16\n",
              "PATROL_BORO               7218     0.09\n",
              "PD_DESC                   6761     0.09\n",
              "PD_CD                     6761     0.09\n",
              "JURISDICTION_CODE         6761     0.09\n",
              "ADDR_PCT_CD               2166     0.03\n",
              "CMPLNT_FR_DT               655     0.01\n",
              "VIC_RACE                   390     0.00\n",
              "VIC_SEX                    308     0.00\n",
              "CRM_ATPT_CPTD_CD           168     0.00\n",
              "CMPLNT_FR_TM                48     0.00\n",
              "JURIS_DESC                   0     0.00\n",
              "LAW_CAT_CD                   0     0.00\n",
              "KY_CD                        0     0.00\n",
              "RPT_DT                       0     0.00\n",
              "CMPLNT_NUM                   0     0.00"
            ],
            "text/html": [
              "\n",
              "  <div id=\"df-5be32c29-e888-4ee1-ac99-b09299ee5fff\">\n",
              "    <div class=\"colab-df-container\">\n",
              "      <div>\n",
              "<style scoped>\n",
              "    .dataframe tbody tr th:only-of-type {\n",
              "        vertical-align: middle;\n",
              "    }\n",
              "\n",
              "    .dataframe tbody tr th {\n",
              "        vertical-align: top;\n",
              "    }\n",
              "\n",
              "    .dataframe thead th {\n",
              "        text-align: right;\n",
              "    }\n",
              "</style>\n",
              "<table border=\"1\" class=\"dataframe\">\n",
              "  <thead>\n",
              "    <tr style=\"text-align: right;\">\n",
              "      <th></th>\n",
              "      <th>total_nulos</th>\n",
              "      <th>%_nulos</th>\n",
              "    </tr>\n",
              "  </thead>\n",
              "  <tbody>\n",
              "    <tr>\n",
              "      <th>PARKS_NM</th>\n",
              "      <td>7794644</td>\n",
              "      <td>99.61</td>\n",
              "    </tr>\n",
              "    <tr>\n",
              "      <th>STATION_NAME</th>\n",
              "      <td>7653024</td>\n",
              "      <td>97.80</td>\n",
              "    </tr>\n",
              "    <tr>\n",
              "      <th>TRANSIT_DISTRICT</th>\n",
              "      <td>7653024</td>\n",
              "      <td>97.80</td>\n",
              "    </tr>\n",
              "    <tr>\n",
              "      <th>HADEVELOPT</th>\n",
              "      <td>7477110</td>\n",
              "      <td>95.55</td>\n",
              "    </tr>\n",
              "    <tr>\n",
              "      <th>HOUSING_PSA</th>\n",
              "      <td>7226206</td>\n",
              "      <td>92.34</td>\n",
              "    </tr>\n",
              "    <tr>\n",
              "      <th>SUSP_AGE_GROUP</th>\n",
              "      <td>4883369</td>\n",
              "      <td>62.40</td>\n",
              "    </tr>\n",
              "    <tr>\n",
              "      <th>SUSP_SEX</th>\n",
              "      <td>3648142</td>\n",
              "      <td>46.62</td>\n",
              "    </tr>\n",
              "    <tr>\n",
              "      <th>SUSP_RACE</th>\n",
              "      <td>3514828</td>\n",
              "      <td>44.92</td>\n",
              "    </tr>\n",
              "    <tr>\n",
              "      <th>CMPLNT_TO_DT</th>\n",
              "      <td>1744294</td>\n",
              "      <td>22.29</td>\n",
              "    </tr>\n",
              "    <tr>\n",
              "      <th>CMPLNT_TO_TM</th>\n",
              "      <td>1739479</td>\n",
              "      <td>22.23</td>\n",
              "    </tr>\n",
              "    <tr>\n",
              "      <th>VIC_AGE_GROUP</th>\n",
              "      <td>1638445</td>\n",
              "      <td>20.94</td>\n",
              "    </tr>\n",
              "    <tr>\n",
              "      <th>LOC_OF_OCCUR_DESC</th>\n",
              "      <td>1618063</td>\n",
              "      <td>20.68</td>\n",
              "    </tr>\n",
              "    <tr>\n",
              "      <th>PREM_TYP_DESC</th>\n",
              "      <td>42015</td>\n",
              "      <td>0.54</td>\n",
              "    </tr>\n",
              "    <tr>\n",
              "      <th>OFNS_DESC</th>\n",
              "      <td>18832</td>\n",
              "      <td>0.24</td>\n",
              "    </tr>\n",
              "    <tr>\n",
              "      <th>Y_COORD_CD</th>\n",
              "      <td>17339</td>\n",
              "      <td>0.22</td>\n",
              "    </tr>\n",
              "    <tr>\n",
              "      <th>X_COORD_CD</th>\n",
              "      <td>17339</td>\n",
              "      <td>0.22</td>\n",
              "    </tr>\n",
              "    <tr>\n",
              "      <th>Lat_Lon</th>\n",
              "      <td>17339</td>\n",
              "      <td>0.22</td>\n",
              "    </tr>\n",
              "    <tr>\n",
              "      <th>Latitude</th>\n",
              "      <td>17339</td>\n",
              "      <td>0.22</td>\n",
              "    </tr>\n",
              "    <tr>\n",
              "      <th>Longitude</th>\n",
              "      <td>17339</td>\n",
              "      <td>0.22</td>\n",
              "    </tr>\n",
              "    <tr>\n",
              "      <th>BORO_NM</th>\n",
              "      <td>12480</td>\n",
              "      <td>0.16</td>\n",
              "    </tr>\n",
              "    <tr>\n",
              "      <th>PATROL_BORO</th>\n",
              "      <td>7218</td>\n",
              "      <td>0.09</td>\n",
              "    </tr>\n",
              "    <tr>\n",
              "      <th>PD_DESC</th>\n",
              "      <td>6761</td>\n",
              "      <td>0.09</td>\n",
              "    </tr>\n",
              "    <tr>\n",
              "      <th>PD_CD</th>\n",
              "      <td>6761</td>\n",
              "      <td>0.09</td>\n",
              "    </tr>\n",
              "    <tr>\n",
              "      <th>JURISDICTION_CODE</th>\n",
              "      <td>6761</td>\n",
              "      <td>0.09</td>\n",
              "    </tr>\n",
              "    <tr>\n",
              "      <th>ADDR_PCT_CD</th>\n",
              "      <td>2166</td>\n",
              "      <td>0.03</td>\n",
              "    </tr>\n",
              "    <tr>\n",
              "      <th>CMPLNT_FR_DT</th>\n",
              "      <td>655</td>\n",
              "      <td>0.01</td>\n",
              "    </tr>\n",
              "    <tr>\n",
              "      <th>VIC_RACE</th>\n",
              "      <td>390</td>\n",
              "      <td>0.00</td>\n",
              "    </tr>\n",
              "    <tr>\n",
              "      <th>VIC_SEX</th>\n",
              "      <td>308</td>\n",
              "      <td>0.00</td>\n",
              "    </tr>\n",
              "    <tr>\n",
              "      <th>CRM_ATPT_CPTD_CD</th>\n",
              "      <td>168</td>\n",
              "      <td>0.00</td>\n",
              "    </tr>\n",
              "    <tr>\n",
              "      <th>CMPLNT_FR_TM</th>\n",
              "      <td>48</td>\n",
              "      <td>0.00</td>\n",
              "    </tr>\n",
              "    <tr>\n",
              "      <th>JURIS_DESC</th>\n",
              "      <td>0</td>\n",
              "      <td>0.00</td>\n",
              "    </tr>\n",
              "    <tr>\n",
              "      <th>LAW_CAT_CD</th>\n",
              "      <td>0</td>\n",
              "      <td>0.00</td>\n",
              "    </tr>\n",
              "    <tr>\n",
              "      <th>KY_CD</th>\n",
              "      <td>0</td>\n",
              "      <td>0.00</td>\n",
              "    </tr>\n",
              "    <tr>\n",
              "      <th>RPT_DT</th>\n",
              "      <td>0</td>\n",
              "      <td>0.00</td>\n",
              "    </tr>\n",
              "    <tr>\n",
              "      <th>CMPLNT_NUM</th>\n",
              "      <td>0</td>\n",
              "      <td>0.00</td>\n",
              "    </tr>\n",
              "  </tbody>\n",
              "</table>\n",
              "</div>\n",
              "      <button class=\"colab-df-convert\" onclick=\"convertToInteractive('df-5be32c29-e888-4ee1-ac99-b09299ee5fff')\"\n",
              "              title=\"Convert this dataframe to an interactive table.\"\n",
              "              style=\"display:none;\">\n",
              "        \n",
              "  <svg xmlns=\"http://www.w3.org/2000/svg\" height=\"24px\"viewBox=\"0 0 24 24\"\n",
              "       width=\"24px\">\n",
              "    <path d=\"M0 0h24v24H0V0z\" fill=\"none\"/>\n",
              "    <path d=\"M18.56 5.44l.94 2.06.94-2.06 2.06-.94-2.06-.94-.94-2.06-.94 2.06-2.06.94zm-11 1L8.5 8.5l.94-2.06 2.06-.94-2.06-.94L8.5 2.5l-.94 2.06-2.06.94zm10 10l.94 2.06.94-2.06 2.06-.94-2.06-.94-.94-2.06-.94 2.06-2.06.94z\"/><path d=\"M17.41 7.96l-1.37-1.37c-.4-.4-.92-.59-1.43-.59-.52 0-1.04.2-1.43.59L10.3 9.45l-7.72 7.72c-.78.78-.78 2.05 0 2.83L4 21.41c.39.39.9.59 1.41.59.51 0 1.02-.2 1.41-.59l7.78-7.78 2.81-2.81c.8-.78.8-2.07 0-2.86zM5.41 20L4 18.59l7.72-7.72 1.47 1.35L5.41 20z\"/>\n",
              "  </svg>\n",
              "      </button>\n",
              "      \n",
              "  <style>\n",
              "    .colab-df-container {\n",
              "      display:flex;\n",
              "      flex-wrap:wrap;\n",
              "      gap: 12px;\n",
              "    }\n",
              "\n",
              "    .colab-df-convert {\n",
              "      background-color: #E8F0FE;\n",
              "      border: none;\n",
              "      border-radius: 50%;\n",
              "      cursor: pointer;\n",
              "      display: none;\n",
              "      fill: #1967D2;\n",
              "      height: 32px;\n",
              "      padding: 0 0 0 0;\n",
              "      width: 32px;\n",
              "    }\n",
              "\n",
              "    .colab-df-convert:hover {\n",
              "      background-color: #E2EBFA;\n",
              "      box-shadow: 0px 1px 2px rgba(60, 64, 67, 0.3), 0px 1px 3px 1px rgba(60, 64, 67, 0.15);\n",
              "      fill: #174EA6;\n",
              "    }\n",
              "\n",
              "    [theme=dark] .colab-df-convert {\n",
              "      background-color: #3B4455;\n",
              "      fill: #D2E3FC;\n",
              "    }\n",
              "\n",
              "    [theme=dark] .colab-df-convert:hover {\n",
              "      background-color: #434B5C;\n",
              "      box-shadow: 0px 1px 3px 1px rgba(0, 0, 0, 0.15);\n",
              "      filter: drop-shadow(0px 1px 2px rgba(0, 0, 0, 0.3));\n",
              "      fill: #FFFFFF;\n",
              "    }\n",
              "  </style>\n",
              "\n",
              "      <script>\n",
              "        const buttonEl =\n",
              "          document.querySelector('#df-5be32c29-e888-4ee1-ac99-b09299ee5fff button.colab-df-convert');\n",
              "        buttonEl.style.display =\n",
              "          google.colab.kernel.accessAllowed ? 'block' : 'none';\n",
              "\n",
              "        async function convertToInteractive(key) {\n",
              "          const element = document.querySelector('#df-5be32c29-e888-4ee1-ac99-b09299ee5fff');\n",
              "          const dataTable =\n",
              "            await google.colab.kernel.invokeFunction('convertToInteractive',\n",
              "                                                     [key], {});\n",
              "          if (!dataTable) return;\n",
              "\n",
              "          const docLinkHtml = 'Like what you see? Visit the ' +\n",
              "            '<a target=\"_blank\" href=https://colab.research.google.com/notebooks/data_table.ipynb>data table notebook</a>'\n",
              "            + ' to learn more about interactive tables.';\n",
              "          element.innerHTML = '';\n",
              "          dataTable['output_type'] = 'display_data';\n",
              "          await google.colab.output.renderOutput(dataTable, element);\n",
              "          const docLink = document.createElement('div');\n",
              "          docLink.innerHTML = docLinkHtml;\n",
              "          element.appendChild(docLink);\n",
              "        }\n",
              "      </script>\n",
              "    </div>\n",
              "  </div>\n",
              "  "
            ]
          },
          "metadata": {},
          "execution_count": 7
        }
      ]
    },
    {
      "cell_type": "markdown",
      "source": [
        "Adicional a lo anterior, hay presencia de valores nulos y atípicos que podrían estar en el mismo registro, es decir, en una misma denuncia hay varias características que no están bien diligenciadas o no cuentan con información. El siguiente código considera cada uno de los registros a nivel columna para hacer una evaluación en donde hay 20% de los nulos por fila"
      ],
      "metadata": {
        "id": "AGYHYiTLqJTF"
      }
    },
    {
      "cell_type": "code",
      "source": [
        "threshold = 0.3 # set the threshold to 30%\n",
        "mask = df.isnull().mean(axis=1) > threshold # create a boolean mask\n",
        "rows_with_many_nulls = df[mask] # select rows that meet the condition\n",
        "print(f'Evaluando el dataset y revisando no sólo por columna si no por fila se encuenta que existen: {len(rows_with_many_nulls)} filas en donde hay presencia de por lo menos {threshold * df.shape[1]} atributos nulos' )"
      ],
      "metadata": {
        "colab": {
          "base_uri": "https://localhost:8080/"
        },
        "id": "P4WmuQVAqEkw",
        "outputId": "23410760-204f-4854-e955-dcae48634fa9"
      },
      "execution_count": 8,
      "outputs": [
        {
          "output_type": "stream",
          "name": "stdout",
          "text": [
            "Evaluando el dataset y revisando no sólo por columna si no por fila se encuenta que existen: 432332 filas en donde hay presencia de por lo menos 10.5 atributos nulos\n"
          ]
        }
      ]
    },
    {
      "cell_type": "code",
      "source": [
        "#Dada la extensión del fata set y, teniendo en cuenta, que se apunta a hacer una categorización precisa de los crímenes se procede a eliminarlos\n",
        "df.drop(rows_with_many_nulls.index.to_numpy(), axis = 0, inplace = True)\n",
        "df.shape"
      ],
      "metadata": {
        "colab": {
          "base_uri": "https://localhost:8080/"
        },
        "id": "yJJjg_GQq6pT",
        "outputId": "88275848-5e1f-4b90-f988-9a31fc4cf563"
      },
      "execution_count": 9,
      "outputs": [
        {
          "output_type": "execute_result",
          "data": {
            "text/plain": [
              "(7393167, 35)"
            ]
          },
          "metadata": {},
          "execution_count": 9
        }
      ]
    },
    {
      "cell_type": "code",
      "source": [
        "#Se examina la presencia de valores nulos por cada columna:\n",
        "\n",
        "\n",
        "#There are missing values for different columns:\n",
        "\n",
        "#df.isna()\n",
        "a = df.isnull().sum().to_frame().sort_values(by=[0], ascending=False)\n",
        "a.rename(columns={0: \"total_nulos\"}, inplace = True)\n",
        "a[\"%_nulos\"] =round(df.apply(lambda x: 1-(x.count()/x.size))*100,2)\n",
        "a\n",
        "#df.style.format(\"{:,.0f}\")"
      ],
      "metadata": {
        "colab": {
          "base_uri": "https://localhost:8080/",
          "height": 1000
        },
        "id": "VhVHbFczuNGB",
        "outputId": "6a9d0d61-eb5b-49c7-f85f-37e796b0522f"
      },
      "execution_count": 10,
      "outputs": [
        {
          "output_type": "execute_result",
          "data": {
            "text/plain": [
              "                   total_nulos  %_nulos\n",
              "PARKS_NM               7362589    99.59\n",
              "STATION_NAME           7221564    97.68\n",
              "TRANSIT_DISTRICT       7221564    97.68\n",
              "HADEVELOPT             7045690    95.30\n",
              "HOUSING_PSA            6795132    91.91\n",
              "SUSP_AGE_GROUP         4456980    60.29\n",
              "SUSP_SEX               3224841    43.62\n",
              "SUSP_RACE              3093507    41.84\n",
              "LOC_OF_OCCUR_DESC      1412561    19.11\n",
              "CMPLNT_TO_DT           1324994    17.92\n",
              "CMPLNT_TO_TM           1320345    17.86\n",
              "VIC_AGE_GROUP          1307477    17.68\n",
              "PREM_TYP_DESC            27805     0.38\n",
              "OFNS_DESC                13428     0.18\n",
              "BORO_NM                   4163     0.06\n",
              "Longitude                 1400     0.02\n",
              "Latitude                  1400     0.02\n",
              "Lat_Lon                   1400     0.02\n",
              "X_COORD_CD                1400     0.02\n",
              "Y_COORD_CD                1400     0.02\n",
              "CMPLNT_FR_DT               591     0.01\n",
              "VIC_RACE                    87     0.00\n",
              "VIC_SEX                     72     0.00\n",
              "PATROL_BORO                 63     0.00\n",
              "CMPLNT_FR_TM                39     0.00\n",
              "CRM_ATPT_CPTD_CD            28     0.00\n",
              "CMPLNT_NUM                   0     0.00\n",
              "JURIS_DESC                   0     0.00\n",
              "LAW_CAT_CD                   0     0.00\n",
              "PD_DESC                      0     0.00\n",
              "PD_CD                        0     0.00\n",
              "KY_CD                        0     0.00\n",
              "RPT_DT                       0     0.00\n",
              "ADDR_PCT_CD                  0     0.00\n",
              "JURISDICTION_CODE            0     0.00"
            ],
            "text/html": [
              "\n",
              "  <div id=\"df-795694f9-c684-4f6d-9f6b-0d05e6ada783\">\n",
              "    <div class=\"colab-df-container\">\n",
              "      <div>\n",
              "<style scoped>\n",
              "    .dataframe tbody tr th:only-of-type {\n",
              "        vertical-align: middle;\n",
              "    }\n",
              "\n",
              "    .dataframe tbody tr th {\n",
              "        vertical-align: top;\n",
              "    }\n",
              "\n",
              "    .dataframe thead th {\n",
              "        text-align: right;\n",
              "    }\n",
              "</style>\n",
              "<table border=\"1\" class=\"dataframe\">\n",
              "  <thead>\n",
              "    <tr style=\"text-align: right;\">\n",
              "      <th></th>\n",
              "      <th>total_nulos</th>\n",
              "      <th>%_nulos</th>\n",
              "    </tr>\n",
              "  </thead>\n",
              "  <tbody>\n",
              "    <tr>\n",
              "      <th>PARKS_NM</th>\n",
              "      <td>7362589</td>\n",
              "      <td>99.59</td>\n",
              "    </tr>\n",
              "    <tr>\n",
              "      <th>STATION_NAME</th>\n",
              "      <td>7221564</td>\n",
              "      <td>97.68</td>\n",
              "    </tr>\n",
              "    <tr>\n",
              "      <th>TRANSIT_DISTRICT</th>\n",
              "      <td>7221564</td>\n",
              "      <td>97.68</td>\n",
              "    </tr>\n",
              "    <tr>\n",
              "      <th>HADEVELOPT</th>\n",
              "      <td>7045690</td>\n",
              "      <td>95.30</td>\n",
              "    </tr>\n",
              "    <tr>\n",
              "      <th>HOUSING_PSA</th>\n",
              "      <td>6795132</td>\n",
              "      <td>91.91</td>\n",
              "    </tr>\n",
              "    <tr>\n",
              "      <th>SUSP_AGE_GROUP</th>\n",
              "      <td>4456980</td>\n",
              "      <td>60.29</td>\n",
              "    </tr>\n",
              "    <tr>\n",
              "      <th>SUSP_SEX</th>\n",
              "      <td>3224841</td>\n",
              "      <td>43.62</td>\n",
              "    </tr>\n",
              "    <tr>\n",
              "      <th>SUSP_RACE</th>\n",
              "      <td>3093507</td>\n",
              "      <td>41.84</td>\n",
              "    </tr>\n",
              "    <tr>\n",
              "      <th>LOC_OF_OCCUR_DESC</th>\n",
              "      <td>1412561</td>\n",
              "      <td>19.11</td>\n",
              "    </tr>\n",
              "    <tr>\n",
              "      <th>CMPLNT_TO_DT</th>\n",
              "      <td>1324994</td>\n",
              "      <td>17.92</td>\n",
              "    </tr>\n",
              "    <tr>\n",
              "      <th>CMPLNT_TO_TM</th>\n",
              "      <td>1320345</td>\n",
              "      <td>17.86</td>\n",
              "    </tr>\n",
              "    <tr>\n",
              "      <th>VIC_AGE_GROUP</th>\n",
              "      <td>1307477</td>\n",
              "      <td>17.68</td>\n",
              "    </tr>\n",
              "    <tr>\n",
              "      <th>PREM_TYP_DESC</th>\n",
              "      <td>27805</td>\n",
              "      <td>0.38</td>\n",
              "    </tr>\n",
              "    <tr>\n",
              "      <th>OFNS_DESC</th>\n",
              "      <td>13428</td>\n",
              "      <td>0.18</td>\n",
              "    </tr>\n",
              "    <tr>\n",
              "      <th>BORO_NM</th>\n",
              "      <td>4163</td>\n",
              "      <td>0.06</td>\n",
              "    </tr>\n",
              "    <tr>\n",
              "      <th>Longitude</th>\n",
              "      <td>1400</td>\n",
              "      <td>0.02</td>\n",
              "    </tr>\n",
              "    <tr>\n",
              "      <th>Latitude</th>\n",
              "      <td>1400</td>\n",
              "      <td>0.02</td>\n",
              "    </tr>\n",
              "    <tr>\n",
              "      <th>Lat_Lon</th>\n",
              "      <td>1400</td>\n",
              "      <td>0.02</td>\n",
              "    </tr>\n",
              "    <tr>\n",
              "      <th>X_COORD_CD</th>\n",
              "      <td>1400</td>\n",
              "      <td>0.02</td>\n",
              "    </tr>\n",
              "    <tr>\n",
              "      <th>Y_COORD_CD</th>\n",
              "      <td>1400</td>\n",
              "      <td>0.02</td>\n",
              "    </tr>\n",
              "    <tr>\n",
              "      <th>CMPLNT_FR_DT</th>\n",
              "      <td>591</td>\n",
              "      <td>0.01</td>\n",
              "    </tr>\n",
              "    <tr>\n",
              "      <th>VIC_RACE</th>\n",
              "      <td>87</td>\n",
              "      <td>0.00</td>\n",
              "    </tr>\n",
              "    <tr>\n",
              "      <th>VIC_SEX</th>\n",
              "      <td>72</td>\n",
              "      <td>0.00</td>\n",
              "    </tr>\n",
              "    <tr>\n",
              "      <th>PATROL_BORO</th>\n",
              "      <td>63</td>\n",
              "      <td>0.00</td>\n",
              "    </tr>\n",
              "    <tr>\n",
              "      <th>CMPLNT_FR_TM</th>\n",
              "      <td>39</td>\n",
              "      <td>0.00</td>\n",
              "    </tr>\n",
              "    <tr>\n",
              "      <th>CRM_ATPT_CPTD_CD</th>\n",
              "      <td>28</td>\n",
              "      <td>0.00</td>\n",
              "    </tr>\n",
              "    <tr>\n",
              "      <th>CMPLNT_NUM</th>\n",
              "      <td>0</td>\n",
              "      <td>0.00</td>\n",
              "    </tr>\n",
              "    <tr>\n",
              "      <th>JURIS_DESC</th>\n",
              "      <td>0</td>\n",
              "      <td>0.00</td>\n",
              "    </tr>\n",
              "    <tr>\n",
              "      <th>LAW_CAT_CD</th>\n",
              "      <td>0</td>\n",
              "      <td>0.00</td>\n",
              "    </tr>\n",
              "    <tr>\n",
              "      <th>PD_DESC</th>\n",
              "      <td>0</td>\n",
              "      <td>0.00</td>\n",
              "    </tr>\n",
              "    <tr>\n",
              "      <th>PD_CD</th>\n",
              "      <td>0</td>\n",
              "      <td>0.00</td>\n",
              "    </tr>\n",
              "    <tr>\n",
              "      <th>KY_CD</th>\n",
              "      <td>0</td>\n",
              "      <td>0.00</td>\n",
              "    </tr>\n",
              "    <tr>\n",
              "      <th>RPT_DT</th>\n",
              "      <td>0</td>\n",
              "      <td>0.00</td>\n",
              "    </tr>\n",
              "    <tr>\n",
              "      <th>ADDR_PCT_CD</th>\n",
              "      <td>0</td>\n",
              "      <td>0.00</td>\n",
              "    </tr>\n",
              "    <tr>\n",
              "      <th>JURISDICTION_CODE</th>\n",
              "      <td>0</td>\n",
              "      <td>0.00</td>\n",
              "    </tr>\n",
              "  </tbody>\n",
              "</table>\n",
              "</div>\n",
              "      <button class=\"colab-df-convert\" onclick=\"convertToInteractive('df-795694f9-c684-4f6d-9f6b-0d05e6ada783')\"\n",
              "              title=\"Convert this dataframe to an interactive table.\"\n",
              "              style=\"display:none;\">\n",
              "        \n",
              "  <svg xmlns=\"http://www.w3.org/2000/svg\" height=\"24px\"viewBox=\"0 0 24 24\"\n",
              "       width=\"24px\">\n",
              "    <path d=\"M0 0h24v24H0V0z\" fill=\"none\"/>\n",
              "    <path d=\"M18.56 5.44l.94 2.06.94-2.06 2.06-.94-2.06-.94-.94-2.06-.94 2.06-2.06.94zm-11 1L8.5 8.5l.94-2.06 2.06-.94-2.06-.94L8.5 2.5l-.94 2.06-2.06.94zm10 10l.94 2.06.94-2.06 2.06-.94-2.06-.94-.94-2.06-.94 2.06-2.06.94z\"/><path d=\"M17.41 7.96l-1.37-1.37c-.4-.4-.92-.59-1.43-.59-.52 0-1.04.2-1.43.59L10.3 9.45l-7.72 7.72c-.78.78-.78 2.05 0 2.83L4 21.41c.39.39.9.59 1.41.59.51 0 1.02-.2 1.41-.59l7.78-7.78 2.81-2.81c.8-.78.8-2.07 0-2.86zM5.41 20L4 18.59l7.72-7.72 1.47 1.35L5.41 20z\"/>\n",
              "  </svg>\n",
              "      </button>\n",
              "      \n",
              "  <style>\n",
              "    .colab-df-container {\n",
              "      display:flex;\n",
              "      flex-wrap:wrap;\n",
              "      gap: 12px;\n",
              "    }\n",
              "\n",
              "    .colab-df-convert {\n",
              "      background-color: #E8F0FE;\n",
              "      border: none;\n",
              "      border-radius: 50%;\n",
              "      cursor: pointer;\n",
              "      display: none;\n",
              "      fill: #1967D2;\n",
              "      height: 32px;\n",
              "      padding: 0 0 0 0;\n",
              "      width: 32px;\n",
              "    }\n",
              "\n",
              "    .colab-df-convert:hover {\n",
              "      background-color: #E2EBFA;\n",
              "      box-shadow: 0px 1px 2px rgba(60, 64, 67, 0.3), 0px 1px 3px 1px rgba(60, 64, 67, 0.15);\n",
              "      fill: #174EA6;\n",
              "    }\n",
              "\n",
              "    [theme=dark] .colab-df-convert {\n",
              "      background-color: #3B4455;\n",
              "      fill: #D2E3FC;\n",
              "    }\n",
              "\n",
              "    [theme=dark] .colab-df-convert:hover {\n",
              "      background-color: #434B5C;\n",
              "      box-shadow: 0px 1px 3px 1px rgba(0, 0, 0, 0.15);\n",
              "      filter: drop-shadow(0px 1px 2px rgba(0, 0, 0, 0.3));\n",
              "      fill: #FFFFFF;\n",
              "    }\n",
              "  </style>\n",
              "\n",
              "      <script>\n",
              "        const buttonEl =\n",
              "          document.querySelector('#df-795694f9-c684-4f6d-9f6b-0d05e6ada783 button.colab-df-convert');\n",
              "        buttonEl.style.display =\n",
              "          google.colab.kernel.accessAllowed ? 'block' : 'none';\n",
              "\n",
              "        async function convertToInteractive(key) {\n",
              "          const element = document.querySelector('#df-795694f9-c684-4f6d-9f6b-0d05e6ada783');\n",
              "          const dataTable =\n",
              "            await google.colab.kernel.invokeFunction('convertToInteractive',\n",
              "                                                     [key], {});\n",
              "          if (!dataTable) return;\n",
              "\n",
              "          const docLinkHtml = 'Like what you see? Visit the ' +\n",
              "            '<a target=\"_blank\" href=https://colab.research.google.com/notebooks/data_table.ipynb>data table notebook</a>'\n",
              "            + ' to learn more about interactive tables.';\n",
              "          element.innerHTML = '';\n",
              "          dataTable['output_type'] = 'display_data';\n",
              "          await google.colab.output.renderOutput(dataTable, element);\n",
              "          const docLink = document.createElement('div');\n",
              "          docLink.innerHTML = docLinkHtml;\n",
              "          element.appendChild(docLink);\n",
              "        }\n",
              "      </script>\n",
              "    </div>\n",
              "  </div>\n",
              "  "
            ]
          },
          "metadata": {},
          "execution_count": 10
        }
      ]
    },
    {
      "cell_type": "markdown",
      "source": [
        "Variables que contienen más del 90% como valores nulos, son descartadass del análisis: PARKS_NM = nombre_area_suceso\t(99.59%), STATION_NAME = nombre_estacion_transito (97.68%), TRANSIT_DISTRICT = distrito_transito\t(97.68%), HADEVELOPT = nombre_urbanizacion (95.30%), HOUSING_PSA = codigo_nivel_desarrollo (91.91%)"
      ],
      "metadata": {
        "id": "C6l9QdMSBTey"
      }
    },
    {
      "cell_type": "code",
      "execution_count": 11,
      "metadata": {
        "id": "YMXGx9jlo3dM"
      },
      "outputs": [],
      "source": [
        "#for i in df.columns:\n",
        "#  if len(df[i].unique()) < 30:\n",
        "#    print(f\"La columna: {i}, contiene: {len(df[i].unique())} valores unicos\")\n",
        "#    print(\"_____________________\")\n",
        "#    print(\"_____________________\")\n",
        "#    print(df[i].value_counts())\n",
        "#  else: \n",
        "#    pass"
      ]
    },
    {
      "cell_type": "code",
      "execution_count": 12,
      "metadata": {
        "id": "CYnaDN56vv2_"
      },
      "outputs": [],
      "source": [
        "# print(df['PARKS_NM'].value_counts())\n",
        "#print(df.drop_duplicates(subset = [\"PARKS_NM\"]))\n",
        "# print(df['HOUSING_PSA'].value_counts())\n",
        "#print(df.drop_duplicates(subset = [\"HOUSING_PSA\"]))"
      ]
    },
    {
      "cell_type": "code",
      "execution_count": 13,
      "metadata": {
        "id": "hvE6MkryteQ4"
      },
      "outputs": [],
      "source": [
        "df.rename(columns={\"CMPLNT_NUM\": \"num_denuncia\"}, inplace=True)\n",
        "df.rename(columns={\"CMPLNT_FR_DT\": \"fecha_inicio_suceso\"}, inplace=True)\n",
        "df.rename(columns={\"CMPLNT_FR_TM\": \"hora_inicio_suceso\"}, inplace=True)\n",
        "df.rename(columns={\"CMPLNT_TO_DT\": \"fecha_final_suceso\"}, inplace=True)\n",
        "df.rename(columns={\"CMPLNT_TO_TM\": \"hora_final_suceso\"}, inplace=True)\n",
        "df.rename(columns={\"ADDR_PCT_CD\": \"direccion_suceso\"}, inplace=True)\n",
        "df.rename(columns={\"RPT_DT\": \"fecha_denuncia\"}, inplace=True)\n",
        "df.rename(columns={\"KY_CD\": \"codigo_clasificacion\"}, inplace=True)\n",
        "df.rename(columns={\"OFNS_DESC\": \"descripcion_suceso\"}, inplace=True)\n",
        "df.rename(columns={\"PD_CD\": \"codigo_clasificacion_granular\"}, inplace=True)\n",
        "df.rename(columns={\"PD_DESC\": \"descripcion_codigo_clasificacion_granular\"}, inplace=True)\n",
        "df.rename(columns={\"CRM_ATPT_CPTD_CD\": \"delito_completado_interrumpido\"}, inplace=True)\n",
        "df.rename(columns={\"LAW_CAT_CD\": \"nivel_ofensa\"}, inplace=True)\n",
        "df.rename(columns={\"BORO_NM\": \"distrito\"}, inplace=True)\n",
        "df.rename(columns={\"LOC_OF_OCCUR_DESC\": \"ubicacion_especifica\"}, inplace=True)\n",
        "df.rename(columns={\"PREM_TYP_DESC\": \"descripcion_ubicacion\"}, inplace=True)\n",
        "df.rename(columns={\"JURIS_DESC\": \"descripcion_codigo_jurisdiccion\"}, inplace=True)\n",
        "df.rename(columns={\"JURISDICTION_CODE\": \"jurisdiccion_encargada\"}, inplace=True)\n",
        "df.rename(columns={\"PARKS_NM\": \"nombre_area_suceso\"}, inplace=True)\n",
        "df.rename(columns={\"HADEVELOPT\": \"nombre_urbanizacion\"}, inplace=True)\n",
        "df.rename(columns={\"HOUSING_PSA\": \"codigo_nivel_desarrollo\"}, inplace=True)\n",
        "df.rename(columns={\"X_COORD_CD\": \"coordenada_x\"}, inplace=True)\n",
        "df.rename(columns={\"Y_COORD_CD\": \"coordenada_y\"}, inplace=True)\n",
        "df.rename(columns={\"SUSP_AGE_GROUP\": \"grupo_edad_sospechoso\"}, inplace=True)\n",
        "df.rename(columns={\"SUSP_RACE\": \"raza_sospechoso\"}, inplace=True)\n",
        "df.rename(columns={\"SUSP_SEX\": \"sexo_sospechoso\"}, inplace=True)\n",
        "df.rename(columns={\"TRANSIT_DISTRICT\": \"distrito_transito\"}, inplace=True)\n",
        "df.rename(columns={\"Latitude\": \"latitud\"}, inplace=True)\n",
        "df.rename(columns={\"Longitude\": \"longitud\"}, inplace=True)\n",
        "df.rename(columns={\"Lat_Lon\": \"geoespacial\"}, inplace=True)\n",
        "df.rename(columns={\"PATROL_BORO\": \"nombre_patrulla_suceso\"}, inplace=True)\n",
        "df.rename(columns={\"STATION_NAME\": \"nombre_estacion_transito\"}, inplace=True)\n",
        "df.rename(columns={\"VIC_AGE_GROUP\": \"grupo_edad_victima\"}, inplace=True)\n",
        "df.rename(columns={\"VIC_RACE\": \"raza_victima\"}, inplace=True)\n",
        "df.rename(columns={\"VIC_SEX\": \"sexo_victima\"}, inplace=True)"
      ]
    },
    {
      "cell_type": "markdown",
      "source": [
        "Se elimina codigo de clasificacion y se centra el analisis en el tipo de crimen"
      ],
      "metadata": {
        "id": "Xs_ShQjIe-NS"
      }
    },
    {
      "cell_type": "code",
      "source": [
        "df.drop(columns=[\"nombre_area_suceso\", \"nombre_estacion_transito\", \"distrito_transito\", \n",
        "                 \"nombre_urbanizacion\", \"codigo_nivel_desarrollo\", \n",
        "                 \"codigo_clasificacion\", \"codigo_clasificacion_granular\", \n",
        "                 \"ubicacion_especifica\", \"descripcion_codigo_clasificacion_granular\", \"descripcion_codigo_jurisdiccion\", \"nombre_patrulla_suceso\",\n",
        "                 \"coordenada_x\", \"coordenada_y\"], inplace = True)\n",
        "print(len(df.columns))\n",
        "print(df.columns)"
      ],
      "metadata": {
        "colab": {
          "base_uri": "https://localhost:8080/"
        },
        "id": "PxmV_BOHe0GC",
        "outputId": "4d3bdafd-a20a-4b23-ff60-16097eb00d30"
      },
      "execution_count": 14,
      "outputs": [
        {
          "output_type": "stream",
          "name": "stdout",
          "text": [
            "22\n",
            "Index(['num_denuncia', 'fecha_inicio_suceso', 'hora_inicio_suceso',\n",
            "       'fecha_final_suceso', 'hora_final_suceso', 'direccion_suceso',\n",
            "       'fecha_denuncia', 'descripcion_suceso',\n",
            "       'delito_completado_interrumpido', 'nivel_ofensa', 'distrito',\n",
            "       'descripcion_ubicacion', 'jurisdiccion_encargada',\n",
            "       'grupo_edad_sospechoso', 'raza_sospechoso', 'sexo_sospechoso',\n",
            "       'latitud', 'longitud', 'geoespacial', 'grupo_edad_victima',\n",
            "       'raza_victima', 'sexo_victima'],\n",
            "      dtype='object')\n"
          ]
        }
      ]
    },
    {
      "cell_type": "markdown",
      "source": [
        "descripcion_codigo_jurisdiccion, se elimina ya que en jurisdiccion encargada se agrupa cada ente responsable, nombre_patrulla_suceso se elimina ya que cada patrulla es inherente al Distrito"
      ],
      "metadata": {
        "id": "UlapKXyxj0Qh"
      }
    },
    {
      "cell_type": "code",
      "source": [
        "#NO eliminar \"grupo_edad_sospechoso\", \"grupo_edad_victima\" y darle tratamiento a los nulos y atipicos"
      ],
      "metadata": {
        "id": "NX06fBnGFpVj"
      },
      "execution_count": 15,
      "outputs": []
    },
    {
      "cell_type": "code",
      "source": [
        "df.jurisdiccion_encargada = np.where(df.jurisdiccion_encargada == '0', 'Policia', np.where(df.jurisdiccion_encargada == '1', 'Transito', np.where(df.jurisdiccion_encargada == '2', 'Vivienda', np.where(df.jurisdiccion_encargada == '3', 'Externas', 'Otras'))))"
      ],
      "metadata": {
        "id": "1I3_mzsnghl-"
      },
      "execution_count": 16,
      "outputs": []
    },
    {
      "cell_type": "code",
      "source": [
        "df.jurisdiccion_encargada.value_counts()"
      ],
      "metadata": {
        "colab": {
          "base_uri": "https://localhost:8080/"
        },
        "id": "EdWPG8GphKXX",
        "outputId": "9a6e44c7-a511-4b55-c535-7dffad8bd10b"
      },
      "execution_count": 17,
      "outputs": [
        {
          "output_type": "execute_result",
          "data": {
            "text/plain": [
              "Policia     6542514\n",
              "Vivienda     592248\n",
              "Transito     171607\n",
              "Otras         54165\n",
              "Externas      32633\n",
              "Name: jurisdiccion_encargada, dtype: int64"
            ]
          },
          "metadata": {},
          "execution_count": 17
        }
      ]
    },
    {
      "cell_type": "code",
      "source": [
        "df_dis_precint = df[['distrito', 'direccion_suceso']].groupby(['distrito', 'direccion_suceso']).count().reset_index()\n",
        "df_dis_precint"
      ],
      "metadata": {
        "id": "p9FkDNpdxLWp",
        "colab": {
          "base_uri": "https://localhost:8080/",
          "height": 424
        },
        "outputId": "c1948947-f317-41c5-d89f-93a6666937df"
      },
      "execution_count": 18,
      "outputs": [
        {
          "output_type": "execute_result",
          "data": {
            "text/plain": [
              "          distrito  direccion_suceso\n",
              "0            BRONX               1.0\n",
              "1            BRONX               5.0\n",
              "2            BRONX               6.0\n",
              "3            BRONX               7.0\n",
              "4            BRONX               9.0\n",
              "..             ...               ...\n",
              "380  STATEN ISLAND             115.0\n",
              "381  STATEN ISLAND             120.0\n",
              "382  STATEN ISLAND             121.0\n",
              "383  STATEN ISLAND             122.0\n",
              "384  STATEN ISLAND             123.0\n",
              "\n",
              "[385 rows x 2 columns]"
            ],
            "text/html": [
              "\n",
              "  <div id=\"df-0f60a63d-aeb4-456e-89c8-df9d07a78e52\">\n",
              "    <div class=\"colab-df-container\">\n",
              "      <div>\n",
              "<style scoped>\n",
              "    .dataframe tbody tr th:only-of-type {\n",
              "        vertical-align: middle;\n",
              "    }\n",
              "\n",
              "    .dataframe tbody tr th {\n",
              "        vertical-align: top;\n",
              "    }\n",
              "\n",
              "    .dataframe thead th {\n",
              "        text-align: right;\n",
              "    }\n",
              "</style>\n",
              "<table border=\"1\" class=\"dataframe\">\n",
              "  <thead>\n",
              "    <tr style=\"text-align: right;\">\n",
              "      <th></th>\n",
              "      <th>distrito</th>\n",
              "      <th>direccion_suceso</th>\n",
              "    </tr>\n",
              "  </thead>\n",
              "  <tbody>\n",
              "    <tr>\n",
              "      <th>0</th>\n",
              "      <td>BRONX</td>\n",
              "      <td>1.0</td>\n",
              "    </tr>\n",
              "    <tr>\n",
              "      <th>1</th>\n",
              "      <td>BRONX</td>\n",
              "      <td>5.0</td>\n",
              "    </tr>\n",
              "    <tr>\n",
              "      <th>2</th>\n",
              "      <td>BRONX</td>\n",
              "      <td>6.0</td>\n",
              "    </tr>\n",
              "    <tr>\n",
              "      <th>3</th>\n",
              "      <td>BRONX</td>\n",
              "      <td>7.0</td>\n",
              "    </tr>\n",
              "    <tr>\n",
              "      <th>4</th>\n",
              "      <td>BRONX</td>\n",
              "      <td>9.0</td>\n",
              "    </tr>\n",
              "    <tr>\n",
              "      <th>...</th>\n",
              "      <td>...</td>\n",
              "      <td>...</td>\n",
              "    </tr>\n",
              "    <tr>\n",
              "      <th>380</th>\n",
              "      <td>STATEN ISLAND</td>\n",
              "      <td>115.0</td>\n",
              "    </tr>\n",
              "    <tr>\n",
              "      <th>381</th>\n",
              "      <td>STATEN ISLAND</td>\n",
              "      <td>120.0</td>\n",
              "    </tr>\n",
              "    <tr>\n",
              "      <th>382</th>\n",
              "      <td>STATEN ISLAND</td>\n",
              "      <td>121.0</td>\n",
              "    </tr>\n",
              "    <tr>\n",
              "      <th>383</th>\n",
              "      <td>STATEN ISLAND</td>\n",
              "      <td>122.0</td>\n",
              "    </tr>\n",
              "    <tr>\n",
              "      <th>384</th>\n",
              "      <td>STATEN ISLAND</td>\n",
              "      <td>123.0</td>\n",
              "    </tr>\n",
              "  </tbody>\n",
              "</table>\n",
              "<p>385 rows × 2 columns</p>\n",
              "</div>\n",
              "      <button class=\"colab-df-convert\" onclick=\"convertToInteractive('df-0f60a63d-aeb4-456e-89c8-df9d07a78e52')\"\n",
              "              title=\"Convert this dataframe to an interactive table.\"\n",
              "              style=\"display:none;\">\n",
              "        \n",
              "  <svg xmlns=\"http://www.w3.org/2000/svg\" height=\"24px\"viewBox=\"0 0 24 24\"\n",
              "       width=\"24px\">\n",
              "    <path d=\"M0 0h24v24H0V0z\" fill=\"none\"/>\n",
              "    <path d=\"M18.56 5.44l.94 2.06.94-2.06 2.06-.94-2.06-.94-.94-2.06-.94 2.06-2.06.94zm-11 1L8.5 8.5l.94-2.06 2.06-.94-2.06-.94L8.5 2.5l-.94 2.06-2.06.94zm10 10l.94 2.06.94-2.06 2.06-.94-2.06-.94-.94-2.06-.94 2.06-2.06.94z\"/><path d=\"M17.41 7.96l-1.37-1.37c-.4-.4-.92-.59-1.43-.59-.52 0-1.04.2-1.43.59L10.3 9.45l-7.72 7.72c-.78.78-.78 2.05 0 2.83L4 21.41c.39.39.9.59 1.41.59.51 0 1.02-.2 1.41-.59l7.78-7.78 2.81-2.81c.8-.78.8-2.07 0-2.86zM5.41 20L4 18.59l7.72-7.72 1.47 1.35L5.41 20z\"/>\n",
              "  </svg>\n",
              "      </button>\n",
              "      \n",
              "  <style>\n",
              "    .colab-df-container {\n",
              "      display:flex;\n",
              "      flex-wrap:wrap;\n",
              "      gap: 12px;\n",
              "    }\n",
              "\n",
              "    .colab-df-convert {\n",
              "      background-color: #E8F0FE;\n",
              "      border: none;\n",
              "      border-radius: 50%;\n",
              "      cursor: pointer;\n",
              "      display: none;\n",
              "      fill: #1967D2;\n",
              "      height: 32px;\n",
              "      padding: 0 0 0 0;\n",
              "      width: 32px;\n",
              "    }\n",
              "\n",
              "    .colab-df-convert:hover {\n",
              "      background-color: #E2EBFA;\n",
              "      box-shadow: 0px 1px 2px rgba(60, 64, 67, 0.3), 0px 1px 3px 1px rgba(60, 64, 67, 0.15);\n",
              "      fill: #174EA6;\n",
              "    }\n",
              "\n",
              "    [theme=dark] .colab-df-convert {\n",
              "      background-color: #3B4455;\n",
              "      fill: #D2E3FC;\n",
              "    }\n",
              "\n",
              "    [theme=dark] .colab-df-convert:hover {\n",
              "      background-color: #434B5C;\n",
              "      box-shadow: 0px 1px 3px 1px rgba(0, 0, 0, 0.15);\n",
              "      filter: drop-shadow(0px 1px 2px rgba(0, 0, 0, 0.3));\n",
              "      fill: #FFFFFF;\n",
              "    }\n",
              "  </style>\n",
              "\n",
              "      <script>\n",
              "        const buttonEl =\n",
              "          document.querySelector('#df-0f60a63d-aeb4-456e-89c8-df9d07a78e52 button.colab-df-convert');\n",
              "        buttonEl.style.display =\n",
              "          google.colab.kernel.accessAllowed ? 'block' : 'none';\n",
              "\n",
              "        async function convertToInteractive(key) {\n",
              "          const element = document.querySelector('#df-0f60a63d-aeb4-456e-89c8-df9d07a78e52');\n",
              "          const dataTable =\n",
              "            await google.colab.kernel.invokeFunction('convertToInteractive',\n",
              "                                                     [key], {});\n",
              "          if (!dataTable) return;\n",
              "\n",
              "          const docLinkHtml = 'Like what you see? Visit the ' +\n",
              "            '<a target=\"_blank\" href=https://colab.research.google.com/notebooks/data_table.ipynb>data table notebook</a>'\n",
              "            + ' to learn more about interactive tables.';\n",
              "          element.innerHTML = '';\n",
              "          dataTable['output_type'] = 'display_data';\n",
              "          await google.colab.output.renderOutput(dataTable, element);\n",
              "          const docLink = document.createElement('div');\n",
              "          docLink.innerHTML = docLinkHtml;\n",
              "          element.appendChild(docLink);\n",
              "        }\n",
              "      </script>\n",
              "    </div>\n",
              "  </div>\n",
              "  "
            ]
          },
          "metadata": {},
          "execution_count": 18
        }
      ]
    },
    {
      "cell_type": "code",
      "source": [
        "df_dis_precint = df.groupby(['distrito', 'direccion_suceso'])['num_denuncia'].count().reset_index()\n",
        "\n",
        "# Pivot the data to prepare for plotting\n",
        "pivot_df = df_dis_precint.pivot(index='direccion_suceso', columns='distrito', values='num_denuncia')\n",
        "\n",
        "# Create the bar chart\n",
        "pivot_df.plot(kind='bar', figsize=(18,5), width=0.8)\n",
        "\n",
        "# Add title and axis labels\n",
        "plt.title(\"Number of Unique Complaints per Precinct and Borough\")\n",
        "plt.xlabel(\"Precinct\")\n",
        "plt.ylabel(\"Number of Unique Complaints\")\n",
        "\n",
        "# Show the plot\n",
        "plt.show()"
      ],
      "metadata": {
        "id": "qHZgnbOE1VL_",
        "colab": {
          "base_uri": "https://localhost:8080/",
          "height": 513
        },
        "outputId": "7b4e4dae-3139-49e6-d383-978e624c7692"
      },
      "execution_count": 19,
      "outputs": [
        {
          "output_type": "display_data",
          "data": {
            "text/plain": [
              "<Figure size 1800x500 with 1 Axes>"
            ],
            "image/png": "[encoded data removed]"
          },
          "metadata": {}
        }
      ]
    },
    {
      "cell_type": "code",
      "source": [
        "df.columns"
      ],
      "metadata": {
        "colab": {
          "base_uri": "https://localhost:8080/"
        },
        "id": "jCuDhNbVlI0h",
        "outputId": "d998790a-f521-458b-a650-8ad938e6ea16"
      },
      "execution_count": 20,
      "outputs": [
        {
          "output_type": "execute_result",
          "data": {
            "text/plain": [
              "Index(['num_denuncia', 'fecha_inicio_suceso', 'hora_inicio_suceso',\n",
              "       'fecha_final_suceso', 'hora_final_suceso', 'direccion_suceso',\n",
              "       'fecha_denuncia', 'descripcion_suceso',\n",
              "       'delito_completado_interrumpido', 'nivel_ofensa', 'distrito',\n",
              "       'descripcion_ubicacion', 'jurisdiccion_encargada',\n",
              "       'grupo_edad_sospechoso', 'raza_sospechoso', 'sexo_sospechoso',\n",
              "       'latitud', 'longitud', 'geoespacial', 'grupo_edad_victima',\n",
              "       'raza_victima', 'sexo_victima'],\n",
              "      dtype='object')"
            ]
          },
          "metadata": {},
          "execution_count": 20
        }
      ]
    },
    {
      "cell_type": "markdown",
      "source": [
        "Dado que las variables de edad contienen ruido, para evitar perder informaciíon en otras columnas se reemplaza por edad 'desconocida' pues tiene sentido que muchas de las denuncias (crimenes) no haya una descripción exacta de dichas personas."
      ],
      "metadata": {
        "id": "fyNTPs4vn2XA"
      }
    },
    {
      "cell_type": "code",
      "source": [
        "mask1 = ~df.grupo_edad_sospechoso.isin(['25-44', '18-44', '<18', '45-64'])\n",
        "df.grupo_edad_sospechoso = np.where(mask1, \"UNKNOWN\", df.grupo_edad_sospechoso)"
      ],
      "metadata": {
        "id": "bdnVUX9fncU6"
      },
      "execution_count": 21,
      "outputs": []
    },
    {
      "cell_type": "code",
      "source": [
        "mask2 = ~df.grupo_edad_victima.isin(['25-44', '18-44', '<18', '45-64'])\n",
        "df.grupo_edad_victima = np.where(mask2, \"UNKNOWN\", df.grupo_edad_victima)"
      ],
      "metadata": {
        "id": "QvWlm2e2likv"
      },
      "execution_count": 22,
      "outputs": []
    },
    {
      "cell_type": "code",
      "source": [
        "df.raza_victima.value_counts()\n",
        "df.raza_victima = np.where(df.raza_victima == 'OTHER', 'UNKNOWN', np.where(df.raza_victima == 'BLACK HISPANIC', 'BLACK', np.where(df.raza_victima == 'WHITE HISPANIC', 'WHITE', df.raza_victima)))"
      ],
      "metadata": {
        "id": "Qch6SN0IoF6g"
      },
      "execution_count": 23,
      "outputs": []
    },
    {
      "cell_type": "code",
      "source": [
        "df.raza_victima.value_counts()"
      ],
      "metadata": {
        "colab": {
          "base_uri": "https://localhost:8080/"
        },
        "id": "pGN_JaVMpA4Q",
        "outputId": "24ae813e-f44f-4721-8656-13de37b8a102"
      },
      "execution_count": 24,
      "outputs": [
        {
          "output_type": "execute_result",
          "data": {
            "text/plain": [
              "WHITE                             2561747\n",
              "UNKNOWN                           2222776\n",
              "BLACK                             2117516\n",
              "ASIAN / PACIFIC ISLANDER           456709\n",
              "AMERICAN INDIAN/ALASKAN NATIVE      34332\n",
              "Name: raza_victima, dtype: int64"
            ]
          },
          "metadata": {},
          "execution_count": 24
        }
      ]
    },
    {
      "cell_type": "code",
      "source": [
        "df.sexo_victima \n",
        "mask3 = ~df.sexo_victima.isin(['F', 'M'])\n",
        "df.sexo_victima = np.where(mask3, 'UNKNOWN',  df.sexo_victima)"
      ],
      "metadata": {
        "id": "kuGeYvN7pwrN"
      },
      "execution_count": 25,
      "outputs": []
    },
    {
      "cell_type": "code",
      "source": [
        "df.sexo_sospechoso.value_counts()"
      ],
      "metadata": {
        "colab": {
          "base_uri": "https://localhost:8080/"
        },
        "id": "1RmtUYw_rYGX",
        "outputId": "5b8e0e34-17ff-4651-f9fd-2b200ec85237"
      },
      "execution_count": 26,
      "outputs": [
        {
          "output_type": "execute_result",
          "data": {
            "text/plain": [
              "M    2597067\n",
              "F     812026\n",
              "U     759233\n",
              "Name: sexo_sospechoso, dtype: int64"
            ]
          },
          "metadata": {},
          "execution_count": 26
        }
      ]
    },
    {
      "cell_type": "code",
      "execution_count": 27,
      "metadata": {
        "id": "yK2_-okyhwnL",
        "colab": {
          "base_uri": "https://localhost:8080/"
        },
        "outputId": "1135f6ca-f68e-41e3-c5d1-87e48d504861"
      },
      "outputs": [
        {
          "output_type": "stream",
          "name": "stdout",
          "text": [
            "En promedio, para los hechos en que existe una fecha de finalización de suceso, el promedio de días que toman los hechos es de:   8.91 días\n",
            "Sin embargo, para no entrar en detalle, dado que la misma base lo describe así, la fecha inicio puede ser tomada como la fecha exacta del suceso\n"
          ]
        }
      ],
      "source": [
        "#Esta columna con la idea de mirar en promedio cuántos días pasan entre la fecha en que comienza el hecho y la fecha en que termina.\n",
        "#Para fechas podría no ser relevante para hechos como robos que generalmente duran minutos o hasta segundos.\n",
        "#Para tiempo, podría en algún caso ser últil para la capacidad de reacción de alguna patrulla en lo que identifica un hecho sea porque\n",
        "#hay un sospechoso, en cierta zona, con algunas caracteristicas dada (como edad, raza y sexo) y una posible victima con otras caracterísiticas.\n",
        "\n",
        "#Se remueve una fila que contiene un dato: 1018-09-28\n",
        "#df.drop(df['fecha_inicio_suceso'] == '1018-09-28').index\n",
        "df['fecha_inicio_suceso'] = pd.to_datetime(df['fecha_inicio_suceso'], errors='coerce')\n",
        "df['fecha_final_suceso'] = pd.to_datetime(df['fecha_final_suceso'], errors = 'coerce')\n",
        "\n",
        "df[\"fecha_denuncia\"] = pd.to_datetime(df[\"fecha_denuncia\"], errors = 'coerce')\n",
        "\n",
        "#Considerando que hay NaT en la columna fecha_final_suceso, se van a excluir esas filas y luego con el promedio de días se va a sumar a la fecha_inicio_suceso\n",
        "\n",
        "# calculate the time difference in days for non-null values\n",
        "not_null_mask = pd.notnull(df['fecha_final_suceso']) & pd.notnull(df['fecha_inicio_suceso'])\n",
        "df['diferencia_dias_suceso'] = (df.loc[not_null_mask, 'fecha_final_suceso'] - df.loc[not_null_mask, 'fecha_inicio_suceso']).dt.days\n",
        "\n",
        "# calculate the mean time difference in days for non-null values\n",
        "mean_diferencia_dias_suceso = df['diferencia_dias_suceso'].mean()\n",
        "\n",
        "# print the result\n",
        "print(f\"En promedio, para los hechos en que existe una fecha de finalización de suceso, el promedio de días que toman los hechos es de:  {mean_diferencia_dias_suceso: .2f} días\")\n",
        "print(f\"Sin embargo, para no entrar en detalle, dado que la misma base lo describe así, la fecha inicio puede ser tomada como la fecha exacta del suceso\")"
      ]
    },
    {
      "cell_type": "code",
      "execution_count": 28,
      "metadata": {
        "id": "ASIWYu4rlvHG"
      },
      "outputs": [],
      "source": [
        "df.drop(columns=[\"fecha_final_suceso\",\t\"hora_final_suceso\"], inplace=True)\n",
        "df.rename(columns={\"fecha_inicio_suceso\": \"fecha_suceso\"}, inplace=True)\n",
        "df.rename(columns={\"hora_inicio_suceso\": \"hora_suceso\"}, inplace=True)"
      ]
    },
    {
      "cell_type": "code",
      "execution_count": 29,
      "metadata": {
        "id": "VE-cbbdlsQNU",
        "colab": {
          "base_uri": "https://localhost:8080/"
        },
        "outputId": "63a5636e-d1bc-4abc-dfde-887eec54d93a"
      },
      "outputs": [
        {
          "output_type": "execute_result",
          "data": {
            "text/plain": [
              "(3254767, 21)"
            ]
          },
          "metadata": {},
          "execution_count": 29
        }
      ],
      "source": [
        "df.dropna().shape"
      ]
    },
    {
      "cell_type": "code",
      "execution_count": 30,
      "metadata": {
        "id": "UJ5WXyyiI9GA",
        "colab": {
          "base_uri": "https://localhost:8080/",
          "height": 708
        },
        "outputId": "cee3e773-f2a0-4752-fa99-4a8152c990e6"
      },
      "outputs": [
        {
          "output_type": "execute_result",
          "data": {
            "text/plain": [
              "                                total_nulos  %_nulos\n",
              "sexo_sospechoso                     3224841    43.62\n",
              "raza_sospechoso                     3093507    41.84\n",
              "diferencia_dias_suceso              1325597    17.93\n",
              "descripcion_ubicacion                 27805     0.38\n",
              "descripcion_suceso                    13428     0.18\n",
              "distrito                               4163     0.06\n",
              "longitud                               1400     0.02\n",
              "geoespacial                            1400     0.02\n",
              "latitud                                1400     0.02\n",
              "fecha_suceso                            724     0.01\n",
              "raza_victima                             87     0.00\n",
              "hora_suceso                              39     0.00\n",
              "delito_completado_interrumpido           28     0.00\n",
              "sexo_victima                              0     0.00\n",
              "grupo_edad_victima                        0     0.00\n",
              "num_denuncia                              0     0.00\n",
              "grupo_edad_sospechoso                     0     0.00\n",
              "nivel_ofensa                              0     0.00\n",
              "fecha_denuncia                            0     0.00\n",
              "direccion_suceso                          0     0.00\n",
              "jurisdiccion_encargada                    0     0.00"
            ],
            "text/html": [
              "\n",
              "  <div id=\"df-7606676b-a696-4677-a51c-0ad159ac6702\">\n",
              "    <div class=\"colab-df-container\">\n",
              "      <div>\n",
              "<style scoped>\n",
              "    .dataframe tbody tr th:only-of-type {\n",
              "        vertical-align: middle;\n",
              "    }\n",
              "\n",
              "    .dataframe tbody tr th {\n",
              "        vertical-align: top;\n",
              "    }\n",
              "\n",
              "    .dataframe thead th {\n",
              "        text-align: right;\n",
              "    }\n",
              "</style>\n",
              "<table border=\"1\" class=\"dataframe\">\n",
              "  <thead>\n",
              "    <tr style=\"text-align: right;\">\n",
              "      <th></th>\n",
              "      <th>total_nulos</th>\n",
              "      <th>%_nulos</th>\n",
              "    </tr>\n",
              "  </thead>\n",
              "  <tbody>\n",
              "    <tr>\n",
              "      <th>sexo_sospechoso</th>\n",
              "      <td>3224841</td>\n",
              "      <td>43.62</td>\n",
              "    </tr>\n",
              "    <tr>\n",
              "      <th>raza_sospechoso</th>\n",
              "      <td>3093507</td>\n",
              "      <td>41.84</td>\n",
              "    </tr>\n",
              "    <tr>\n",
              "      <th>diferencia_dias_suceso</th>\n",
              "      <td>1325597</td>\n",
              "      <td>17.93</td>\n",
              "    </tr>\n",
              "    <tr>\n",
              "      <th>descripcion_ubicacion</th>\n",
              "      <td>27805</td>\n",
              "      <td>0.38</td>\n",
              "    </tr>\n",
              "    <tr>\n",
              "      <th>descripcion_suceso</th>\n",
              "      <td>13428</td>\n",
              "      <td>0.18</td>\n",
              "    </tr>\n",
              "    <tr>\n",
              "      <th>distrito</th>\n",
              "      <td>4163</td>\n",
              "      <td>0.06</td>\n",
              "    </tr>\n",
              "    <tr>\n",
              "      <th>longitud</th>\n",
              "      <td>1400</td>\n",
              "      <td>0.02</td>\n",
              "    </tr>\n",
              "    <tr>\n",
              "      <th>geoespacial</th>\n",
              "      <td>1400</td>\n",
              "      <td>0.02</td>\n",
              "    </tr>\n",
              "    <tr>\n",
              "      <th>latitud</th>\n",
              "      <td>1400</td>\n",
              "      <td>0.02</td>\n",
              "    </tr>\n",
              "    <tr>\n",
              "      <th>fecha_suceso</th>\n",
              "      <td>724</td>\n",
              "      <td>0.01</td>\n",
              "    </tr>\n",
              "    <tr>\n",
              "      <th>raza_victima</th>\n",
              "      <td>87</td>\n",
              "      <td>0.00</td>\n",
              "    </tr>\n",
              "    <tr>\n",
              "      <th>hora_suceso</th>\n",
              "      <td>39</td>\n",
              "      <td>0.00</td>\n",
              "    </tr>\n",
              "    <tr>\n",
              "      <th>delito_completado_interrumpido</th>\n",
              "      <td>28</td>\n",
              "      <td>0.00</td>\n",
              "    </tr>\n",
              "    <tr>\n",
              "      <th>sexo_victima</th>\n",
              "      <td>0</td>\n",
              "      <td>0.00</td>\n",
              "    </tr>\n",
              "    <tr>\n",
              "      <th>grupo_edad_victima</th>\n",
              "      <td>0</td>\n",
              "      <td>0.00</td>\n",
              "    </tr>\n",
              "    <tr>\n",
              "      <th>num_denuncia</th>\n",
              "      <td>0</td>\n",
              "      <td>0.00</td>\n",
              "    </tr>\n",
              "    <tr>\n",
              "      <th>grupo_edad_sospechoso</th>\n",
              "      <td>0</td>\n",
              "      <td>0.00</td>\n",
              "    </tr>\n",
              "    <tr>\n",
              "      <th>nivel_ofensa</th>\n",
              "      <td>0</td>\n",
              "      <td>0.00</td>\n",
              "    </tr>\n",
              "    <tr>\n",
              "      <th>fecha_denuncia</th>\n",
              "      <td>0</td>\n",
              "      <td>0.00</td>\n",
              "    </tr>\n",
              "    <tr>\n",
              "      <th>direccion_suceso</th>\n",
              "      <td>0</td>\n",
              "      <td>0.00</td>\n",
              "    </tr>\n",
              "    <tr>\n",
              "      <th>jurisdiccion_encargada</th>\n",
              "      <td>0</td>\n",
              "      <td>0.00</td>\n",
              "    </tr>\n",
              "  </tbody>\n",
              "</table>\n",
              "</div>\n",
              "      <button class=\"colab-df-convert\" onclick=\"convertToInteractive('df-7606676b-a696-4677-a51c-0ad159ac6702')\"\n",
              "              title=\"Convert this dataframe to an interactive table.\"\n",
              "              style=\"display:none;\">\n",
              "        \n",
              "  <svg xmlns=\"http://www.w3.org/2000/svg\" height=\"24px\"viewBox=\"0 0 24 24\"\n",
              "       width=\"24px\">\n",
              "    <path d=\"M0 0h24v24H0V0z\" fill=\"none\"/>\n",
              "    <path d=\"M18.56 5.44l.94 2.06.94-2.06 2.06-.94-2.06-.94-.94-2.06-.94 2.06-2.06.94zm-11 1L8.5 8.5l.94-2.06 2.06-.94-2.06-.94L8.5 2.5l-.94 2.06-2.06.94zm10 10l.94 2.06.94-2.06 2.06-.94-2.06-.94-.94-2.06-.94 2.06-2.06.94z\"/><path d=\"M17.41 7.96l-1.37-1.37c-.4-.4-.92-.59-1.43-.59-.52 0-1.04.2-1.43.59L10.3 9.45l-7.72 7.72c-.78.78-.78 2.05 0 2.83L4 21.41c.39.39.9.59 1.41.59.51 0 1.02-.2 1.41-.59l7.78-7.78 2.81-2.81c.8-.78.8-2.07 0-2.86zM5.41 20L4 18.59l7.72-7.72 1.47 1.35L5.41 20z\"/>\n",
              "  </svg>\n",
              "      </button>\n",
              "      \n",
              "  <style>\n",
              "    .colab-df-container {\n",
              "      display:flex;\n",
              "      flex-wrap:wrap;\n",
              "      gap: 12px;\n",
              "    }\n",
              "\n",
              "    .colab-df-convert {\n",
              "      background-color: #E8F0FE;\n",
              "      border: none;\n",
              "      border-radius: 50%;\n",
              "      cursor: pointer;\n",
              "      display: none;\n",
              "      fill: #1967D2;\n",
              "      height: 32px;\n",
              "      padding: 0 0 0 0;\n",
              "      width: 32px;\n",
              "    }\n",
              "\n",
              "    .colab-df-convert:hover {\n",
              "      background-color: #E2EBFA;\n",
              "      box-shadow: 0px 1px 2px rgba(60, 64, 67, 0.3), 0px 1px 3px 1px rgba(60, 64, 67, 0.15);\n",
              "      fill: #174EA6;\n",
              "    }\n",
              "\n",
              "    [theme=dark] .colab-df-convert {\n",
              "      background-color: #3B4455;\n",
              "      fill: #D2E3FC;\n",
              "    }\n",
              "\n",
              "    [theme=dark] .colab-df-convert:hover {\n",
              "      background-color: #434B5C;\n",
              "      box-shadow: 0px 1px 3px 1px rgba(0, 0, 0, 0.15);\n",
              "      filter: drop-shadow(0px 1px 2px rgba(0, 0, 0, 0.3));\n",
              "      fill: #FFFFFF;\n",
              "    }\n",
              "  </style>\n",
              "\n",
              "      <script>\n",
              "        const buttonEl =\n",
              "          document.querySelector('#df-7606676b-a696-4677-a51c-0ad159ac6702 button.colab-df-convert');\n",
              "        buttonEl.style.display =\n",
              "          google.colab.kernel.accessAllowed ? 'block' : 'none';\n",
              "\n",
              "        async function convertToInteractive(key) {\n",
              "          const element = document.querySelector('#df-7606676b-a696-4677-a51c-0ad159ac6702');\n",
              "          const dataTable =\n",
              "            await google.colab.kernel.invokeFunction('convertToInteractive',\n",
              "                                                     [key], {});\n",
              "          if (!dataTable) return;\n",
              "\n",
              "          const docLinkHtml = 'Like what you see? Visit the ' +\n",
              "            '<a target=\"_blank\" href=https://colab.research.google.com/notebooks/data_table.ipynb>data table notebook</a>'\n",
              "            + ' to learn more about interactive tables.';\n",
              "          element.innerHTML = '';\n",
              "          dataTable['output_type'] = 'display_data';\n",
              "          await google.colab.output.renderOutput(dataTable, element);\n",
              "          const docLink = document.createElement('div');\n",
              "          docLink.innerHTML = docLinkHtml;\n",
              "          element.appendChild(docLink);\n",
              "        }\n",
              "      </script>\n",
              "    </div>\n",
              "  </div>\n",
              "  "
            ]
          },
          "metadata": {},
          "execution_count": 30
        }
      ],
      "source": [
        "#There are missing values for different columns:\n",
        "\n",
        "#df.isna()\n",
        "a = df.isnull().sum().to_frame().sort_values(by=[0], ascending=False)\n",
        "a.rename(columns={0: \"total_nulos\"}, inplace = True)\n",
        "a[\"%_nulos\"] =round(df.apply(lambda x: 1-(x.count()/x.size))*100,2)\n",
        "a\n",
        "#df.style.format(\"{:,.0f}\")"
      ]
    },
    {
      "cell_type": "code",
      "execution_count": 31,
      "metadata": {
        "id": "ibA5m2WhN2oV"
      },
      "outputs": [],
      "source": [
        "threshold = 0.3 # set the threshold to 30%\n",
        "mask = df.isnull().mean(axis=1) > threshold # create a boolean mask\n",
        "rows_with_many_nulls = df[mask] # select rows that meet the condition"
      ]
    },
    {
      "cell_type": "code",
      "execution_count": 32,
      "metadata": {
        "id": "p-Lj4K39ylro",
        "colab": {
          "base_uri": "https://localhost:8080/"
        },
        "outputId": "c507019a-2913-4d7a-cf36-c75e91464dcb"
      },
      "outputs": [
        {
          "output_type": "execute_result",
          "data": {
            "text/plain": [
              "M    2597067\n",
              "F     812026\n",
              "U     759233\n",
              "Name: sexo_sospechoso, dtype: int64"
            ]
          },
          "metadata": {},
          "execution_count": 32
        }
      ],
      "source": [
        "df['sexo_sospechoso'].value_counts()"
      ]
    },
    {
      "cell_type": "code",
      "execution_count": 33,
      "metadata": {
        "id": "HjngEQq1y2oe",
        "colab": {
          "base_uri": "https://localhost:8080/"
        },
        "outputId": "803f31c4-00cc-4ea3-9f79-c02c7c6db9ec"
      },
      "outputs": [
        {
          "output_type": "execute_result",
          "data": {
            "text/plain": [
              "BLACK                             1598025\n",
              "UNKNOWN                           1142361\n",
              "WHITE HISPANIC                     724182\n",
              "WHITE                              462390\n",
              "BLACK HISPANIC                     220804\n",
              "ASIAN / PACIFIC ISLANDER           139247\n",
              "AMERICAN INDIAN/ALASKAN NATIVE      12641\n",
              "OTHER                                  10\n",
              "Name: raza_sospechoso, dtype: int64"
            ]
          },
          "metadata": {},
          "execution_count": 33
        }
      ],
      "source": [
        "df['raza_sospechoso'].value_counts()"
      ]
    },
    {
      "cell_type": "code",
      "execution_count": 34,
      "metadata": {
        "id": "-TdM-CAEPTKf"
      },
      "outputs": [],
      "source": [
        "#sexo_sospechoso y raza_sospechoso, son imputadas y, una vez hecho esto, se elige la muestra para trabajar el ejercicio:\n",
        "\n",
        "df['sexo_sospechoso'] = df['sexo_sospechoso'].fillna('U')\n",
        "df['raza_sospechoso'] = df['raza_sospechoso'].fillna('UNKNOWN')\n",
        "df.drop(columns=[\"diferencia_dias_suceso\"], inplace=True)"
      ]
    },
    {
      "cell_type": "code",
      "execution_count": 35,
      "metadata": {
        "id": "b7mWWAZrXVI8",
        "colab": {
          "base_uri": "https://localhost:8080/"
        },
        "outputId": "e48f9f54-1d10-44c5-96eb-5bedfb1165fb"
      },
      "outputs": [
        {
          "output_type": "stream",
          "name": "stdout",
          "text": [
            "7393167\n"
          ]
        },
        {
          "output_type": "execute_result",
          "data": {
            "text/plain": [
              "(7393167, 20)"
            ]
          },
          "metadata": {},
          "execution_count": 35
        }
      ],
      "source": [
        "print(len(df))\n",
        "df.shape"
      ]
    },
    {
      "cell_type": "code",
      "execution_count": 36,
      "metadata": {
        "id": "TUU9ndBQQ6PP",
        "colab": {
          "base_uri": "https://localhost:8080/",
          "height": 677
        },
        "outputId": "866f673f-5dce-4167-ad96-4a260768f615"
      },
      "outputs": [
        {
          "output_type": "execute_result",
          "data": {
            "text/plain": [
              "                                total_nulos  %_nulos\n",
              "descripcion_ubicacion                 27805     0.38\n",
              "descripcion_suceso                    13428     0.18\n",
              "distrito                               4163     0.06\n",
              "geoespacial                            1400     0.02\n",
              "longitud                               1400     0.02\n",
              "latitud                                1400     0.02\n",
              "fecha_suceso                            724     0.01\n",
              "raza_victima                             87     0.00\n",
              "hora_suceso                              39     0.00\n",
              "delito_completado_interrumpido           28     0.00\n",
              "num_denuncia                              0     0.00\n",
              "sexo_sospechoso                           0     0.00\n",
              "grupo_edad_victima                        0     0.00\n",
              "jurisdiccion_encargada                    0     0.00\n",
              "raza_sospechoso                           0     0.00\n",
              "grupo_edad_sospechoso                     0     0.00\n",
              "nivel_ofensa                              0     0.00\n",
              "fecha_denuncia                            0     0.00\n",
              "direccion_suceso                          0     0.00\n",
              "sexo_victima                              0     0.00"
            ],
            "text/html": [
              "\n",
              "  <div id=\"df-1fc12c93-501b-42bc-89ac-d341490c449c\">\n",
              "    <div class=\"colab-df-container\">\n",
              "      <div>\n",
              "<style scoped>\n",
              "    .dataframe tbody tr th:only-of-type {\n",
              "        vertical-align: middle;\n",
              "    }\n",
              "\n",
              "    .dataframe tbody tr th {\n",
              "        vertical-align: top;\n",
              "    }\n",
              "\n",
              "    .dataframe thead th {\n",
              "        text-align: right;\n",
              "    }\n",
              "</style>\n",
              "<table border=\"1\" class=\"dataframe\">\n",
              "  <thead>\n",
              "    <tr style=\"text-align: right;\">\n",
              "      <th></th>\n",
              "      <th>total_nulos</th>\n",
              "      <th>%_nulos</th>\n",
              "    </tr>\n",
              "  </thead>\n",
              "  <tbody>\n",
              "    <tr>\n",
              "      <th>descripcion_ubicacion</th>\n",
              "      <td>27805</td>\n",
              "      <td>0.38</td>\n",
              "    </tr>\n",
              "    <tr>\n",
              "      <th>descripcion_suceso</th>\n",
              "      <td>13428</td>\n",
              "      <td>0.18</td>\n",
              "    </tr>\n",
              "    <tr>\n",
              "      <th>distrito</th>\n",
              "      <td>4163</td>\n",
              "      <td>0.06</td>\n",
              "    </tr>\n",
              "    <tr>\n",
              "      <th>geoespacial</th>\n",
              "      <td>1400</td>\n",
              "      <td>0.02</td>\n",
              "    </tr>\n",
              "    <tr>\n",
              "      <th>longitud</th>\n",
              "      <td>1400</td>\n",
              "      <td>0.02</td>\n",
              "    </tr>\n",
              "    <tr>\n",
              "      <th>latitud</th>\n",
              "      <td>1400</td>\n",
              "      <td>0.02</td>\n",
              "    </tr>\n",
              "    <tr>\n",
              "      <th>fecha_suceso</th>\n",
              "      <td>724</td>\n",
              "      <td>0.01</td>\n",
              "    </tr>\n",
              "    <tr>\n",
              "      <th>raza_victima</th>\n",
              "      <td>87</td>\n",
              "      <td>0.00</td>\n",
              "    </tr>\n",
              "    <tr>\n",
              "      <th>hora_suceso</th>\n",
              "      <td>39</td>\n",
              "      <td>0.00</td>\n",
              "    </tr>\n",
              "    <tr>\n",
              "      <th>delito_completado_interrumpido</th>\n",
              "      <td>28</td>\n",
              "      <td>0.00</td>\n",
              "    </tr>\n",
              "    <tr>\n",
              "      <th>num_denuncia</th>\n",
              "      <td>0</td>\n",
              "      <td>0.00</td>\n",
              "    </tr>\n",
              "    <tr>\n",
              "      <th>sexo_sospechoso</th>\n",
              "      <td>0</td>\n",
              "      <td>0.00</td>\n",
              "    </tr>\n",
              "    <tr>\n",
              "      <th>grupo_edad_victima</th>\n",
              "      <td>0</td>\n",
              "      <td>0.00</td>\n",
              "    </tr>\n",
              "    <tr>\n",
              "      <th>jurisdiccion_encargada</th>\n",
              "      <td>0</td>\n",
              "      <td>0.00</td>\n",
              "    </tr>\n",
              "    <tr>\n",
              "      <th>raza_sospechoso</th>\n",
              "      <td>0</td>\n",
              "      <td>0.00</td>\n",
              "    </tr>\n",
              "    <tr>\n",
              "      <th>grupo_edad_sospechoso</th>\n",
              "      <td>0</td>\n",
              "      <td>0.00</td>\n",
              "    </tr>\n",
              "    <tr>\n",
              "      <th>nivel_ofensa</th>\n",
              "      <td>0</td>\n",
              "      <td>0.00</td>\n",
              "    </tr>\n",
              "    <tr>\n",
              "      <th>fecha_denuncia</th>\n",
              "      <td>0</td>\n",
              "      <td>0.00</td>\n",
              "    </tr>\n",
              "    <tr>\n",
              "      <th>direccion_suceso</th>\n",
              "      <td>0</td>\n",
              "      <td>0.00</td>\n",
              "    </tr>\n",
              "    <tr>\n",
              "      <th>sexo_victima</th>\n",
              "      <td>0</td>\n",
              "      <td>0.00</td>\n",
              "    </tr>\n",
              "  </tbody>\n",
              "</table>\n",
              "</div>\n",
              "      <button class=\"colab-df-convert\" onclick=\"convertToInteractive('df-1fc12c93-501b-42bc-89ac-d341490c449c')\"\n",
              "              title=\"Convert this dataframe to an interactive table.\"\n",
              "              style=\"display:none;\">\n",
              "        \n",
              "  <svg xmlns=\"http://www.w3.org/2000/svg\" height=\"24px\"viewBox=\"0 0 24 24\"\n",
              "       width=\"24px\">\n",
              "    <path d=\"M0 0h24v24H0V0z\" fill=\"none\"/>\n",
              "    <path d=\"M18.56 5.44l.94 2.06.94-2.06 2.06-.94-2.06-.94-.94-2.06-.94 2.06-2.06.94zm-11 1L8.5 8.5l.94-2.06 2.06-.94-2.06-.94L8.5 2.5l-.94 2.06-2.06.94zm10 10l.94 2.06.94-2.06 2.06-.94-2.06-.94-.94-2.06-.94 2.06-2.06.94z\"/><path d=\"M17.41 7.96l-1.37-1.37c-.4-.4-.92-.59-1.43-.59-.52 0-1.04.2-1.43.59L10.3 9.45l-7.72 7.72c-.78.78-.78 2.05 0 2.83L4 21.41c.39.39.9.59 1.41.59.51 0 1.02-.2 1.41-.59l7.78-7.78 2.81-2.81c.8-.78.8-2.07 0-2.86zM5.41 20L4 18.59l7.72-7.72 1.47 1.35L5.41 20z\"/>\n",
              "  </svg>\n",
              "      </button>\n",
              "      \n",
              "  <style>\n",
              "    .colab-df-container {\n",
              "      display:flex;\n",
              "      flex-wrap:wrap;\n",
              "      gap: 12px;\n",
              "    }\n",
              "\n",
              "    .colab-df-convert {\n",
              "      background-color: #E8F0FE;\n",
              "      border: none;\n",
              "      border-radius: 50%;\n",
              "      cursor: pointer;\n",
              "      display: none;\n",
              "      fill: #1967D2;\n",
              "      height: 32px;\n",
              "      padding: 0 0 0 0;\n",
              "      width: 32px;\n",
              "    }\n",
              "\n",
              "    .colab-df-convert:hover {\n",
              "      background-color: #E2EBFA;\n",
              "      box-shadow: 0px 1px 2px rgba(60, 64, 67, 0.3), 0px 1px 3px 1px rgba(60, 64, 67, 0.15);\n",
              "      fill: #174EA6;\n",
              "    }\n",
              "\n",
              "    [theme=dark] .colab-df-convert {\n",
              "      background-color: #3B4455;\n",
              "      fill: #D2E3FC;\n",
              "    }\n",
              "\n",
              "    [theme=dark] .colab-df-convert:hover {\n",
              "      background-color: #434B5C;\n",
              "      box-shadow: 0px 1px 3px 1px rgba(0, 0, 0, 0.15);\n",
              "      filter: drop-shadow(0px 1px 2px rgba(0, 0, 0, 0.3));\n",
              "      fill: #FFFFFF;\n",
              "    }\n",
              "  </style>\n",
              "\n",
              "      <script>\n",
              "        const buttonEl =\n",
              "          document.querySelector('#df-1fc12c93-501b-42bc-89ac-d341490c449c button.colab-df-convert');\n",
              "        buttonEl.style.display =\n",
              "          google.colab.kernel.accessAllowed ? 'block' : 'none';\n",
              "\n",
              "        async function convertToInteractive(key) {\n",
              "          const element = document.querySelector('#df-1fc12c93-501b-42bc-89ac-d341490c449c');\n",
              "          const dataTable =\n",
              "            await google.colab.kernel.invokeFunction('convertToInteractive',\n",
              "                                                     [key], {});\n",
              "          if (!dataTable) return;\n",
              "\n",
              "          const docLinkHtml = 'Like what you see? Visit the ' +\n",
              "            '<a target=\"_blank\" href=https://colab.research.google.com/notebooks/data_table.ipynb>data table notebook</a>'\n",
              "            + ' to learn more about interactive tables.';\n",
              "          element.innerHTML = '';\n",
              "          dataTable['output_type'] = 'display_data';\n",
              "          await google.colab.output.renderOutput(dataTable, element);\n",
              "          const docLink = document.createElement('div');\n",
              "          docLink.innerHTML = docLinkHtml;\n",
              "          element.appendChild(docLink);\n",
              "        }\n",
              "      </script>\n",
              "    </div>\n",
              "  </div>\n",
              "  "
            ]
          },
          "metadata": {},
          "execution_count": 36
        }
      ],
      "source": [
        "#There are missing values for different columns:\n",
        "\n",
        "#df.isna()\n",
        "a = df.isnull().sum().to_frame().sort_values(by=[0], ascending=False)\n",
        "a.rename(columns={0: \"total_nulos\"}, inplace = True)\n",
        "a[\"%_nulos\"] =round(df.apply(lambda x: 1-(x.count()/x.size))*100,2)\n",
        "a\n",
        "#df.style.format(\"{:,.0f}\")"
      ]
    },
    {
      "cell_type": "code",
      "execution_count": 37,
      "metadata": {
        "id": "L_C3Ri6YQ6DC"
      },
      "outputs": [],
      "source": [
        "threshold = 0.3 # set the threshold to 30%\n",
        "mask = df.isnull().mean(axis=1) > threshold # create a boolean mask\n",
        "rows_with_many_nulls = df[mask] # select rows that meet the condition"
      ]
    },
    {
      "cell_type": "code",
      "execution_count": 38,
      "metadata": {
        "id": "WT-cOyP1Q5xq",
        "colab": {
          "base_uri": "https://localhost:8080/"
        },
        "outputId": "c2150880-5cf0-4d83-84cd-f00196e4db6f"
      },
      "outputs": [
        {
          "output_type": "stream",
          "name": "stdout",
          "text": [
            "0\n"
          ]
        }
      ],
      "source": [
        "print(len(rows_with_many_nulls))"
      ]
    },
    {
      "cell_type": "code",
      "execution_count": 39,
      "metadata": {
        "id": "sJ_ObdCdW0qM",
        "colab": {
          "base_uri": "https://localhost:8080/"
        },
        "outputId": "4a1c63dc-ab85-40d5-98e2-f8dae3d73f0d"
      },
      "outputs": [
        {
          "output_type": "stream",
          "name": "stdout",
          "text": [
            "(7345635, 20)\n",
            "7345635\n"
          ]
        }
      ],
      "source": [
        "df_not_na = df.dropna()\n",
        "print(df_not_na.shape)\n",
        "print(len(df_not_na))"
      ]
    },
    {
      "cell_type": "markdown",
      "source": [
        "A continuación se generan agrupaciones para las categorías principales: lugar y tipo de crimen"
      ],
      "metadata": {
        "id": "CokctKKT5gny"
      }
    },
    {
      "cell_type": "code",
      "execution_count": 40,
      "metadata": {
        "id": "iv191nt2xzs3"
      },
      "outputs": [],
      "source": [
        "dic_crimenes = {'CRIMINAL MISCHIEF & RELATED OF' : 'Orden publico', \n",
        "'PETIT LARCENY': 'Robos y hurtos',\n",
        "'OFF. AGNST PUB ORD SENSBLTY &' : 'Orden publico', \n",
        "'FORGERY' : 'Fraude', \n",
        "'DANGEROUS WEAPONS' : 'Armas',\n",
        "'ASSAULT 3 & RELATED OFFENSES' : 'Delito mayor', \n",
        "'FELONY ASSAULT': 'Delito mayor', \n",
        "'GRAND LARCENY' : 'Robos y hurtos',\n",
        "'OFFENSES AGAINST PUBLIC ADMINI' : 'Orden publico', \n",
        "'ROBBERY' : 'Robos y hurtos', \n",
        "'HARRASSMENT 2' : 'Acoso',\n",
        "'DANGEROUS DRUGS' : 'Trafico de drogas', \n",
        "'SEX CRIMES' : 'Crimenes sexuales', \n",
        "'VEHICLE AND TRAFFIC LAWS' : 'Leyes de transito',\n",
        "'OTHER OFFENSES RELATED TO THEF': 'Robos y hurtos', \n",
        "'CRIMINAL TRESPASS' : 'Robos y hurtos',\n",
        "'OFFENSES AGAINST THE PERSON' : 'Acoso', \n",
        "'BURGLARY' : 'Robos y hurtos',\n",
        "'POSSESSION OF STOLEN PROPERTY' : 'Delito mayor', \n",
        "'MISCELLANEOUS PENAL LAW' : 'Crimen fallido',\n",
        "'ARSON' : 'Orden publico', \n",
        "'GRAND LARCENY OF MOTOR VEHICLE' : 'Robos y hurtos', \n",
        "'RAPE' : 'Crimenes sexuales',\n",
        "'OFFENSES INVOLVING FRAUD' : 'Fraude', \n",
        "'INTOXICATED & IMPAIRED DRIVING' : 'Leyes de transito',\n",
        "'UNAUTHORIZED USE OF A VEHICLE' : 'Leyes de transito', \n",
        "'NYS LAWS-UNCLASSIFIED FELONY' : 'Delito menor',\n",
        "'OTHER STATE LAWS (NON PENAL LA' : 'Delito menor', \n",
        "'FRAUDS' : 'Fraude', \n",
        "'THEFT-FRAUD' : 'Robos y hurtos',\n",
        "'ADMINISTRATIVE CODE' : 'Delitos administrativos', \n",
        "'nan': 'Otros crimenes', \n",
        "'OFFENSES AGAINST PUBLIC SAFETY' : 'Orden publico',\n",
        "'DISORDERLY CONDUCT' : 'Orden publico', \n",
        "'ANTICIPATORY OFFENSES' : 'Concierto para delinquir', \n",
        "'JOSTLING' : 'Riñas',\n",
        "'KIDNAPPING & RELATED OFFENSES' : 'Secuestro y relacionados', \n",
        "'MURDER & NON-NEGL. MANSLAUGHTER' : 'Homicidio',\n",
        "'ALCOHOLIC BEVERAGE CONTROL LAW' : 'Orden publico', \n",
        "'THEFT OF SERVICES' : 'Robos y hurtos',\n",
        "\"BURGLAR'S TOOLS\" : 'Robos y hurtos', \n",
        "'FRAUDULENT ACCOSTING': 'Fraude', \n",
        "'GAMBLING' : 'Fraude',\n",
        "'PETIT LARCENY OF MOTOR VEHICLE' : 'Robos y hurtos',\n",
        "'AGRICULTURE & MRKTS LAW-UNCLASSIFIED' : 'Orden publico',\n",
        "'PROSTITUTION & RELATED OFFENSES' : 'Crimenes sexuales', \n",
        "'CHILD ABANDONMENT/NON SUPPORT' : 'Crimenes sexuales',\n",
        "'OFFENSES RELATED TO CHILDREN' : 'Crimenes sexuales', \n",
        "'ENDAN WELFARE INCOMP' : 'Acoso', \n",
        "'ABORTION' : 'Crimenes sexuales',\n",
        "'NYS LAWS-UNCLASSIFIED VIOLATION': 'Crimenes sexuales', \n",
        "'OTHER STATE LAWS': 'Otros crimenes',\n",
        "'INTOXICATED/IMPAIRED DRIVING' : 'Leyes de transito', \n",
        "'KIDNAPPING' : 'Secuestro y relacionados', \n",
        "'ESCAPE 3' : 'Fuga',\n",
        "'HOMICIDE-NEGLIGENT,UNCLASSIFIE' : 'Homicidio', \n",
        "'LOITERING/GAMBLING (CARDS, DIC' : 'Fraude',\n",
        "'NEW YORK CITY HEALTH CODE' : 'Salud Publica', \n",
        "'UNLAWFUL POSS. WEAP. ON SCHOOL' : 'Armas',\n",
        "'UNDER THE INFLUENCE OF DRUGS' : 'Orden publico', \n",
        "'HOMICIDE-NEGLIGENT-VEHICLE' : 'Leyes de transito',\n",
        "'OTHER TRAFFIC INFRACTION' : 'Leyes de transito', \n",
        "'ADMINISTRATIVE CODES' : 'Delitos administrativos',\n",
        "'OTHER STATE LAWS (NON PENAL LAW)' : 'Otros crimenes',\n",
        "'DISRUPTION OF A RELIGIOUS SERV' : 'Orden publico', \n",
        "'FELONY SEX CRIMES' : 'Crimenes sexuales',\n",
        "'OFFENSES AGAINST MARRIAGE UNCL' : 'Crimenes sexuales', \n",
        "'FORTUNE TELLING' : 'Fraude',\n",
        "'KIDNAPPING AND RELATED OFFENSES' : 'Secuestro y relacionados', \n",
        "'LOITERING' : 'Fraude',\n",
        "'LOITERING FOR DRUG PURPOSES' : 'Trafico de drogas', \n",
        "'LOITERING/DEVIATE SEX' : 'Crimenes sexuales'}\n",
        "\n",
        "dic_location = {'PARKING LOT/GARAGE (PUBLIC)' : 'Parqueadero', \n",
        "'DEPARTMENT STORE' : 'Zona de comercio',\n",
        " 'STREET' : 'Calle',\n",
        " 'RESIDENCE - APT. HOUSE' : 'Zona residencial', \n",
        "'CHAIN STORE' : 'Zona de comercio',\n",
        " 'TRANSIT - NYC SUBWAY' : 'Transporte publico',\n",
        " 'FAST FOOD' : 'Restaurante',\n",
        " 'RESIDENCE-HOUSE' : 'Zona residencial',\n",
        " 'BAR/NIGHT CLUB' : 'club nocturno', \n",
        "'MAILBOX OUTSIDE' : 'Zona residencial', \n",
        "'STORAGE FACILITY' : 'Bodega',\n",
        " 'TELECOMM. STORE' : 'Zona de comercio', \n",
        "'GROCERY/BODEGA' : 'Bodega', \n",
        "'DRUG STORE' : 'Zona de comercio',\n",
        " 'RESIDENCE - PUBLIC HOUSING' : 'Zona residencial', \n",
        "'SMALL MERCHANT' : 'Zona de comercio', \n",
        "'COMMERCIAL BUILDING': 'Zona de comercio',\n",
        " 'OTHER': 'Otros', \n",
        "'FOOD SUPERMARKET': 'Restaurante', \n",
        "'RESTAURANT/DINER': 'Restaurante', \n",
        "'ABANDONED BUILDING' : 'Edificio abandonado',\n",
        " 'LIQUOR STORE' : 'Licorera', \n",
        "'DOCTOR/DENTIST OFFICE' : 'Servicios de salud', \n",
        "'nan' : 'No registrado', \n",
        "'AIRPORT TERMINAL' : 'Transporte publico',\n",
        " 'DRY CLEANER/LAUNDRY' : 'Zona de comercio', \n",
        "'CLOTHING/BOUTIQUE' : 'Zona de comercio', \n",
        "'MOSQUE' : 'Templo religioso', \n",
        "'HIGHWAY/PARKWAY' : 'Calle',\n",
        " 'PARKING LOT/GARAGE (PRIVATE)' : 'Parqueadero', \n",
        "'PARK/PLAYGROUND' : 'Parque', \n",
        "'BANK' : 'Servicios financieros',\n",
        " 'BUS (NYC TRANSIT)' : 'Transporte publico', \n",
        "'JEWELRY' : 'Zona de comercio', \n",
        "'GYM/FITNESS FACILITY' : 'Zona de comercio', \n",
        "'HOSPITAL' : 'Servicios de salud',\n",
        " 'PRIVATE/PAROCHIAL SCHOOL' : 'Institucion educativa', \n",
        "'STORE UNCLASSIFIED' : 'Zona de comercio', \n",
        "'HOTEL/MOTEL' : 'Hotel',\n",
        " 'PUBLIC SCHOOL' : 'Institucion educativa', \n",
        "'GAS STATION' : 'Zona de comercio', \n",
        "'TUNNEL' : 'Calle', \n",
        "'CHURCH': 'Templo religioso', \n",
        "'PUBLIC BUILDING': 'Centros publicos',\n",
        " 'CONSTRUCTION SITE' : 'Construccion', \n",
        "'BEAUTY & NAIL SALON' : 'Zona de comercio', \n",
        "'BUS (OTHER)' : 'Transporte publico',\n",
        " 'OPEN AREAS (OPEN LOTS)' : 'Parque', \n",
        "'MARINA/PIER' : 'Muelle', \n",
        "'ATM' : 'Servicios financieros', \n",
        "'SHOE' : 'Zona de comercio', \n",
        "'VARIETY STORE' : 'Zona de comercio',\n",
        " 'CHECK CASHING BUSINESS' : 'Servicios financieros', \n",
        "'TAXI (YELLOW LICENSED)' : 'Transporte publico', \n",
        "'SOCIAL CLUB/POLICY' : 'club nocturno',\n",
        " 'TAXI (LIVERY LICENSED)' : 'Transporte publico', \n",
        "'CANDY STORE' : 'Zona de comercio', \n",
        "'FERRY/FERRY TERMINAL' : 'Transporte publico',\n",
        " 'TRANSIT FACILITY (OTHER)' : 'Transporte publico', \n",
        "'BUS TERMINAL' : 'Transporte publico', \n",
        "'TAXI/LIVERY (UNLICENSED)' : 'Transporte publico',\n",
        " 'BUS STOP' : 'Transporte publico', \n",
        "'FACTORY/WAREHOUSE' : 'Bodega', \n",
        "'PHOTO/COPY' : 'Zona de comercio', \n",
        "'BRIDGE' : 'Calle', \n",
        "'MAILBOX INSIDE' : 'Zona residencial',\n",
        "'BOOK/CARD' : 'Zona de comercio', \n",
        "'OTHER HOUSE OF WORSHIP' : 'Templo religioso', \n",
        "'SYNAGOGUE' : 'Templo religioso', \n",
        "'VIDEO STORE' : 'Zona de comercio',\n",
        "'LOAN COMPANY' : 'Servicios financieros', \n",
        "'CEMETERY' : 'Centros publicos',\n",
        "'TRAMWAY' : 'Transporte publico',\n",
        "'HOMELESS SHELTER' : 'Calle', \n",
        "'DAYCARE FACILITY' : 'Institucion educativa'}"
      ]
    },
    {
      "cell_type": "code",
      "execution_count": 41,
      "metadata": {
        "id": "Nz-gcyz0fYKy",
        "colab": {
          "base_uri": "https://localhost:8080/"
        },
        "outputId": "72a8275d-a6cb-4215-dfd5-4ade92330c63"
      },
      "outputs": [
        {
          "output_type": "stream",
          "name": "stdout",
          "text": [
            "71\n"
          ]
        }
      ],
      "source": [
        "a = df[\"descripcion_suceso\"].drop_duplicates()\n",
        "print(len(a.unique()))"
      ]
    },
    {
      "cell_type": "code",
      "source": [
        "df[\"descripcion_suceso\"].value_counts()"
      ],
      "metadata": {
        "id": "7LKOrzoenFCm",
        "colab": {
          "base_uri": "https://localhost:8080/"
        },
        "outputId": "fd638c63-8289-4aba-875f-e4599a913f48"
      },
      "execution_count": 42,
      "outputs": [
        {
          "output_type": "execute_result",
          "data": {
            "text/plain": [
              "PETIT LARCENY                      1240593\n",
              "HARRASSMENT 2                      1014645\n",
              "ASSAULT 3 & RELATED OFFENSES        809920\n",
              "CRIMINAL MISCHIEF & RELATED OF      744122\n",
              "GRAND LARCENY                       658035\n",
              "                                    ...   \n",
              "OTHER TRAFFIC INFRACTION                 8\n",
              "ABORTION                                 7\n",
              "OFFENSES AGAINST MARRIAGE UNCL           5\n",
              "KIDNAPPING AND RELATED OFFENSES          3\n",
              "UNDER THE INFLUENCE OF DRUGS             3\n",
              "Name: descripcion_suceso, Length: 70, dtype: int64"
            ]
          },
          "metadata": {},
          "execution_count": 42
        }
      ]
    },
    {
      "cell_type": "code",
      "execution_count": 43,
      "metadata": {
        "id": "7cWlX_7bfr3H",
        "colab": {
          "base_uri": "https://localhost:8080/"
        },
        "outputId": "41664741-7aa7-4e38-ab2f-a3ab0534b7bf"
      },
      "outputs": [
        {
          "output_type": "stream",
          "name": "stdout",
          "text": [
            "75\n"
          ]
        }
      ],
      "source": [
        "b = df[\"descripcion_ubicacion\"].drop_duplicates()\n",
        "print(len(b.unique()))"
      ]
    },
    {
      "cell_type": "code",
      "execution_count": 44,
      "metadata": {
        "id": "xsd07e7DoiXG"
      },
      "outputs": [],
      "source": [
        "df[\"tipo_crimen\"]=df[\"descripcion_suceso\"].replace(dic_crimenes)\n",
        "df[\"lugar\"]=df[\"descripcion_ubicacion\"].replace(dic_location)"
      ]
    },
    {
      "cell_type": "code",
      "source": [
        "df[\"tipo_crimen\"].value_counts().to_frame()"
      ],
      "metadata": {
        "id": "528--ctPsNfF",
        "colab": {
          "base_uri": "https://localhost:8080/",
          "height": 645
        },
        "outputId": "1b5bd567-2f79-4322-f8b0-d277d9bf57d6"
      },
      "execution_count": 45,
      "outputs": [
        {
          "output_type": "execute_result",
          "data": {
            "text/plain": [
              "                          tipo_crimen\n",
              "Robos y hurtos                2754037\n",
              "Orden publico                 1292748\n",
              "Delito mayor                  1145454\n",
              "Acoso                         1032510\n",
              "Trafico de drogas              341671\n",
              "Crimen fallido                 192253\n",
              "Leyes de transito              189183\n",
              "Armas                          140377\n",
              "Fraude                         139351\n",
              "Crimenes sexuales              119689\n",
              "Delitos administrativos         16481\n",
              "Delito menor                    11696\n",
              "Secuestro y relacionados         3007\n",
              "Riñas                             440\n",
              "Otros crimenes                    267\n",
              "Fuga                              191\n",
              "Homicidio                         175\n",
              "Concierto para delinquir          126\n",
              "Salud Publica                      83"
            ],
            "text/html": [
              "\n",
              "  <div id=\"df-cb4d3369-89ea-4b2d-ba84-01c821d340df\">\n",
              "    <div class=\"colab-df-container\">\n",
              "      <div>\n",
              "<style scoped>\n",
              "    .dataframe tbody tr th:only-of-type {\n",
              "        vertical-align: middle;\n",
              "    }\n",
              "\n",
              "    .dataframe tbody tr th {\n",
              "        vertical-align: top;\n",
              "    }\n",
              "\n",
              "    .dataframe thead th {\n",
              "        text-align: right;\n",
              "    }\n",
              "</style>\n",
              "<table border=\"1\" class=\"dataframe\">\n",
              "  <thead>\n",
              "    <tr style=\"text-align: right;\">\n",
              "      <th></th>\n",
              "      <th>tipo_crimen</th>\n",
              "    </tr>\n",
              "  </thead>\n",
              "  <tbody>\n",
              "    <tr>\n",
              "      <th>Robos y hurtos</th>\n",
              "      <td>2754037</td>\n",
              "    </tr>\n",
              "    <tr>\n",
              "      <th>Orden publico</th>\n",
              "      <td>1292748</td>\n",
              "    </tr>\n",
              "    <tr>\n",
              "      <th>Delito mayor</th>\n",
              "      <td>1145454</td>\n",
              "    </tr>\n",
              "    <tr>\n",
              "      <th>Acoso</th>\n",
              "      <td>1032510</td>\n",
              "    </tr>\n",
              "    <tr>\n",
              "      <th>Trafico de drogas</th>\n",
              "      <td>341671</td>\n",
              "    </tr>\n",
              "    <tr>\n",
              "      <th>Crimen fallido</th>\n",
              "      <td>192253</td>\n",
              "    </tr>\n",
              "    <tr>\n",
              "      <th>Leyes de transito</th>\n",
              "      <td>189183</td>\n",
              "    </tr>\n",
              "    <tr>\n",
              "      <th>Armas</th>\n",
              "      <td>140377</td>\n",
              "    </tr>\n",
              "    <tr>\n",
              "      <th>Fraude</th>\n",
              "      <td>139351</td>\n",
              "    </tr>\n",
              "    <tr>\n",
              "      <th>Crimenes sexuales</th>\n",
              "      <td>119689</td>\n",
              "    </tr>\n",
              "    <tr>\n",
              "      <th>Delitos administrativos</th>\n",
              "      <td>16481</td>\n",
              "    </tr>\n",
              "    <tr>\n",
              "      <th>Delito menor</th>\n",
              "      <td>11696</td>\n",
              "    </tr>\n",
              "    <tr>\n",
              "      <th>Secuestro y relacionados</th>\n",
              "      <td>3007</td>\n",
              "    </tr>\n",
              "    <tr>\n",
              "      <th>Riñas</th>\n",
              "      <td>440</td>\n",
              "    </tr>\n",
              "    <tr>\n",
              "      <th>Otros crimenes</th>\n",
              "      <td>267</td>\n",
              "    </tr>\n",
              "    <tr>\n",
              "      <th>Fuga</th>\n",
              "      <td>191</td>\n",
              "    </tr>\n",
              "    <tr>\n",
              "      <th>Homicidio</th>\n",
              "      <td>175</td>\n",
              "    </tr>\n",
              "    <tr>\n",
              "      <th>Concierto para delinquir</th>\n",
              "      <td>126</td>\n",
              "    </tr>\n",
              "    <tr>\n",
              "      <th>Salud Publica</th>\n",
              "      <td>83</td>\n",
              "    </tr>\n",
              "  </tbody>\n",
              "</table>\n",
              "</div>\n",
              "      <button class=\"colab-df-convert\" onclick=\"convertToInteractive('df-cb4d3369-89ea-4b2d-ba84-01c821d340df')\"\n",
              "              title=\"Convert this dataframe to an interactive table.\"\n",
              "              style=\"display:none;\">\n",
              "        \n",
              "  <svg xmlns=\"http://www.w3.org/2000/svg\" height=\"24px\"viewBox=\"0 0 24 24\"\n",
              "       width=\"24px\">\n",
              "    <path d=\"M0 0h24v24H0V0z\" fill=\"none\"/>\n",
              "    <path d=\"M18.56 5.44l.94 2.06.94-2.06 2.06-.94-2.06-.94-.94-2.06-.94 2.06-2.06.94zm-11 1L8.5 8.5l.94-2.06 2.06-.94-2.06-.94L8.5 2.5l-.94 2.06-2.06.94zm10 10l.94 2.06.94-2.06 2.06-.94-2.06-.94-.94-2.06-.94 2.06-2.06.94z\"/><path d=\"M17.41 7.96l-1.37-1.37c-.4-.4-.92-.59-1.43-.59-.52 0-1.04.2-1.43.59L10.3 9.45l-7.72 7.72c-.78.78-.78 2.05 0 2.83L4 21.41c.39.39.9.59 1.41.59.51 0 1.02-.2 1.41-.59l7.78-7.78 2.81-2.81c.8-.78.8-2.07 0-2.86zM5.41 20L4 18.59l7.72-7.72 1.47 1.35L5.41 20z\"/>\n",
              "  </svg>\n",
              "      </button>\n",
              "      \n",
              "  <style>\n",
              "    .colab-df-container {\n",
              "      display:flex;\n",
              "      flex-wrap:wrap;\n",
              "      gap: 12px;\n",
              "    }\n",
              "\n",
              "    .colab-df-convert {\n",
              "      background-color: #E8F0FE;\n",
              "      border: none;\n",
              "      border-radius: 50%;\n",
              "      cursor: pointer;\n",
              "      display: none;\n",
              "      fill: #1967D2;\n",
              "      height: 32px;\n",
              "      padding: 0 0 0 0;\n",
              "      width: 32px;\n",
              "    }\n",
              "\n",
              "    .colab-df-convert:hover {\n",
              "      background-color: #E2EBFA;\n",
              "      box-shadow: 0px 1px 2px rgba(60, 64, 67, 0.3), 0px 1px 3px 1px rgba(60, 64, 67, 0.15);\n",
              "      fill: #174EA6;\n",
              "    }\n",
              "\n",
              "    [theme=dark] .colab-df-convert {\n",
              "      background-color: #3B4455;\n",
              "      fill: #D2E3FC;\n",
              "    }\n",
              "\n",
              "    [theme=dark] .colab-df-convert:hover {\n",
              "      background-color: #434B5C;\n",
              "      box-shadow: 0px 1px 3px 1px rgba(0, 0, 0, 0.15);\n",
              "      filter: drop-shadow(0px 1px 2px rgba(0, 0, 0, 0.3));\n",
              "      fill: #FFFFFF;\n",
              "    }\n",
              "  </style>\n",
              "\n",
              "      <script>\n",
              "        const buttonEl =\n",
              "          document.querySelector('#df-cb4d3369-89ea-4b2d-ba84-01c821d340df button.colab-df-convert');\n",
              "        buttonEl.style.display =\n",
              "          google.colab.kernel.accessAllowed ? 'block' : 'none';\n",
              "\n",
              "        async function convertToInteractive(key) {\n",
              "          const element = document.querySelector('#df-cb4d3369-89ea-4b2d-ba84-01c821d340df');\n",
              "          const dataTable =\n",
              "            await google.colab.kernel.invokeFunction('convertToInteractive',\n",
              "                                                     [key], {});\n",
              "          if (!dataTable) return;\n",
              "\n",
              "          const docLinkHtml = 'Like what you see? Visit the ' +\n",
              "            '<a target=\"_blank\" href=https://colab.research.google.com/notebooks/data_table.ipynb>data table notebook</a>'\n",
              "            + ' to learn more about interactive tables.';\n",
              "          element.innerHTML = '';\n",
              "          dataTable['output_type'] = 'display_data';\n",
              "          await google.colab.output.renderOutput(dataTable, element);\n",
              "          const docLink = document.createElement('div');\n",
              "          docLink.innerHTML = docLinkHtml;\n",
              "          element.appendChild(docLink);\n",
              "        }\n",
              "      </script>\n",
              "    </div>\n",
              "  </div>\n",
              "  "
            ]
          },
          "metadata": {},
          "execution_count": 45
        }
      ]
    },
    {
      "cell_type": "code",
      "source": [
        "df[\"lugar\"].value_counts().to_frame()"
      ],
      "metadata": {
        "id": "OoiAtTOO1wsb",
        "colab": {
          "base_uri": "https://localhost:8080/",
          "height": 677
        },
        "outputId": "2e346fc5-682b-4ab3-f387-068e1c9f3029"
      },
      "execution_count": 46,
      "outputs": [
        {
          "output_type": "execute_result",
          "data": {
            "text/plain": [
              "                         lugar\n",
              "Zona residencial       2990716\n",
              "Calle                  2293426\n",
              "Zona de comercio        811144\n",
              "Transporte publico      239122\n",
              "Otros                   194770\n",
              "Restaurante             162084\n",
              "Bodega                  110504\n",
              "Institucion educativa    90905\n",
              "Parque                   88301\n",
              "club nocturno            83044\n",
              "Parqueadero              79464\n",
              "Servicios de salud       54517\n",
              "Servicios financieros    45785\n",
              "Centros publicos         42087\n",
              "Hotel                    36349\n",
              "Templo religioso         17874\n",
              "Construccion             13298\n",
              "Licorera                  6280\n",
              "Muelle                    3013\n",
              "Edificio abandonado       2679"
            ],
            "text/html": [
              "\n",
              "  <div id=\"df-b4988b41-9007-46bd-bd96-f785751ce16e\">\n",
              "    <div class=\"colab-df-container\">\n",
              "      <div>\n",
              "<style scoped>\n",
              "    .dataframe tbody tr th:only-of-type {\n",
              "        vertical-align: middle;\n",
              "    }\n",
              "\n",
              "    .dataframe tbody tr th {\n",
              "        vertical-align: top;\n",
              "    }\n",
              "\n",
              "    .dataframe thead th {\n",
              "        text-align: right;\n",
              "    }\n",
              "</style>\n",
              "<table border=\"1\" class=\"dataframe\">\n",
              "  <thead>\n",
              "    <tr style=\"text-align: right;\">\n",
              "      <th></th>\n",
              "      <th>lugar</th>\n",
              "    </tr>\n",
              "  </thead>\n",
              "  <tbody>\n",
              "    <tr>\n",
              "      <th>Zona residencial</th>\n",
              "      <td>2990716</td>\n",
              "    </tr>\n",
              "    <tr>\n",
              "      <th>Calle</th>\n",
              "      <td>2293426</td>\n",
              "    </tr>\n",
              "    <tr>\n",
              "      <th>Zona de comercio</th>\n",
              "      <td>811144</td>\n",
              "    </tr>\n",
              "    <tr>\n",
              "      <th>Transporte publico</th>\n",
              "      <td>239122</td>\n",
              "    </tr>\n",
              "    <tr>\n",
              "      <th>Otros</th>\n",
              "      <td>194770</td>\n",
              "    </tr>\n",
              "    <tr>\n",
              "      <th>Restaurante</th>\n",
              "      <td>162084</td>\n",
              "    </tr>\n",
              "    <tr>\n",
              "      <th>Bodega</th>\n",
              "      <td>110504</td>\n",
              "    </tr>\n",
              "    <tr>\n",
              "      <th>Institucion educativa</th>\n",
              "      <td>90905</td>\n",
              "    </tr>\n",
              "    <tr>\n",
              "      <th>Parque</th>\n",
              "      <td>88301</td>\n",
              "    </tr>\n",
              "    <tr>\n",
              "      <th>club nocturno</th>\n",
              "      <td>83044</td>\n",
              "    </tr>\n",
              "    <tr>\n",
              "      <th>Parqueadero</th>\n",
              "      <td>79464</td>\n",
              "    </tr>\n",
              "    <tr>\n",
              "      <th>Servicios de salud</th>\n",
              "      <td>54517</td>\n",
              "    </tr>\n",
              "    <tr>\n",
              "      <th>Servicios financieros</th>\n",
              "      <td>45785</td>\n",
              "    </tr>\n",
              "    <tr>\n",
              "      <th>Centros publicos</th>\n",
              "      <td>42087</td>\n",
              "    </tr>\n",
              "    <tr>\n",
              "      <th>Hotel</th>\n",
              "      <td>36349</td>\n",
              "    </tr>\n",
              "    <tr>\n",
              "      <th>Templo religioso</th>\n",
              "      <td>17874</td>\n",
              "    </tr>\n",
              "    <tr>\n",
              "      <th>Construccion</th>\n",
              "      <td>13298</td>\n",
              "    </tr>\n",
              "    <tr>\n",
              "      <th>Licorera</th>\n",
              "      <td>6280</td>\n",
              "    </tr>\n",
              "    <tr>\n",
              "      <th>Muelle</th>\n",
              "      <td>3013</td>\n",
              "    </tr>\n",
              "    <tr>\n",
              "      <th>Edificio abandonado</th>\n",
              "      <td>2679</td>\n",
              "    </tr>\n",
              "  </tbody>\n",
              "</table>\n",
              "</div>\n",
              "      <button class=\"colab-df-convert\" onclick=\"convertToInteractive('df-b4988b41-9007-46bd-bd96-f785751ce16e')\"\n",
              "              title=\"Convert this dataframe to an interactive table.\"\n",
              "              style=\"display:none;\">\n",
              "        \n",
              "  <svg xmlns=\"http://www.w3.org/2000/svg\" height=\"24px\"viewBox=\"0 0 24 24\"\n",
              "       width=\"24px\">\n",
              "    <path d=\"M0 0h24v24H0V0z\" fill=\"none\"/>\n",
              "    <path d=\"M18.56 5.44l.94 2.06.94-2.06 2.06-.94-2.06-.94-.94-2.06-.94 2.06-2.06.94zm-11 1L8.5 8.5l.94-2.06 2.06-.94-2.06-.94L8.5 2.5l-.94 2.06-2.06.94zm10 10l.94 2.06.94-2.06 2.06-.94-2.06-.94-.94-2.06-.94 2.06-2.06.94z\"/><path d=\"M17.41 7.96l-1.37-1.37c-.4-.4-.92-.59-1.43-.59-.52 0-1.04.2-1.43.59L10.3 9.45l-7.72 7.72c-.78.78-.78 2.05 0 2.83L4 21.41c.39.39.9.59 1.41.59.51 0 1.02-.2 1.41-.59l7.78-7.78 2.81-2.81c.8-.78.8-2.07 0-2.86zM5.41 20L4 18.59l7.72-7.72 1.47 1.35L5.41 20z\"/>\n",
              "  </svg>\n",
              "      </button>\n",
              "      \n",
              "  <style>\n",
              "    .colab-df-container {\n",
              "      display:flex;\n",
              "      flex-wrap:wrap;\n",
              "      gap: 12px;\n",
              "    }\n",
              "\n",
              "    .colab-df-convert {\n",
              "      background-color: #E8F0FE;\n",
              "      border: none;\n",
              "      border-radius: 50%;\n",
              "      cursor: pointer;\n",
              "      display: none;\n",
              "      fill: #1967D2;\n",
              "      height: 32px;\n",
              "      padding: 0 0 0 0;\n",
              "      width: 32px;\n",
              "    }\n",
              "\n",
              "    .colab-df-convert:hover {\n",
              "      background-color: #E2EBFA;\n",
              "      box-shadow: 0px 1px 2px rgba(60, 64, 67, 0.3), 0px 1px 3px 1px rgba(60, 64, 67, 0.15);\n",
              "      fill: #174EA6;\n",
              "    }\n",
              "\n",
              "    [theme=dark] .colab-df-convert {\n",
              "      background-color: #3B4455;\n",
              "      fill: #D2E3FC;\n",
              "    }\n",
              "\n",
              "    [theme=dark] .colab-df-convert:hover {\n",
              "      background-color: #434B5C;\n",
              "      box-shadow: 0px 1px 3px 1px rgba(0, 0, 0, 0.15);\n",
              "      filter: drop-shadow(0px 1px 2px rgba(0, 0, 0, 0.3));\n",
              "      fill: #FFFFFF;\n",
              "    }\n",
              "  </style>\n",
              "\n",
              "      <script>\n",
              "        const buttonEl =\n",
              "          document.querySelector('#df-b4988b41-9007-46bd-bd96-f785751ce16e button.colab-df-convert');\n",
              "        buttonEl.style.display =\n",
              "          google.colab.kernel.accessAllowed ? 'block' : 'none';\n",
              "\n",
              "        async function convertToInteractive(key) {\n",
              "          const element = document.querySelector('#df-b4988b41-9007-46bd-bd96-f785751ce16e');\n",
              "          const dataTable =\n",
              "            await google.colab.kernel.invokeFunction('convertToInteractive',\n",
              "                                                     [key], {});\n",
              "          if (!dataTable) return;\n",
              "\n",
              "          const docLinkHtml = 'Like what you see? Visit the ' +\n",
              "            '<a target=\"_blank\" href=https://colab.research.google.com/notebooks/data_table.ipynb>data table notebook</a>'\n",
              "            + ' to learn more about interactive tables.';\n",
              "          element.innerHTML = '';\n",
              "          dataTable['output_type'] = 'display_data';\n",
              "          await google.colab.output.renderOutput(dataTable, element);\n",
              "          const docLink = document.createElement('div');\n",
              "          docLink.innerHTML = docLinkHtml;\n",
              "          element.appendChild(docLink);\n",
              "        }\n",
              "      </script>\n",
              "    </div>\n",
              "  </div>\n",
              "  "
            ]
          },
          "metadata": {},
          "execution_count": 46
        }
      ]
    },
    {
      "cell_type": "code",
      "source": [
        "df['hora_suceso'] = pd.to_datetime(df['hora_suceso'],format= '%H:%M:%S').dt.time\n",
        "df.drop(columns=[\"descripcion_suceso\", \"descripcion_ubicacion\"], inplace = True)"
      ],
      "metadata": {
        "id": "stQZ8dW-wVFX"
      },
      "execution_count": 47,
      "outputs": []
    },
    {
      "cell_type": "code",
      "source": [
        "#df.to_csv('df_iter1.csv', index= False)"
      ],
      "metadata": {
        "id": "9H3a6yhcoJSJ"
      },
      "execution_count": 48,
      "outputs": []
    },
    {
      "cell_type": "code",
      "source": [
        "#from google.colab import files\n",
        "#files.download('/content/df_iter1.csv')"
      ],
      "metadata": {
        "id": "FIhHTa2Xrvv0"
      },
      "execution_count": 49,
      "outputs": []
    },
    {
      "cell_type": "code",
      "source": [
        "#df =  pd.read_csv(\"/content/df_iter1.csv\", low_memory=False)"
      ],
      "metadata": {
        "id": "obVhdWOqAyzS"
      },
      "execution_count": 50,
      "outputs": []
    },
    {
      "cell_type": "code",
      "execution_count": 51,
      "metadata": {
        "id": "fi-Meu_tkVEG"
      },
      "outputs": [],
      "source": [
        "df1 = df.sample(frac=0.10, replace=True, random_state=1)"
      ]
    },
    {
      "cell_type": "code",
      "execution_count": 52,
      "metadata": {
        "id": "dgz-X-F_NTvA"
      },
      "outputs": [],
      "source": [
        "obj_cat_df = df1[['delito_completado_interrumpido', 'nivel_ofensa', 'distrito', 'raza_sospechoso', 'sexo_sospechoso',\n",
        "       'raza_victima', 'sexo_victima',\n",
        "       'tipo_crimen', 'lugar']]"
      ]
    },
    {
      "cell_type": "code",
      "execution_count": 53,
      "metadata": {
        "id": "K36SLKtaS8y6"
      },
      "outputs": [],
      "source": [
        "ohc = OneHotEncoder(sparse = False)"
      ]
    },
    {
      "cell_type": "code",
      "execution_count": 54,
      "metadata": {
        "id": "Z3QmF43FTB0e",
        "colab": {
          "base_uri": "https://localhost:8080/"
        },
        "outputId": "7663cc7e-59a3-47ea-a31b-1d3772a29dfe"
      },
      "outputs": [
        {
          "output_type": "stream",
          "name": "stderr",
          "text": [
            "/usr/local/lib/python3.10/dist-packages/sklearn/preprocessing/_encoders.py:868: FutureWarning: `sparse` was renamed to `sparse_output` in version 1.2 and will be removed in 1.4. `sparse_output` is ignored unless you leave `sparse` to its default value.\n",
            "  warnings.warn(\n"
          ]
        }
      ],
      "source": [
        "df_encoder = ohc.fit_transform(obj_cat_df)"
      ]
    },
    {
      "cell_type": "code",
      "execution_count": 55,
      "metadata": {
        "id": "S7NFm4_akMH0"
      },
      "outputs": [],
      "source": [
        "#df = pd.concat([df[\"num_denuncia\"], df[\"fecha_suceso\"], df[\"hora_suceso\"], df[\"geoespacial\"], obj_cat_df], sort = False)\n",
        "\n",
        "# Convertir la matriz sparse resultante a un dataframe\n",
        "encoded_df = pd.DataFrame(df_encoder, \n",
        "                          columns = ohc.get_feature_names_out())\n",
        "# asegurarnos de que los dataframes tengan la misma cantidad de filas y estén en el mismo orden\n",
        "df_encoded = encoded_df.reset_index(drop=True)\n",
        "df_original = df1.reset_index(drop=True)\n",
        "\n",
        "df_concatenado = pd.concat([df_original[[\"latitud\", \"longitud\"]], df_encoded], axis=1)\n",
        "df_concatenado = df_concatenado.dropna()\n",
        "#df_concatenado =  df_encoded"
      ]
    },
    {
      "cell_type": "markdown",
      "source": [
        "##### Standarization and PCA before running KMeans (1st iteration)"
      ],
      "metadata": {
        "id": "lpehuNQ9yh9H"
      }
    },
    {
      "cell_type": "code",
      "source": [
        "scaler = StandardScaler()\n",
        "segmentation_std = scaler.fit_transform(df_concatenado)"
      ],
      "metadata": {
        "id": "TlkmE778xzL3"
      },
      "execution_count": 56,
      "outputs": []
    },
    {
      "cell_type": "code",
      "source": [
        "pca = PCA()\n",
        "pca.fit(segmentation_std)"
      ],
      "metadata": {
        "id": "eaMxQbvmzWlx",
        "colab": {
          "base_uri": "https://localhost:8080/",
          "height": 75
        },
        "outputId": "afef3a1d-cf0e-40c4-d528-ef34ba19a300"
      },
      "execution_count": 57,
      "outputs": [
        {
          "output_type": "execute_result",
          "data": {
            "text/plain": [
              "PCA()"
            ],
            "text/html": [
              "<style>#sk-container-id-1 {color: black;background-color: white;}#sk-container-id-1 pre{padding: 0;}#sk-container-id-1 div.sk-toggleable {background-color: white;}#sk-container-id-1 label.sk-toggleable__label {cursor: pointer;display: block;width: 100%;margin-bottom: 0;padding: 0.3em;box-sizing: border-box;text-align: center;}#sk-container-id-1 label.sk-toggleable__label-arrow:before {content: \"▸\";float: left;margin-right: 0.25em;color: #696969;}#sk-container-id-1 label.sk-toggleable__label-arrow:hover:before {color: black;}#sk-container-id-1 div.sk-estimator:hover label.sk-toggleable__label-arrow:before {color: black;}#sk-container-id-1 div.sk-toggleable__content {max-height: 0;max-width: 0;overflow: hidden;text-align: left;background-color: #f0f8ff;}#sk-container-id-1 div.sk-toggleable__content pre {margin: 0.2em;color: black;border-radius: 0.25em;background-color: #f0f8ff;}#sk-container-id-1 input.sk-toggleable__control:checked~div.sk-toggleable__content {max-height: 200px;max-width: 100%;overflow: auto;}#sk-container-id-1 input.sk-toggleable__control:checked~label.sk-toggleable__label-arrow:before {content: \"▾\";}#sk-container-id-1 div.sk-estimator input.sk-toggleable__control:checked~label.sk-toggleable__label {background-color: #d4ebff;}#sk-container-id-1 div.sk-label input.sk-toggleable__control:checked~label.sk-toggleable__label {background-color: #d4ebff;}#sk-container-id-1 input.sk-hidden--visually {border: 0;clip: rect(1px 1px 1px 1px);clip: rect(1px, 1px, 1px, 1px);height: 1px;margin: -1px;overflow: hidden;padding: 0;position: absolute;width: 1px;}#sk-container-id-1 div.sk-estimator {font-family: monospace;background-color: #f0f8ff;border: 1px dotted black;border-radius: 0.25em;box-sizing: border-box;margin-bottom: 0.5em;}#sk-container-id-1 div.sk-estimator:hover {background-color: #d4ebff;}#sk-container-id-1 div.sk-parallel-item::after {content: \"\";width: 100%;border-bottom: 1px solid gray;flex-grow: 1;}#sk-container-id-1 div.sk-label:hover label.sk-toggleable__label {background-color: #d4ebff;}#sk-container-id-1 div.sk-serial::before {content: \"\";position: absolute;border-left: 1px solid gray;box-sizing: border-box;top: 0;bottom: 0;left: 50%;z-index: 0;}#sk-container-id-1 div.sk-serial {display: flex;flex-direction: column;align-items: center;background-color: white;padding-right: 0.2em;padding-left: 0.2em;position: relative;}#sk-container-id-1 div.sk-item {position: relative;z-index: 1;}#sk-container-id-1 div.sk-parallel {display: flex;align-items: stretch;justify-content: center;background-color: white;position: relative;}#sk-container-id-1 div.sk-item::before, #sk-container-id-1 div.sk-parallel-item::before {content: \"\";position: absolute;border-left: 1px solid gray;box-sizing: border-box;top: 0;bottom: 0;left: 50%;z-index: -1;}#sk-container-id-1 div.sk-parallel-item {display: flex;flex-direction: column;z-index: 1;position: relative;background-color: white;}#sk-container-id-1 div.sk-parallel-item:first-child::after {align-self: flex-end;width: 50%;}#sk-container-id-1 div.sk-parallel-item:last-child::after {align-self: flex-start;width: 50%;}#sk-container-id-1 div.sk-parallel-item:only-child::after {width: 0;}#sk-container-id-1 div.sk-dashed-wrapped {border: 1px dashed gray;margin: 0 0.4em 0.5em 0.4em;box-sizing: border-box;padding-bottom: 0.4em;background-color: white;}#sk-container-id-1 div.sk-label label {font-family: monospace;font-weight: bold;display: inline-block;line-height: 1.2em;}#sk-container-id-1 div.sk-label-container {text-align: center;}#sk-container-id-1 div.sk-container {/* jupyter's `normalize.less` sets `[hidden] { display: none; }` but bootstrap.min.css set `[hidden] { display: none !important; }` so we also need the `!important` here to be able to override the default hidden behavior on the sphinx rendered scikit-learn.org. See: https://github.com/scikit-learn/scikit-learn/issues/21755 */display: inline-block !important;position: relative;}#sk-container-id-1 div.sk-text-repr-fallback {display: none;}</style><div id=\"sk-container-id-1\" class=\"sk-top-container\"><div class=\"sk-text-repr-fallback\"><pre>PCA()</pre><b>In a Jupyter environment, please rerun this cell to show the HTML representation or trust the notebook. <br />On GitHub, the HTML representation is unable to render, please try loading this page with nbviewer.org.</b></div><div class=\"sk-container\" hidden><div class=\"sk-item\"><div class=\"sk-estimator sk-toggleable\"><input class=\"sk-toggleable__control sk-hidden--visually\" id=\"sk-estimator-id-1\" type=\"checkbox\" checked><label for=\"sk-estimator-id-1\" class=\"sk-toggleable__label sk-toggleable__label-arrow\">PCA</label><div class=\"sk-toggleable__content\"><pre>PCA()</pre></div></div></div></div></div>"
            ]
          },
          "metadata": {},
          "execution_count": 57
        }
      ]
    },
    {
      "cell_type": "code",
      "source": [
        "pca.explained_variance_ratio_"
      ],
      "metadata": {
        "id": "Hg1m9RET2fBS",
        "colab": {
          "base_uri": "https://localhost:8080/"
        },
        "outputId": "5f95e7a7-9ea9-4989-fa44-90fdae51d1e9"
      },
      "execution_count": 58,
      "outputs": [
        {
          "output_type": "execute_result",
          "data": {
            "text/plain": [
              "array([6.02337417e-02, 3.94057865e-02, 3.26413218e-02, 3.13634843e-02,\n",
              "       2.76823222e-02, 2.61285545e-02, 2.54390132e-02, 2.38128904e-02,\n",
              "       2.29664426e-02, 2.10134761e-02, 1.77505709e-02, 1.74318718e-02,\n",
              "       1.60142118e-02, 1.59417489e-02, 1.58063605e-02, 1.54379187e-02,\n",
              "       1.47839405e-02, 1.46137969e-02, 1.44248051e-02, 1.40111531e-02,\n",
              "       1.39349667e-02, 1.38748354e-02, 1.37969150e-02, 1.37534805e-02,\n",
              "       1.36585886e-02, 1.35245254e-02, 1.34880894e-02, 1.34613590e-02,\n",
              "       1.34097685e-02, 1.33996147e-02, 1.33770555e-02, 1.33670728e-02,\n",
              "       1.33532849e-02, 1.33467911e-02, 1.33420860e-02, 1.33377843e-02,\n",
              "       1.33337789e-02, 1.33328952e-02, 1.33317586e-02, 1.33284335e-02,\n",
              "       1.33238055e-02, 1.33127925e-02, 1.33058113e-02, 1.32975734e-02,\n",
              "       1.32647763e-02, 1.32373108e-02, 1.32287320e-02, 1.31595591e-02,\n",
              "       1.30666943e-02, 1.29394794e-02, 1.27977584e-02, 1.27561556e-02,\n",
              "       1.26060296e-02, 1.23160348e-02, 1.20012937e-02, 1.14742152e-02,\n",
              "       1.09655910e-02, 1.08648224e-02, 9.79369592e-03, 9.43503581e-03,\n",
              "       6.54113526e-03, 2.69160036e-03, 2.59784760e-03, 2.18307440e-03,\n",
              "       1.90593502e-03, 2.76745068e-04, 1.27026943e-32, 4.26588572e-33,\n",
              "       2.86321906e-33, 2.32336836e-33, 2.29156065e-33, 1.44927872e-33,\n",
              "       1.29076624e-33, 7.00331872e-34, 1.62072946e-34])"
            ]
          },
          "metadata": {},
          "execution_count": 58
        }
      ]
    },
    {
      "cell_type": "code",
      "source": [
        "plt.figure(figsize=(8, 5))\n",
        "plt.plot(range(1, 76), pca.explained_variance_ratio_.cumsum(), marker=\"o\", linestyle=\"--\")\n",
        "plt.title(\"Explained variance by Components\")\n",
        "plt.xlabel(\"Number of Components\")\n",
        "plt.ylabel(\"Cumulative explained variance\")"
      ],
      "metadata": {
        "id": "uF7LRTLb2yxH",
        "colab": {
          "base_uri": "https://localhost:8080/",
          "height": 504
        },
        "outputId": "325f0b39-4f22-4015-adec-d327d268525b"
      },
      "execution_count": 59,
      "outputs": [
        {
          "output_type": "execute_result",
          "data": {
            "text/plain": [
              "Text(0, 0.5, 'Cumulative explained variance')"
            ]
          },
          "metadata": {},
          "execution_count": 59
        },
        {
          "output_type": "display_data",
          "data": {
            "text/plain": [
              "<Figure size 800x500 with 1 Axes>"
            ],
            "image/png": "[encoded data removed]"
          },
          "metadata": {}
        }
      ]
    },
    {
      "cell_type": "markdown",
      "source": [
        "##Iteración 1"
      ],
      "metadata": {
        "id": "JrkDq8ZVEtbo"
      }
    },
    {
      "cell_type": "markdown",
      "metadata": {
        "id": "PckFlq0lkd1p"
      },
      "source": [
        "##KMeans"
      ]
    },
    {
      "cell_type": "code",
      "execution_count": 60,
      "metadata": {
        "id": "T55pTp-ekP9j",
        "colab": {
          "base_uri": "https://localhost:8080/",
          "height": 507
        },
        "outputId": "5e17d353-81ae-451a-9f1e-2f2412b90de4"
      },
      "outputs": [
        {
          "output_type": "stream",
          "name": "stderr",
          "text": [
            "/usr/local/lib/python3.10/dist-packages/sklearn/cluster/_kmeans.py:870: FutureWarning: The default value of `n_init` will change from 10 to 'auto' in 1.4. Set the value of `n_init` explicitly to suppress the warning\n",
            "  warnings.warn(\n"
          ]
        },
        {
          "output_type": "display_data",
          "data": {
            "text/plain": [
              "<Figure size 640x480 with 1 Axes>"
            ],
            "image/png": "[encoded data removed]"
          },
          "metadata": {}
        }
      ],
      "source": [
        "import matplotlib.pyplot as plt\n",
        "from sklearn.cluster import KMeans\n",
        "from sklearn.decomposition import PCA\n",
        "from sklearn.metrics import silhouette_score\n",
        "\n",
        "# Load data from a CSV file into a pandas dataframe\n",
        "data = df_concatenado\n",
        "\n",
        "# Create a KMeans model with 3 clusters\n",
        "kmeans = KMeans(n_clusters=6)\n",
        "\n",
        "# Fit the model to the data\n",
        "kmeans.fit(data)\n",
        "\n",
        "# Get the cluster labels\n",
        "labels = kmeans.labels_\n",
        "\n",
        "# Use PCA to reduce the dimensions of your data to a 2D space\n",
        "pca = PCA(n_components=2)\n",
        "data_2d = pca.fit_transform(data)\n",
        "\n",
        "# Create a scatter plot of the data with the points colored according to their assigned cluster label\n",
        "plt.scatter(data_2d[:, 0], data_2d[:, 1], c=labels)\n",
        "plt.xlabel('PC1')\n",
        "plt.ylabel('PC2')\n",
        "plt.title('KMeans Clustering Results')\n",
        "plt.show()\n"
      ]
    },
    {
      "cell_type": "code",
      "source": [
        "clusters= [10, 7, 5, 3]\n",
        "data = df_concatenado\n",
        "\n",
        "#data2 = data.sample(frac=0.10, replace=True, random_state=1)\n",
        "\n",
        "labels_KModel= {}\n",
        "\n",
        "for cluster in clusters: \n",
        "  # fit the model\n",
        "\n",
        "  kmeans = KMeans(n_clusters=cluster)\n",
        "  kmeans.fit(data)\n",
        "  labels = kmeans.labels_\n",
        "  labels_KModel[f'NClus{cluster}'] = labels\n",
        "  print(cluster)"
      ],
      "metadata": {
        "id": "Jim5YUj26Tf7",
        "colab": {
          "base_uri": "https://localhost:8080/"
        },
        "outputId": "7eef1bd9-1885-4b00-eb93-bdefbd893af3"
      },
      "execution_count": 61,
      "outputs": [
        {
          "output_type": "stream",
          "name": "stderr",
          "text": [
            "/usr/local/lib/python3.10/dist-packages/sklearn/cluster/_kmeans.py:870: FutureWarning: The default value of `n_init` will change from 10 to 'auto' in 1.4. Set the value of `n_init` explicitly to suppress the warning\n",
            "  warnings.warn(\n"
          ]
        },
        {
          "output_type": "stream",
          "name": "stdout",
          "text": [
            "10\n"
          ]
        },
        {
          "output_type": "stream",
          "name": "stderr",
          "text": [
            "/usr/local/lib/python3.10/dist-packages/sklearn/cluster/_kmeans.py:870: FutureWarning: The default value of `n_init` will change from 10 to 'auto' in 1.4. Set the value of `n_init` explicitly to suppress the warning\n",
            "  warnings.warn(\n"
          ]
        },
        {
          "output_type": "stream",
          "name": "stdout",
          "text": [
            "7\n"
          ]
        },
        {
          "output_type": "stream",
          "name": "stderr",
          "text": [
            "/usr/local/lib/python3.10/dist-packages/sklearn/cluster/_kmeans.py:870: FutureWarning: The default value of `n_init` will change from 10 to 'auto' in 1.4. Set the value of `n_init` explicitly to suppress the warning\n",
            "  warnings.warn(\n"
          ]
        },
        {
          "output_type": "stream",
          "name": "stdout",
          "text": [
            "5\n"
          ]
        },
        {
          "output_type": "stream",
          "name": "stderr",
          "text": [
            "/usr/local/lib/python3.10/dist-packages/sklearn/cluster/_kmeans.py:870: FutureWarning: The default value of `n_init` will change from 10 to 'auto' in 1.4. Set the value of `n_init` explicitly to suppress the warning\n",
            "  warnings.warn(\n"
          ]
        },
        {
          "output_type": "stream",
          "name": "stdout",
          "text": [
            "3\n"
          ]
        }
      ]
    },
    {
      "cell_type": "code",
      "source": [
        "#data2 = data.sample(frac=0.5, replace=False, random_state=1)\n",
        "silhouette_avgClus= {}\n",
        "\n",
        "Nsample= 0\n",
        "for key in list(labels_KModel.keys()):\n",
        "  data2 = data.sample(frac= Nsample+0.05, replace=True, random_state=1)\n",
        "  #silhouette_score\n",
        "  n = int(len(labels_KModel[key]) * (Nsample+0.05))\n",
        "  if len(data2) != n:\n",
        "    n += 1\n",
        "  else:\n",
        "    n = n\n",
        "  lab2 = np.random.choice(labels_KModel[key], n , replace=True)\n",
        "  silhouette_avg = silhouette_score(data2, lab2)\n",
        "  silhouette_avgClus[key]= silhouette_avg\n",
        "  print(f\"Silhouette score {key}: {silhouette_avg}\")\n",
        "  Nsample= Nsample+0.05\n",
        "  print(f'Sample Size {Nsample}')"
      ],
      "metadata": {
        "id": "va0SIPKw8hg6",
        "colab": {
          "base_uri": "https://localhost:8080/"
        },
        "outputId": "304fdab1-a63f-4dd8-9949-cb488a9379c3"
      },
      "execution_count": 62,
      "outputs": [
        {
          "output_type": "stream",
          "name": "stdout",
          "text": [
            "Silhouette score NClus10: -0.0034825036281266324\n",
            "Sample Size 0.05\n",
            "Silhouette score NClus7: -0.0019889106318434473\n",
            "Sample Size 0.1\n",
            "Silhouette score NClus5: -0.000819752322015265\n",
            "Sample Size 0.15000000000000002\n",
            "Silhouette score NClus3: -0.00045008295894481524\n",
            "Sample Size 0.2\n"
          ]
        }
      ]
    },
    {
      "cell_type": "markdown",
      "source": [
        "###Extracción de información de características ya existentes"
      ],
      "metadata": {
        "id": "WLJ2Pgu03KJO"
      }
    },
    {
      "cell_type": "code",
      "source": [
        "df_base = df"
      ],
      "metadata": {
        "id": "N-HikigKJmS-"
      },
      "execution_count": 63,
      "outputs": []
    },
    {
      "cell_type": "code",
      "source": [
        "#There are missing values for different columns:\n",
        "\n",
        "#df.isna()\n",
        "a = df_base.isnull().sum().to_frame().sort_values(by=[0], ascending=False)\n",
        "a.rename(columns={0: \"total_nulos\"}, inplace = True)\n",
        "a[\"%_nulos\"] =round(df_base.apply(lambda x: 1-(x.count()/x.size))*100,2)\n",
        "a\n",
        "#df.style.format(\"{:,.0f}\")"
      ],
      "metadata": {
        "colab": {
          "base_uri": "https://localhost:8080/",
          "height": 677
        },
        "id": "hNwU2Thc3n_5",
        "outputId": "4d4d54a2-0efb-42f1-cb6b-ae46722ff096"
      },
      "execution_count": 64,
      "outputs": [
        {
          "output_type": "execute_result",
          "data": {
            "text/plain": [
              "                                total_nulos  %_nulos\n",
              "lugar                                 27805     0.38\n",
              "tipo_crimen                           13428     0.18\n",
              "distrito                               4163     0.06\n",
              "latitud                                1400     0.02\n",
              "geoespacial                            1400     0.02\n",
              "longitud                               1400     0.02\n",
              "fecha_suceso                            724     0.01\n",
              "raza_victima                             87     0.00\n",
              "hora_suceso                              39     0.00\n",
              "delito_completado_interrumpido           28     0.00\n",
              "sexo_victima                              0     0.00\n",
              "grupo_edad_victima                        0     0.00\n",
              "num_denuncia                              0     0.00\n",
              "sexo_sospechoso                           0     0.00\n",
              "grupo_edad_sospechoso                     0     0.00\n",
              "jurisdiccion_encargada                    0     0.00\n",
              "nivel_ofensa                              0     0.00\n",
              "fecha_denuncia                            0     0.00\n",
              "direccion_suceso                          0     0.00\n",
              "raza_sospechoso                           0     0.00"
            ],
            "text/html": [
              "\n",
              "  <div id=\"df-02fd8a6d-0589-4c96-9679-fd1a2613667f\">\n",
              "    <div class=\"colab-df-container\">\n",
              "      <div>\n",
              "<style scoped>\n",
              "    .dataframe tbody tr th:only-of-type {\n",
              "        vertical-align: middle;\n",
              "    }\n",
              "\n",
              "    .dataframe tbody tr th {\n",
              "        vertical-align: top;\n",
              "    }\n",
              "\n",
              "    .dataframe thead th {\n",
              "        text-align: right;\n",
              "    }\n",
              "</style>\n",
              "<table border=\"1\" class=\"dataframe\">\n",
              "  <thead>\n",
              "    <tr style=\"text-align: right;\">\n",
              "      <th></th>\n",
              "      <th>total_nulos</th>\n",
              "      <th>%_nulos</th>\n",
              "    </tr>\n",
              "  </thead>\n",
              "  <tbody>\n",
              "    <tr>\n",
              "      <th>lugar</th>\n",
              "      <td>27805</td>\n",
              "      <td>0.38</td>\n",
              "    </tr>\n",
              "    <tr>\n",
              "      <th>tipo_crimen</th>\n",
              "      <td>13428</td>\n",
              "      <td>0.18</td>\n",
              "    </tr>\n",
              "    <tr>\n",
              "      <th>distrito</th>\n",
              "      <td>4163</td>\n",
              "      <td>0.06</td>\n",
              "    </tr>\n",
              "    <tr>\n",
              "      <th>latitud</th>\n",
              "      <td>1400</td>\n",
              "      <td>0.02</td>\n",
              "    </tr>\n",
              "    <tr>\n",
              "      <th>geoespacial</th>\n",
              "      <td>1400</td>\n",
              "      <td>0.02</td>\n",
              "    </tr>\n",
              "    <tr>\n",
              "      <th>longitud</th>\n",
              "      <td>1400</td>\n",
              "      <td>0.02</td>\n",
              "    </tr>\n",
              "    <tr>\n",
              "      <th>fecha_suceso</th>\n",
              "      <td>724</td>\n",
              "      <td>0.01</td>\n",
              "    </tr>\n",
              "    <tr>\n",
              "      <th>raza_victima</th>\n",
              "      <td>87</td>\n",
              "      <td>0.00</td>\n",
              "    </tr>\n",
              "    <tr>\n",
              "      <th>hora_suceso</th>\n",
              "      <td>39</td>\n",
              "      <td>0.00</td>\n",
              "    </tr>\n",
              "    <tr>\n",
              "      <th>delito_completado_interrumpido</th>\n",
              "      <td>28</td>\n",
              "      <td>0.00</td>\n",
              "    </tr>\n",
              "    <tr>\n",
              "      <th>sexo_victima</th>\n",
              "      <td>0</td>\n",
              "      <td>0.00</td>\n",
              "    </tr>\n",
              "    <tr>\n",
              "      <th>grupo_edad_victima</th>\n",
              "      <td>0</td>\n",
              "      <td>0.00</td>\n",
              "    </tr>\n",
              "    <tr>\n",
              "      <th>num_denuncia</th>\n",
              "      <td>0</td>\n",
              "      <td>0.00</td>\n",
              "    </tr>\n",
              "    <tr>\n",
              "      <th>sexo_sospechoso</th>\n",
              "      <td>0</td>\n",
              "      <td>0.00</td>\n",
              "    </tr>\n",
              "    <tr>\n",
              "      <th>grupo_edad_sospechoso</th>\n",
              "      <td>0</td>\n",
              "      <td>0.00</td>\n",
              "    </tr>\n",
              "    <tr>\n",
              "      <th>jurisdiccion_encargada</th>\n",
              "      <td>0</td>\n",
              "      <td>0.00</td>\n",
              "    </tr>\n",
              "    <tr>\n",
              "      <th>nivel_ofensa</th>\n",
              "      <td>0</td>\n",
              "      <td>0.00</td>\n",
              "    </tr>\n",
              "    <tr>\n",
              "      <th>fecha_denuncia</th>\n",
              "      <td>0</td>\n",
              "      <td>0.00</td>\n",
              "    </tr>\n",
              "    <tr>\n",
              "      <th>direccion_suceso</th>\n",
              "      <td>0</td>\n",
              "      <td>0.00</td>\n",
              "    </tr>\n",
              "    <tr>\n",
              "      <th>raza_sospechoso</th>\n",
              "      <td>0</td>\n",
              "      <td>0.00</td>\n",
              "    </tr>\n",
              "  </tbody>\n",
              "</table>\n",
              "</div>\n",
              "      <button class=\"colab-df-convert\" onclick=\"convertToInteractive('df-02fd8a6d-0589-4c96-9679-fd1a2613667f')\"\n",
              "              title=\"Convert this dataframe to an interactive table.\"\n",
              "              style=\"display:none;\">\n",
              "        \n",
              "  <svg xmlns=\"http://www.w3.org/2000/svg\" height=\"24px\"viewBox=\"0 0 24 24\"\n",
              "       width=\"24px\">\n",
              "    <path d=\"M0 0h24v24H0V0z\" fill=\"none\"/>\n",
              "    <path d=\"M18.56 5.44l.94 2.06.94-2.06 2.06-.94-2.06-.94-.94-2.06-.94 2.06-2.06.94zm-11 1L8.5 8.5l.94-2.06 2.06-.94-2.06-.94L8.5 2.5l-.94 2.06-2.06.94zm10 10l.94 2.06.94-2.06 2.06-.94-2.06-.94-.94-2.06-.94 2.06-2.06.94z\"/><path d=\"M17.41 7.96l-1.37-1.37c-.4-.4-.92-.59-1.43-.59-.52 0-1.04.2-1.43.59L10.3 9.45l-7.72 7.72c-.78.78-.78 2.05 0 2.83L4 21.41c.39.39.9.59 1.41.59.51 0 1.02-.2 1.41-.59l7.78-7.78 2.81-2.81c.8-.78.8-2.07 0-2.86zM5.41 20L4 18.59l7.72-7.72 1.47 1.35L5.41 20z\"/>\n",
              "  </svg>\n",
              "      </button>\n",
              "      \n",
              "  <style>\n",
              "    .colab-df-container {\n",
              "      display:flex;\n",
              "      flex-wrap:wrap;\n",
              "      gap: 12px;\n",
              "    }\n",
              "\n",
              "    .colab-df-convert {\n",
              "      background-color: #E8F0FE;\n",
              "      border: none;\n",
              "      border-radius: 50%;\n",
              "      cursor: pointer;\n",
              "      display: none;\n",
              "      fill: #1967D2;\n",
              "      height: 32px;\n",
              "      padding: 0 0 0 0;\n",
              "      width: 32px;\n",
              "    }\n",
              "\n",
              "    .colab-df-convert:hover {\n",
              "      background-color: #E2EBFA;\n",
              "      box-shadow: 0px 1px 2px rgba(60, 64, 67, 0.3), 0px 1px 3px 1px rgba(60, 64, 67, 0.15);\n",
              "      fill: #174EA6;\n",
              "    }\n",
              "\n",
              "    [theme=dark] .colab-df-convert {\n",
              "      background-color: #3B4455;\n",
              "      fill: #D2E3FC;\n",
              "    }\n",
              "\n",
              "    [theme=dark] .colab-df-convert:hover {\n",
              "      background-color: #434B5C;\n",
              "      box-shadow: 0px 1px 3px 1px rgba(0, 0, 0, 0.15);\n",
              "      filter: drop-shadow(0px 1px 2px rgba(0, 0, 0, 0.3));\n",
              "      fill: #FFFFFF;\n",
              "    }\n",
              "  </style>\n",
              "\n",
              "      <script>\n",
              "        const buttonEl =\n",
              "          document.querySelector('#df-02fd8a6d-0589-4c96-9679-fd1a2613667f button.colab-df-convert');\n",
              "        buttonEl.style.display =\n",
              "          google.colab.kernel.accessAllowed ? 'block' : 'none';\n",
              "\n",
              "        async function convertToInteractive(key) {\n",
              "          const element = document.querySelector('#df-02fd8a6d-0589-4c96-9679-fd1a2613667f');\n",
              "          const dataTable =\n",
              "            await google.colab.kernel.invokeFunction('convertToInteractive',\n",
              "                                                     [key], {});\n",
              "          if (!dataTable) return;\n",
              "\n",
              "          const docLinkHtml = 'Like what you see? Visit the ' +\n",
              "            '<a target=\"_blank\" href=https://colab.research.google.com/notebooks/data_table.ipynb>data table notebook</a>'\n",
              "            + ' to learn more about interactive tables.';\n",
              "          element.innerHTML = '';\n",
              "          dataTable['output_type'] = 'display_data';\n",
              "          await google.colab.output.renderOutput(dataTable, element);\n",
              "          const docLink = document.createElement('div');\n",
              "          docLink.innerHTML = docLinkHtml;\n",
              "          element.appendChild(docLink);\n",
              "        }\n",
              "      </script>\n",
              "    </div>\n",
              "  </div>\n",
              "  "
            ]
          },
          "metadata": {},
          "execution_count": 64
        }
      ]
    },
    {
      "cell_type": "code",
      "source": [
        "df_base = df_base.dropna(subset = [\"distrito\", \"geoespacial\", \"fecha_suceso\", \"raza_victima\", \"sexo_victima\", \"hora_suceso\", \"delito_completado_interrumpido\"])"
      ],
      "metadata": {
        "id": "5KpfD9Gb3r6_"
      },
      "execution_count": 65,
      "outputs": []
    },
    {
      "cell_type": "code",
      "source": [
        "df_base['fecha_suceso']"
      ],
      "metadata": {
        "colab": {
          "base_uri": "https://localhost:8080/"
        },
        "id": "dUHGsFdwQAcA",
        "outputId": "10219c97-4632-4e8d-f43e-af401935439f"
      },
      "execution_count": 66,
      "outputs": [
        {
          "output_type": "execute_result",
          "data": {
            "text/plain": [
              "0         2018-03-29\n",
              "1         2018-02-06\n",
              "2         2018-11-21\n",
              "3         2018-06-09\n",
              "4         2018-11-10\n",
              "             ...    \n",
              "7825494   2008-05-01\n",
              "7825495   2018-05-18\n",
              "7825496   2018-11-19\n",
              "7825497   2018-02-03\n",
              "7825498   2018-01-05\n",
              "Name: fecha_suceso, Length: 7386726, dtype: datetime64[ns]"
            ]
          },
          "metadata": {},
          "execution_count": 66
        }
      ]
    },
    {
      "cell_type": "code",
      "source": [
        "#df_base['hora_suceso'] = pd.to_datetime(df_base['hora_suceso'],format= '%H:%M:%S').dt.time\n",
        "\n",
        "#Se remueve una fila que contiene un dato: 1018-09-28\n",
        "#df_base.drop(df_base['fecha_suceso'] == '1018-09-28').index\n",
        "\n",
        "df_base['fecha_suceso'] = pd.to_datetime(df_base['fecha_suceso'], format='%Y-%m-%d').dt.strftime('%m-%d-%Y')\n",
        "df_base['fecha_denuncia'] = pd.to_datetime(df_base['fecha_denuncia'], format='%Y-%m-%d').dt.strftime('%m-%d-%Y')\n",
        "\n",
        "print(pd.to_datetime(df_base['fecha_suceso'], errors='coerce').isna().sum())\n",
        "print(pd.to_datetime(df_base['fecha_denuncia'], errors='coerce').isna().sum())"
      ],
      "metadata": {
        "colab": {
          "base_uri": "https://localhost:8080/"
        },
        "id": "MkLHRhbP3r4X",
        "outputId": "7c53de32-4ea9-48df-ab30-85937079bbcd"
      },
      "execution_count": 67,
      "outputs": [
        {
          "output_type": "stream",
          "name": "stderr",
          "text": [
            "<ipython-input-67-40fd97765610>:6: SettingWithCopyWarning: \n",
            "A value is trying to be set on a copy of a slice from a DataFrame.\n",
            "Try using .loc[row_indexer,col_indexer] = value instead\n",
            "\n",
            "See the caveats in the documentation: https://pandas.pydata.org/pandas-docs/stable/user_guide/indexing.html#returning-a-view-versus-a-copy\n",
            "  df_base['fecha_suceso'] = pd.to_datetime(df_base['fecha_suceso'], format='%Y-%m-%d').dt.strftime('%m-%d-%Y')\n",
            "<ipython-input-67-40fd97765610>:7: SettingWithCopyWarning: \n",
            "A value is trying to be set on a copy of a slice from a DataFrame.\n",
            "Try using .loc[row_indexer,col_indexer] = value instead\n",
            "\n",
            "See the caveats in the documentation: https://pandas.pydata.org/pandas-docs/stable/user_guide/indexing.html#returning-a-view-versus-a-copy\n",
            "  df_base['fecha_denuncia'] = pd.to_datetime(df_base['fecha_denuncia'], format='%Y-%m-%d').dt.strftime('%m-%d-%Y')\n"
          ]
        },
        {
          "output_type": "stream",
          "name": "stdout",
          "text": [
            "0\n",
            "0\n"
          ]
        }
      ]
    },
    {
      "cell_type": "code",
      "source": [
        "df_base.dropna(subset=['fecha_suceso'], inplace=True)\n",
        "df_base['fecha_suceso'] = df_base['fecha_suceso'].astype(str).str.replace('-:', '')\n",
        "df_base = df_base[~df_base['fecha_suceso'].isna()]"
      ],
      "metadata": {
        "colab": {
          "base_uri": "https://localhost:8080/"
        },
        "id": "WZAf1uUVNuZF",
        "outputId": "a775fb6d-3aa1-4cd0-ee65-f80e1976d4e5"
      },
      "execution_count": 68,
      "outputs": [
        {
          "output_type": "stream",
          "name": "stderr",
          "text": [
            "<ipython-input-68-1f419f26e281>:1: SettingWithCopyWarning: \n",
            "A value is trying to be set on a copy of a slice from a DataFrame\n",
            "\n",
            "See the caveats in the documentation: https://pandas.pydata.org/pandas-docs/stable/user_guide/indexing.html#returning-a-view-versus-a-copy\n",
            "  df_base.dropna(subset=['fecha_suceso'], inplace=True)\n",
            "<ipython-input-68-1f419f26e281>:2: SettingWithCopyWarning: \n",
            "A value is trying to be set on a copy of a slice from a DataFrame.\n",
            "Try using .loc[row_indexer,col_indexer] = value instead\n",
            "\n",
            "See the caveats in the documentation: https://pandas.pydata.org/pandas-docs/stable/user_guide/indexing.html#returning-a-view-versus-a-copy\n",
            "  df_base['fecha_suceso'] = df_base['fecha_suceso'].astype(str).str.replace('-:', '')\n"
          ]
        }
      ]
    },
    {
      "cell_type": "code",
      "source": [
        "df_base['fecha_suceso'] = pd.to_datetime(df_base['fecha_suceso'])\n",
        "df_base['fecha_denuncia'] = pd.to_datetime(df_base['fecha_denuncia'])\n",
        "df_base['diff_dias_hecho_denuncia'] = (df_base['fecha_denuncia'] - df_base['fecha_suceso']).dt.days.astype(int)"
      ],
      "metadata": {
        "id": "GJBlc5Hz3ru2"
      },
      "execution_count": 69,
      "outputs": []
    },
    {
      "cell_type": "code",
      "source": [
        "#Madrugada: Desde las 00:00 a las 06:00.\n",
        "#Mañana: Desde las 06:00 a las 12:00 del mediodía.\n",
        "#Tarde: Desde las 12:00 del mediodía hasta las 18:00 aproximadamente.\n",
        "#Noche: Desde las 18:00 hasta las 00:00 aproximadamente.\n",
        "\n",
        "df_base['hora_suceso'] = pd.to_datetime(df_base['hora_suceso'],format= '%H:%M:%S').dt.time\n",
        "\n",
        "hora0= datetime.time(0, 0, 0)\n",
        "hora1= datetime.time(6, 0, 0)\n",
        "hora2= datetime.time(12, 0, 0)\n",
        "hora3= datetime.time(18, 0, 0)\n",
        "\n",
        "df_base['hora_suceso'] = np.where((df_base['hora_suceso'] >= hora0) & (df_base['hora_suceso'] < hora1),\n",
        "                            'Madrugada',\n",
        "                            np.where((df_base['hora_suceso'] >= hora1) & (df_base['hora_suceso'] < hora2),\n",
        "                                                                     'Mañana', \n",
        "                                                                     np.where((df_base['hora_suceso'] >= hora2) & (df_base['hora_suceso'] < hora3), \n",
        "                                                                              'Tarde', 'Noche')))"
      ],
      "metadata": {
        "id": "a-ZS64p63rqj"
      },
      "execution_count": 70,
      "outputs": []
    },
    {
      "cell_type": "code",
      "source": [
        "#El lunes se representa con el número 0\n",
        "#El martes se representa con el número 1\n",
        "#El miércoles se representa con el número 2\n",
        "#El jueves se representa con el número 3\n",
        "#El viernes se representa con el número 4\n",
        "#El sábado se representa con el número 5\n",
        "#El domingo se representa con el número 6\n",
        "\n",
        "df_base['dia_suceso']= df_base['fecha_suceso'].dt.weekday\n",
        "df_base['dia_suceso']= np.where(df_base['dia_suceso'] == 0, 'lunes', \n",
        "                           np.where(df_base['dia_suceso'] == 1, 'martes', \n",
        "                                    np.where(df_base['dia_suceso'] == 2, 'miercoles',\n",
        "                                             np.where(df_base['dia_suceso'] == 3, 'jueves',\n",
        "                                                      np.where(df_base['dia_suceso'] == 4, 'viernes',\n",
        "                                                               np.where(df_base['dia_suceso'] == 5, 'sabado', 'domingo'))))))"
      ],
      "metadata": {
        "id": "oucP6-PC3rok"
      },
      "execution_count": 71,
      "outputs": []
    },
    {
      "cell_type": "code",
      "source": [
        "#Para saber la estaciones se deben conocer los meses:\n",
        "#primavera - spring (March-May) (3-5), \n",
        "#verano - summer (June-August) (6-8), \n",
        "#otoño - autumn (September-November) (9-11) \n",
        "#invierno - winter (December-February (12-1).\n",
        "\n",
        "df_base['fecha_suceso'].dt.month\n",
        "df_base['estacion_suceso'] = df_base['fecha_suceso'].dt.month\n",
        "\n",
        "df_base['estacion_suceso']= np.where((df_base['estacion_suceso'] >= 3)&(df_base['estacion_suceso'] <= 5), 'primavera', \n",
        "                                np.where((df_base['estacion_suceso'] >= 6)&(df_base['estacion_suceso'] <= 8), 'verano', \n",
        "                                         np.where((df_base['estacion_suceso'] >= 9)&(df_base['estacion_suceso'] <= 11), 'otono', 'invierno')))"
      ],
      "metadata": {
        "id": "2igqUllM3rmn"
      },
      "execution_count": 72,
      "outputs": []
    },
    {
      "cell_type": "code",
      "source": [
        "#El lunes se representa con el número 0\n",
        "#El martes se representa con el número 1\n",
        "#El miércoles se representa con el número 2\n",
        "#El jueves se representa con el número 3\n",
        "#El viernes se representa con el número 4\n",
        "#El sábado se representa con el número 5\n",
        "#El domingo se representa con el número 6\n",
        "\n",
        "df_base['mes_suceso']= df_base['fecha_suceso'].dt.month\n",
        "df_base['mes_suceso'] = np.where(df_base['mes_suceso'] == 0, 'enero', \n",
        "                           np.where(df_base['mes_suceso'] == 1, 'febrero', \n",
        "                                    np.where(df_base['mes_suceso'] == 2, 'marzo',\n",
        "                                             np.where(df_base['mes_suceso'] == 3, 'abril',\n",
        "                                                      np.where(df_base['mes_suceso'] == 4, 'mayo',\n",
        "                                                               np.where(df_base['mes_suceso'] == 5, 'junio', \n",
        "                                                                        np.where(df_base['mes_suceso'] == 6, 'julio',\n",
        "                                                                                 np.where(df_base['mes_suceso'] == 7, 'agosto',\n",
        "                                                                                          np.where(df_base['mes_suceso'] == 8, 'septiembre',\n",
        "                                                                                                   np.where(df_base['mes_suceso'] == 9, 'octubre',\n",
        "                                                                                                            np.where(df_base['mes_suceso'] == 10, 'noviembre','diciembre')))))))))))"
      ],
      "metadata": {
        "id": "A_8ItT6a3rh1"
      },
      "execution_count": 73,
      "outputs": []
    },
    {
      "cell_type": "code",
      "source": [
        "df_base.columns"
      ],
      "metadata": {
        "colab": {
          "base_uri": "https://localhost:8080/"
        },
        "id": "Nq0Qs_7dodZP",
        "outputId": "e901a854-2588-44d4-f1d8-5a4dd507d00e"
      },
      "execution_count": 75,
      "outputs": [
        {
          "output_type": "execute_result",
          "data": {
            "text/plain": [
              "Index(['num_denuncia', 'fecha_suceso', 'hora_suceso', 'direccion_suceso',\n",
              "       'fecha_denuncia', 'delito_completado_interrumpido', 'nivel_ofensa',\n",
              "       'distrito', 'jurisdiccion_encargada', 'grupo_edad_sospechoso',\n",
              "       'raza_sospechoso', 'sexo_sospechoso', 'latitud', 'longitud',\n",
              "       'geoespacial', 'grupo_edad_victima', 'raza_victima', 'sexo_victima',\n",
              "       'tipo_crimen', 'lugar', 'diff_dias_hecho_denuncia', 'dia_suceso',\n",
              "       'estacion_suceso', 'mes_suceso'],\n",
              "      dtype='object')"
            ]
          },
          "metadata": {},
          "execution_count": 75
        }
      ]
    },
    {
      "cell_type": "code",
      "source": [
        "# Check for null values in the 4 columns\n",
        "null_cols = ['grupo_edad_sospechoso', 'sexo_sospechoso', 'raza_sospechoso', 'grupo_edad_victima']\n",
        "null_df = df_base[null_cols].isnull()\n",
        "\n",
        "# Add missing value count column\n",
        "null_df['missing_count'] = null_df.sum(axis=1)\n",
        "\n",
        "# Add percentage of missing values column\n",
        "null_df['missing_percent'] = null_df.mean(axis=1) * 100\n",
        "\n",
        "# Rename columns and rows\n",
        "null_df.columns = ['grupo_edad_sospechoso_null', 'sexo_sospechoso_null', 'raza_sospechoso_null', 'grupo_edad_victima_null', 'missing_count', 'missing_percent']\n",
        "null_df.index.name = 'row_number'\n",
        "\n",
        "# Get the rows with all 4 columns null\n",
        "null_rows = null_df[null_df['missing_count'] == 4].index\n",
        "\n",
        "# Remove the rows from the original dataframe\n",
        "df_base = df_base.drop(null_rows)"
      ],
      "metadata": {
        "id": "6XQwPqamhxBA"
      },
      "execution_count": 77,
      "outputs": []
    },
    {
      "cell_type": "code",
      "source": [
        "#Se elimina diff en fechas negativas\n",
        "df_base = df_base[df_base['diff_dias_hecho_denuncia'] >= 0]"
      ],
      "metadata": {
        "id": "RK-o7Ax-hy7J"
      },
      "execution_count": 78,
      "outputs": []
    },
    {
      "cell_type": "code",
      "source": [
        "# Drop rows with a year before 2005 or on or after 2020\n",
        "df_base = df_base.drop(df_base[(df_base['fecha_suceso'].dt.year < 2005) | (df_base['fecha_suceso'].dt.year >= 2020)].index)"
      ],
      "metadata": {
        "id": "G7N7AWyyh0NH"
      },
      "execution_count": 79,
      "outputs": []
    },
    {
      "cell_type": "code",
      "source": [
        "# create a dictionary to map the old options to the new categories\n",
        "#1. Riñas, orden público, fuga, leyes de tránsito, delito menor\n",
        "#2. Armas, tráfico de drogas, F\n",
        "#3. Fraude, robos y hurtos, concierto para delinquir, delitos administrativos,\n",
        "#4. Crímenes sexuales y acoso\n",
        "#5. Delito mayor, secuestro y relacionados, homicidio\n",
        "#6. Salud pública, crimen fallido, otros crímenes\n",
        "\n",
        "dic_tipo_crimen = {\n",
        "    'Robos y hurtos': 'extorsion',\n",
        "    'Delito mayor': 'delitos_graves',\n",
        "    'Acoso': 'crimenes_sexuales',\n",
        "    'Orden publico': 'incidentes_menores',\n",
        "    'Trafico de drogas': 'armas_drogas',\n",
        "    'Crimen fallido': 'otros_crimenes',\n",
        "    'Leyes de transito': 'incidentes_menores',\n",
        "    'Crimenes sexuales': 'crimenes_sexuales',\n",
        "    'Fraude': 'extorsion',\n",
        "    'Armas': 'armas_drogas',\n",
        "    'Delitos administrativos': 'extorsion',\n",
        "    'Delito menor': 'incidentes_menores',\n",
        "    'Secuestro y relacionados': 'delitos_graves',\n",
        "    'Otros crimenes': 'otros_crimenes',\n",
        "    'Riñas': 'incidentes_menores',\n",
        "    'Fuga': 'incidentes_menores',\n",
        "    'Concierto para delinquir': 'extorsion',\n",
        "    'Salud Publica': 'otros_crimenes',\n",
        "    'Homicidio': 'delitos_graves'}\n",
        "\n",
        "# use the replace method to map the old options to the new categories\n",
        "df_base['tipo_crimen'] = df_base['tipo_crimen'].replace(dic_tipo_crimen)"
      ],
      "metadata": {
        "id": "X-m4uBH7h25F"
      },
      "execution_count": 80,
      "outputs": []
    },
    {
      "cell_type": "code",
      "source": [
        "#Licorera, club nocturno, restaurante, zona de comercio, hotel: lugares de diversión, compras, esparcimiento y turismo\n",
        "#Transporte público, servicios de salud, servicios financieros, institución educativa: suplencia de necesidades/actividades de la vida diaria\n",
        "#Edificio abandonado, bodega, parqueadero, muelle, construcción: ¿lugares más solitarios?\n",
        "#Calle, zona residencial, parque, centros públicos, templo religioso\n",
        "#No registrado, otros.\n",
        "\n",
        "dic_lugares = {\n",
        "    'Zona residencial': 'lugares publicos',\n",
        "    'Calle': 'lugares publicos',\n",
        "    'Zona de comercio': 'diversion y turismo',\n",
        "    'Transporte publico': 'necesidades diarias',\n",
        "    'Otros': 'Otros',\n",
        "    'Restaurante': 'diversion y turismo',\n",
        "    'Bodega': 'lugares solitarios',\n",
        "    'Parque': 'lugares publicos',\n",
        "    'club nocturno': 'diversion y turismo',\n",
        "    'Institucion educativa': 'necesidades diarias',\n",
        "    'Servicios de salud': 'necesidades diarias',\n",
        "    'Parqueadero': 'lugares solitarios',\n",
        "    'Hotel': 'diversion y turismo',\n",
        "    'Servicios financieros': 'necesidades diarias',\n",
        "    'Centros publicos': 'lugares publicos',\n",
        "    'No registrado': 'Otros',\n",
        "    'Templo religioso': 'lugares publicos',\n",
        "    'Construccion': 'lugares solitarios',\n",
        "    'Licorera': 'diversion y turismo',\n",
        "    'Muelle': 'lugares solitarios',\n",
        "    'Edificio abandonado': 'lugares solitarios'}\n",
        "\n",
        "# use the replace method to map the old options to the new categories\n",
        "df_base['lugar'] = df_base['lugar'].replace(dic_lugares)"
      ],
      "metadata": {
        "id": "PcUtJS25h38S"
      },
      "execution_count": 81,
      "outputs": []
    },
    {
      "cell_type": "code",
      "source": [
        "#grupo_edad_sospechoso\n",
        "mask1 = ~df_base.grupo_edad_sospechoso.isin(['25-44', '18-44', '<18', '45-64'])\n",
        "df_base.grupo_edad_sospechoso = np.where(mask1, \"UNKNOWN\", df_base.grupo_edad_sospechoso)\n",
        "\n",
        "#grupo_edad_victima\n",
        "mask2 = ~df_base.grupo_edad_victima.isin(['25-44', '18-44', '<18', '45-64'])\n",
        "df_base.grupo_edad_victima = np.where(mask2, \"UNKNOWN\", df_base.grupo_edad_victima)\n",
        "\n",
        "#grupo_raza_victima\n",
        "df_base.raza_victima = np.where(df_base.raza_victima == 'OTHER', \n",
        "                                                'UNKNOWN', np.where(df_base.raza_victima == 'BLACK HISPANIC', \n",
        "                                                                    'BLACK', np.where(df_base.raza_victima == 'WHITE HISPANIC', \n",
        "                                                                                      'WHITE', df_base.raza_victima)))\n",
        "\n",
        "#F: Female, M: Male, D: Transgender or Gender Nonconforming with a male sex assigned at birth, \n",
        "#E: Transgender or Gender Nonconforming with a female sex assigned at birth\n",
        "#U: Unknown or Unspecified, se elimina\n",
        "df_base.sexo_victima = np.where(df_base.sexo_victima == 'F', \n",
        "                                                'Femenino', np.where(df_base.sexo_victima == 'M', \n",
        "                                                                    'Masculino', np.where((df_base.sexo_victima == 'D') | (df_base.sexo_victima == 'E'), \n",
        "                                                                                      'Transgenero', df_base.sexo_victima)))\n",
        "\n",
        "#Sexo sospechoso\n",
        "df_base.sexo_sospechoso = np.where(df_base.sexo_sospechoso == 'F', \n",
        "                                                'Femenino', np.where(df_base.sexo_sospechoso == 'M', \n",
        "                                                                    'Masculino','Desconocido'))\n",
        "\n",
        "#raza_sospechoso\n",
        "df_base.raza_sospechoso = np.where(df_base.raza_sospechoso == 'OTHER', \n",
        "                                                'UNKNOWN', np.where(df_base.raza_sospechoso == 'BLACK HISPANIC', \n",
        "                                                                    'BLACK', np.where(df_base.raza_sospechoso == 'WHITE HISPANIC', \n",
        "                                                                                      'WHITE', df_base.raza_sospechoso)))\n",
        "\n",
        "#NaN en raza_sospechoso\n",
        "df_base.raza_sospechoso = np.where(pd.isna(df_base.raza_sospechoso), 'UNKNOWN', df_base.raza_sospechoso)"
      ],
      "metadata": {
        "id": "ZloDSuhOh7V0"
      },
      "execution_count": 82,
      "outputs": []
    },
    {
      "cell_type": "code",
      "source": [
        "df_base.info()"
      ],
      "metadata": {
        "colab": {
          "base_uri": "https://localhost:8080/"
        },
        "id": "IRj6-A3rJ9Ik",
        "outputId": "cf575e4f-5573-4346-db83-ea6bea063767"
      },
      "execution_count": 83,
      "outputs": [
        {
          "output_type": "stream",
          "name": "stdout",
          "text": [
            "<class 'pandas.core.frame.DataFrame'>\n",
            "Int64Index: 6532478 entries, 0 to 7825498\n",
            "Data columns (total 24 columns):\n",
            " #   Column                          Dtype         \n",
            "---  ------                          -----         \n",
            " 0   num_denuncia                    int64         \n",
            " 1   fecha_suceso                    datetime64[ns]\n",
            " 2   hora_suceso                     object        \n",
            " 3   direccion_suceso                float64       \n",
            " 4   fecha_denuncia                  datetime64[ns]\n",
            " 5   delito_completado_interrumpido  category      \n",
            " 6   nivel_ofensa                    category      \n",
            " 7   distrito                        category      \n",
            " 8   jurisdiccion_encargada          object        \n",
            " 9   grupo_edad_sospechoso           object        \n",
            " 10  raza_sospechoso                 object        \n",
            " 11  sexo_sospechoso                 object        \n",
            " 12  latitud                         float64       \n",
            " 13  longitud                        float64       \n",
            " 14  geoespacial                     object        \n",
            " 15  grupo_edad_victima              object        \n",
            " 16  raza_victima                    object        \n",
            " 17  sexo_victima                    object        \n",
            " 18  tipo_crimen                     object        \n",
            " 19  lugar                           object        \n",
            " 20  diff_dias_hecho_denuncia        int64         \n",
            " 21  dia_suceso                      object        \n",
            " 22  estacion_suceso                 object        \n",
            " 23  mes_suceso                      object        \n",
            "dtypes: category(3), datetime64[ns](2), float64(3), int64(2), object(14)\n",
            "memory usage: 1.1+ GB\n"
          ]
        }
      ]
    },
    {
      "cell_type": "code",
      "source": [
        "df_base.shape"
      ],
      "metadata": {
        "colab": {
          "base_uri": "https://localhost:8080/"
        },
        "id": "-slEGREXKAFX",
        "outputId": "9619500a-b865-4a74-f194-f1a9303bccb0"
      },
      "execution_count": 84,
      "outputs": [
        {
          "output_type": "execute_result",
          "data": {
            "text/plain": [
              "(6532478, 24)"
            ]
          },
          "metadata": {},
          "execution_count": 84
        }
      ]
    },
    {
      "cell_type": "markdown",
      "source": [
        "Descarga de df_base para ejecutar las siguientes iteraciones"
      ],
      "metadata": {
        "id": "0riq6H6-5MOb"
      }
    },
    {
      "cell_type": "code",
      "source": [
        "#df_base.to_csv(\"df_base.csv\", encoding = 'utf-8-sig', index = False)\n",
        "#files.download(\"df_base.csv\")"
      ],
      "metadata": {
        "id": "J5SsuZ6B5Lw1"
      },
      "execution_count": null,
      "outputs": []
    }
  ],
  "metadata": {
    "colab": {
      "collapsed_sections": [
        "gXBH_zzsMYtt"
      ],
      "provenance": []
    },
    "kernelspec": {
      "display_name": "Python 3",
      "name": "python3"
    },
    "language_info": {
      "name": "python"
    },
    "accelerator": "TPU"
  },
  "nbformat": 4,
  "nbformat_minor": 0
}