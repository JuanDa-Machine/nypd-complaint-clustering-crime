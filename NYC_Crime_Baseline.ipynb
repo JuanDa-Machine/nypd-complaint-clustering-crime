{
  "cells": [
    {
      "cell_type": "code",
      "source": [
        "from sklearn.preprocessing import OneHotEncoder\n",
        "from sklearn.preprocessing import StandardScaler\n",
        "import matplotlib.pyplot as plt\n",
        "from sklearn.cluster import KMeans\n",
        "from sklearn.decomposition import PCA\n",
        "from sklearn.metrics import silhouette_score\n",
        "import numpy as np\n",
        "import seaborn as sns\n",
        "import datetime"
      ],
      "metadata": {
        "id": "y6xAHGA6cCOJ"
      },
      "execution_count": 1,
      "outputs": []
    },
    {
      "cell_type": "code",
      "execution_count": 2,
      "metadata": {
        "colab": {
          "base_uri": "https://localhost:8080/"
        },
        "id": "LxVILfqU0zSr",
        "outputId": "91423bba-b38a-41f0-a24c-34a82a554f72"
      },
      "outputs": [
        {
          "output_type": "stream",
          "name": "stdout",
          "text": [
            "Mounted at /content/drive\n"
          ]
        }
      ],
      "source": [
        "import pandas as pd\n",
        "from google.colab import drive\n",
        "drive.mount('/content/drive')"
      ]
    },
    {
      "cell_type": "markdown",
      "metadata": {
        "id": "9N3MlErx1csh"
      },
      "source": [
        "###NYC Historical Data: Complaints"
      ]
    },
    {
      "cell_type": "markdown",
      "metadata": {
        "id": "oW6ZOgPe2f1A"
      },
      "source": [
        "[Data, New York City](https://data.cityofnewyork.us/Public-Safety/NYPD-Complaint-Data-Historic/qgea-i56i)"
      ]
    },
    {
      "cell_type": "markdown",
      "metadata": {
        "id": "EQNc5Ymn2e6q"
      },
      "source": [
        "This dataset includes all valid felony, misdemeanor, and violation crimes reported to the New York City Police Department (NYPD) from 2006 to the end of last year (2019). For additional details, please see the attached data dictionary in the ‘About’ section."
      ]
    },
    {
      "cell_type": "markdown",
      "metadata": {
        "id": "fF8gO8lngfdW"
      },
      "source": [
        "## Exploracion Inicial de Datos"
      ]
    },
    {
      "cell_type": "code",
      "execution_count": 5,
      "metadata": {
        "id": "iGhH8ydA1CsQ"
      },
      "outputs": [],
      "source": [
        "df_copy = pd.read_csv(\"/content/drive/MyDrive/Monografia_NYPD/NYPD_Complaint_Data_Historic.csv\", \n",
        "                 dtype={\"BORO_NM\": \"category\", \"CRM_ATPT_CPTD_CD\": \"category\", \n",
        "                        \"LAW_CAT_CD\": \"category\", \"LOC_OF_OCCUR_DESC\": \"category\", \n",
        "                        \"JURIS_DESC\": \"category\", \"JURISDICTION_CODE\": \"category\", \n",
        "                        \"SUSP_RACE\": \"category\", \"SUSP_SEX\": \"category\",\n",
        "                        \"TRANSIT_DISTRICT\": \"category\", \"VIC_RACE\": \"category\", \n",
        "                        \"VIC_SEX\": \"category\"}, low_memory=False, parse_dates = [\"CMPLNT_FR_DT\"])"
      ]
    },
    {
      "cell_type": "code",
      "execution_count": 6,
      "metadata": {
        "id": "gcJMsAGA37u4"
      },
      "outputs": [],
      "source": [
        "df = df_copy.copy()"
      ]
    },
    {
      "cell_type": "code",
      "execution_count": 7,
      "metadata": {
        "id": "R0ggl7UVuwAg"
      },
      "outputs": [],
      "source": [
        "#%\"CMPLNT_FR_DT\": \"datetime\", \"CMPLNT_TO_DT\": \"datetime\", , \"CMPLNT_FR_TM\": \"time\", \"CMPLNT_TO_TM\": \"time\""
      ]
    },
    {
      "cell_type": "code",
      "execution_count": 8,
      "metadata": {
        "colab": {
          "base_uri": "https://localhost:8080/"
        },
        "id": "10H43jAm2vJo",
        "outputId": "b1dd1270-e03e-4ca7-d506-2ab047ca86eb"
      },
      "outputs": [
        {
          "output_type": "stream",
          "name": "stdout",
          "text": [
            "La base de datos cuenta con: 7825499 denuncias registradas y, un total de: 35 atributos (columnas) que describen el hecho\n"
          ]
        }
      ],
      "source": [
        "print(f\"La base de datos cuenta con: {df.shape[0]} denuncias registradas y, un total de: {df.shape[1]} atributos (columnas) que describen el hecho\")"
      ]
    },
    {
      "cell_type": "code",
      "source": [
        "#Se examina la presencia de valores nulos por cada columna:\n",
        "\n",
        "\n",
        "#There are missing values for different columns:\n",
        "\n",
        "#df.isna()\n",
        "a = df.isnull().sum().to_frame().sort_values(by=[0], ascending=False)\n",
        "a.rename(columns={0: \"total_nulos\"}, inplace = True)\n",
        "a[\"%_nulos\"] =round(df.apply(lambda x: 1-(x.count()/x.size))*100,2)\n",
        "a\n",
        "#df.style.format(\"{:,.0f}\")"
      ],
      "metadata": {
        "colab": {
          "base_uri": "https://localhost:8080/",
          "height": 1000
        },
        "id": "8XeVoSCRqanF",
        "outputId": "2bf9cfc2-3951-4a52-9f60-9f0d711ec532"
      },
      "execution_count": 9,
      "outputs": [
        {
          "output_type": "execute_result",
          "data": {
            "text/plain": [
              "                   total_nulos  %_nulos\n",
              "PARKS_NM               7794644    99.61\n",
              "STATION_NAME           7653024    97.80\n",
              "TRANSIT_DISTRICT       7653024    97.80\n",
              "HADEVELOPT             7477110    95.55\n",
              "HOUSING_PSA            7226206    92.34\n",
              "SUSP_AGE_GROUP         4883369    62.40\n",
              "SUSP_SEX               3648142    46.62\n",
              "SUSP_RACE              3514828    44.92\n",
              "CMPLNT_TO_DT           1744294    22.29\n",
              "CMPLNT_TO_TM           1739479    22.23\n",
              "VIC_AGE_GROUP          1638445    20.94\n",
              "LOC_OF_OCCUR_DESC      1618063    20.68\n",
              "PREM_TYP_DESC            42015     0.54\n",
              "OFNS_DESC                18832     0.24\n",
              "Y_COORD_CD               17339     0.22\n",
              "X_COORD_CD               17339     0.22\n",
              "Lat_Lon                  17339     0.22\n",
              "Latitude                 17339     0.22\n",
              "Longitude                17339     0.22\n",
              "BORO_NM                  12480     0.16\n",
              "PATROL_BORO               7218     0.09\n",
              "PD_DESC                   6761     0.09\n",
              "PD_CD                     6761     0.09\n",
              "JURISDICTION_CODE         6761     0.09\n",
              "ADDR_PCT_CD               2166     0.03\n",
              "CMPLNT_FR_DT               655     0.01\n",
              "VIC_RACE                   390     0.00\n",
              "VIC_SEX                    308     0.00\n",
              "CRM_ATPT_CPTD_CD           168     0.00\n",
              "CMPLNT_FR_TM                48     0.00\n",
              "JURIS_DESC                   0     0.00\n",
              "LAW_CAT_CD                   0     0.00\n",
              "KY_CD                        0     0.00\n",
              "RPT_DT                       0     0.00\n",
              "CMPLNT_NUM                   0     0.00"
            ],
            "text/html": [
              "\n",
              "  <div id=\"df-71b769b9-c769-4194-9f03-5b7fe9cbcde8\">\n",
              "    <div class=\"colab-df-container\">\n",
              "      <div>\n",
              "<style scoped>\n",
              "    .dataframe tbody tr th:only-of-type {\n",
              "        vertical-align: middle;\n",
              "    }\n",
              "\n",
              "    .dataframe tbody tr th {\n",
              "        vertical-align: top;\n",
              "    }\n",
              "\n",
              "    .dataframe thead th {\n",
              "        text-align: right;\n",
              "    }\n",
              "</style>\n",
              "<table border=\"1\" class=\"dataframe\">\n",
              "  <thead>\n",
              "    <tr style=\"text-align: right;\">\n",
              "      <th></th>\n",
              "      <th>total_nulos</th>\n",
              "      <th>%_nulos</th>\n",
              "    </tr>\n",
              "  </thead>\n",
              "  <tbody>\n",
              "    <tr>\n",
              "      <th>PARKS_NM</th>\n",
              "      <td>7794644</td>\n",
              "      <td>99.61</td>\n",
              "    </tr>\n",
              "    <tr>\n",
              "      <th>STATION_NAME</th>\n",
              "      <td>7653024</td>\n",
              "      <td>97.80</td>\n",
              "    </tr>\n",
              "    <tr>\n",
              "      <th>TRANSIT_DISTRICT</th>\n",
              "      <td>7653024</td>\n",
              "      <td>97.80</td>\n",
              "    </tr>\n",
              "    <tr>\n",
              "      <th>HADEVELOPT</th>\n",
              "      <td>7477110</td>\n",
              "      <td>95.55</td>\n",
              "    </tr>\n",
              "    <tr>\n",
              "      <th>HOUSING_PSA</th>\n",
              "      <td>7226206</td>\n",
              "      <td>92.34</td>\n",
              "    </tr>\n",
              "    <tr>\n",
              "      <th>SUSP_AGE_GROUP</th>\n",
              "      <td>4883369</td>\n",
              "      <td>62.40</td>\n",
              "    </tr>\n",
              "    <tr>\n",
              "      <th>SUSP_SEX</th>\n",
              "      <td>3648142</td>\n",
              "      <td>46.62</td>\n",
              "    </tr>\n",
              "    <tr>\n",
              "      <th>SUSP_RACE</th>\n",
              "      <td>3514828</td>\n",
              "      <td>44.92</td>\n",
              "    </tr>\n",
              "    <tr>\n",
              "      <th>CMPLNT_TO_DT</th>\n",
              "      <td>1744294</td>\n",
              "      <td>22.29</td>\n",
              "    </tr>\n",
              "    <tr>\n",
              "      <th>CMPLNT_TO_TM</th>\n",
              "      <td>1739479</td>\n",
              "      <td>22.23</td>\n",
              "    </tr>\n",
              "    <tr>\n",
              "      <th>VIC_AGE_GROUP</th>\n",
              "      <td>1638445</td>\n",
              "      <td>20.94</td>\n",
              "    </tr>\n",
              "    <tr>\n",
              "      <th>LOC_OF_OCCUR_DESC</th>\n",
              "      <td>1618063</td>\n",
              "      <td>20.68</td>\n",
              "    </tr>\n",
              "    <tr>\n",
              "      <th>PREM_TYP_DESC</th>\n",
              "      <td>42015</td>\n",
              "      <td>0.54</td>\n",
              "    </tr>\n",
              "    <tr>\n",
              "      <th>OFNS_DESC</th>\n",
              "      <td>18832</td>\n",
              "      <td>0.24</td>\n",
              "    </tr>\n",
              "    <tr>\n",
              "      <th>Y_COORD_CD</th>\n",
              "      <td>17339</td>\n",
              "      <td>0.22</td>\n",
              "    </tr>\n",
              "    <tr>\n",
              "      <th>X_COORD_CD</th>\n",
              "      <td>17339</td>\n",
              "      <td>0.22</td>\n",
              "    </tr>\n",
              "    <tr>\n",
              "      <th>Lat_Lon</th>\n",
              "      <td>17339</td>\n",
              "      <td>0.22</td>\n",
              "    </tr>\n",
              "    <tr>\n",
              "      <th>Latitude</th>\n",
              "      <td>17339</td>\n",
              "      <td>0.22</td>\n",
              "    </tr>\n",
              "    <tr>\n",
              "      <th>Longitude</th>\n",
              "      <td>17339</td>\n",
              "      <td>0.22</td>\n",
              "    </tr>\n",
              "    <tr>\n",
              "      <th>BORO_NM</th>\n",
              "      <td>12480</td>\n",
              "      <td>0.16</td>\n",
              "    </tr>\n",
              "    <tr>\n",
              "      <th>PATROL_BORO</th>\n",
              "      <td>7218</td>\n",
              "      <td>0.09</td>\n",
              "    </tr>\n",
              "    <tr>\n",
              "      <th>PD_DESC</th>\n",
              "      <td>6761</td>\n",
              "      <td>0.09</td>\n",
              "    </tr>\n",
              "    <tr>\n",
              "      <th>PD_CD</th>\n",
              "      <td>6761</td>\n",
              "      <td>0.09</td>\n",
              "    </tr>\n",
              "    <tr>\n",
              "      <th>JURISDICTION_CODE</th>\n",
              "      <td>6761</td>\n",
              "      <td>0.09</td>\n",
              "    </tr>\n",
              "    <tr>\n",
              "      <th>ADDR_PCT_CD</th>\n",
              "      <td>2166</td>\n",
              "      <td>0.03</td>\n",
              "    </tr>\n",
              "    <tr>\n",
              "      <th>CMPLNT_FR_DT</th>\n",
              "      <td>655</td>\n",
              "      <td>0.01</td>\n",
              "    </tr>\n",
              "    <tr>\n",
              "      <th>VIC_RACE</th>\n",
              "      <td>390</td>\n",
              "      <td>0.00</td>\n",
              "    </tr>\n",
              "    <tr>\n",
              "      <th>VIC_SEX</th>\n",
              "      <td>308</td>\n",
              "      <td>0.00</td>\n",
              "    </tr>\n",
              "    <tr>\n",
              "      <th>CRM_ATPT_CPTD_CD</th>\n",
              "      <td>168</td>\n",
              "      <td>0.00</td>\n",
              "    </tr>\n",
              "    <tr>\n",
              "      <th>CMPLNT_FR_TM</th>\n",
              "      <td>48</td>\n",
              "      <td>0.00</td>\n",
              "    </tr>\n",
              "    <tr>\n",
              "      <th>JURIS_DESC</th>\n",
              "      <td>0</td>\n",
              "      <td>0.00</td>\n",
              "    </tr>\n",
              "    <tr>\n",
              "      <th>LAW_CAT_CD</th>\n",
              "      <td>0</td>\n",
              "      <td>0.00</td>\n",
              "    </tr>\n",
              "    <tr>\n",
              "      <th>KY_CD</th>\n",
              "      <td>0</td>\n",
              "      <td>0.00</td>\n",
              "    </tr>\n",
              "    <tr>\n",
              "      <th>RPT_DT</th>\n",
              "      <td>0</td>\n",
              "      <td>0.00</td>\n",
              "    </tr>\n",
              "    <tr>\n",
              "      <th>CMPLNT_NUM</th>\n",
              "      <td>0</td>\n",
              "      <td>0.00</td>\n",
              "    </tr>\n",
              "  </tbody>\n",
              "</table>\n",
              "</div>\n",
              "      <button class=\"colab-df-convert\" onclick=\"convertToInteractive('df-71b769b9-c769-4194-9f03-5b7fe9cbcde8')\"\n",
              "              title=\"Convert this dataframe to an interactive table.\"\n",
              "              style=\"display:none;\">\n",
              "        \n",
              "  <svg xmlns=\"http://www.w3.org/2000/svg\" height=\"24px\"viewBox=\"0 0 24 24\"\n",
              "       width=\"24px\">\n",
              "    <path d=\"M0 0h24v24H0V0z\" fill=\"none\"/>\n",
              "    <path d=\"M18.56 5.44l.94 2.06.94-2.06 2.06-.94-2.06-.94-.94-2.06-.94 2.06-2.06.94zm-11 1L8.5 8.5l.94-2.06 2.06-.94-2.06-.94L8.5 2.5l-.94 2.06-2.06.94zm10 10l.94 2.06.94-2.06 2.06-.94-2.06-.94-.94-2.06-.94 2.06-2.06.94z\"/><path d=\"M17.41 7.96l-1.37-1.37c-.4-.4-.92-.59-1.43-.59-.52 0-1.04.2-1.43.59L10.3 9.45l-7.72 7.72c-.78.78-.78 2.05 0 2.83L4 21.41c.39.39.9.59 1.41.59.51 0 1.02-.2 1.41-.59l7.78-7.78 2.81-2.81c.8-.78.8-2.07 0-2.86zM5.41 20L4 18.59l7.72-7.72 1.47 1.35L5.41 20z\"/>\n",
              "  </svg>\n",
              "      </button>\n",
              "      \n",
              "  <style>\n",
              "    .colab-df-container {\n",
              "      display:flex;\n",
              "      flex-wrap:wrap;\n",
              "      gap: 12px;\n",
              "    }\n",
              "\n",
              "    .colab-df-convert {\n",
              "      background-color: #E8F0FE;\n",
              "      border: none;\n",
              "      border-radius: 50%;\n",
              "      cursor: pointer;\n",
              "      display: none;\n",
              "      fill: #1967D2;\n",
              "      height: 32px;\n",
              "      padding: 0 0 0 0;\n",
              "      width: 32px;\n",
              "    }\n",
              "\n",
              "    .colab-df-convert:hover {\n",
              "      background-color: #E2EBFA;\n",
              "      box-shadow: 0px 1px 2px rgba(60, 64, 67, 0.3), 0px 1px 3px 1px rgba(60, 64, 67, 0.15);\n",
              "      fill: #174EA6;\n",
              "    }\n",
              "\n",
              "    [theme=dark] .colab-df-convert {\n",
              "      background-color: #3B4455;\n",
              "      fill: #D2E3FC;\n",
              "    }\n",
              "\n",
              "    [theme=dark] .colab-df-convert:hover {\n",
              "      background-color: #434B5C;\n",
              "      box-shadow: 0px 1px 3px 1px rgba(0, 0, 0, 0.15);\n",
              "      filter: drop-shadow(0px 1px 2px rgba(0, 0, 0, 0.3));\n",
              "      fill: #FFFFFF;\n",
              "    }\n",
              "  </style>\n",
              "\n",
              "      <script>\n",
              "        const buttonEl =\n",
              "          document.querySelector('#df-71b769b9-c769-4194-9f03-5b7fe9cbcde8 button.colab-df-convert');\n",
              "        buttonEl.style.display =\n",
              "          google.colab.kernel.accessAllowed ? 'block' : 'none';\n",
              "\n",
              "        async function convertToInteractive(key) {\n",
              "          const element = document.querySelector('#df-71b769b9-c769-4194-9f03-5b7fe9cbcde8');\n",
              "          const dataTable =\n",
              "            await google.colab.kernel.invokeFunction('convertToInteractive',\n",
              "                                                     [key], {});\n",
              "          if (!dataTable) return;\n",
              "\n",
              "          const docLinkHtml = 'Like what you see? Visit the ' +\n",
              "            '<a target=\"_blank\" href=https://colab.research.google.com/notebooks/data_table.ipynb>data table notebook</a>'\n",
              "            + ' to learn more about interactive tables.';\n",
              "          element.innerHTML = '';\n",
              "          dataTable['output_type'] = 'display_data';\n",
              "          await google.colab.output.renderOutput(dataTable, element);\n",
              "          const docLink = document.createElement('div');\n",
              "          docLink.innerHTML = docLinkHtml;\n",
              "          element.appendChild(docLink);\n",
              "        }\n",
              "      </script>\n",
              "    </div>\n",
              "  </div>\n",
              "  "
            ]
          },
          "metadata": {},
          "execution_count": 9
        }
      ]
    },
    {
      "cell_type": "markdown",
      "source": [
        "Adicional a lo anterior, hay presencia de valores nulos y atípicos que podrían estar en el mismo registro, es decir, en una misma denuncia hay varias características que no están bien diligenciadas o no cuentan con información. El siguiente código considera cada uno de los registros a nivel columna para hacer una evaluación en donde hay 20% de los nulos por fila"
      ],
      "metadata": {
        "id": "AGYHYiTLqJTF"
      }
    },
    {
      "cell_type": "code",
      "source": [
        "threshold = 0.3 # set the threshold to 30%\n",
        "mask = df.isnull().mean(axis=1) > threshold # create a boolean mask\n",
        "rows_with_many_nulls = df[mask] # select rows that meet the condition\n",
        "print(f'Evaluando el dataset y revisando no sólo por columna si no por fila se encuenta que existen: {len(rows_with_many_nulls)} filas en donde hay presencia de por lo menos {threshold * df.shape[1]} atributos nulos' )"
      ],
      "metadata": {
        "colab": {
          "base_uri": "https://localhost:8080/"
        },
        "id": "P4WmuQVAqEkw",
        "outputId": "381cbb04-fe17-4ec0-d996-11ec87528d9a"
      },
      "execution_count": 10,
      "outputs": [
        {
          "output_type": "stream",
          "name": "stdout",
          "text": [
            "Evaluando el dataset y revisando no sólo por columna si no por fila se encuenta que existen: 432332 filas en donde hay presencia de por lo menos 10.5 atributos nulos\n"
          ]
        }
      ]
    },
    {
      "cell_type": "code",
      "source": [
        "#Dada la extensión del fata set y, teniendo en cuenta, que se apunta a hacer una categorización precisa de los crímenes se procede a eliminarlos\n",
        "df.drop(rows_with_many_nulls.index.to_numpy(), axis = 0, inplace = True)\n",
        "df.shape"
      ],
      "metadata": {
        "colab": {
          "base_uri": "https://localhost:8080/"
        },
        "id": "yJJjg_GQq6pT",
        "outputId": "4258e46f-3713-4824-d62e-d4a31d85202e"
      },
      "execution_count": 11,
      "outputs": [
        {
          "output_type": "execute_result",
          "data": {
            "text/plain": [
              "(7393167, 35)"
            ]
          },
          "metadata": {},
          "execution_count": 11
        }
      ]
    },
    {
      "cell_type": "code",
      "source": [
        "#Se examina la presencia de valores nulos por cada columna:\n",
        "\n",
        "\n",
        "#There are missing values for different columns:\n",
        "\n",
        "#df.isna()\n",
        "a = df.isnull().sum().to_frame().sort_values(by=[0], ascending=False)\n",
        "a.rename(columns={0: \"total_nulos\"}, inplace = True)\n",
        "a[\"%_nulos\"] =round(df.apply(lambda x: 1-(x.count()/x.size))*100,2)\n",
        "a\n",
        "#df.style.format(\"{:,.0f}\")"
      ],
      "metadata": {
        "colab": {
          "base_uri": "https://localhost:8080/",
          "height": 1000
        },
        "id": "VhVHbFczuNGB",
        "outputId": "0f84db95-c4c7-4109-bebe-890861ece867"
      },
      "execution_count": 12,
      "outputs": [
        {
          "output_type": "execute_result",
          "data": {
            "text/plain": [
              "                   total_nulos  %_nulos\n",
              "PARKS_NM               7362589    99.59\n",
              "STATION_NAME           7221564    97.68\n",
              "TRANSIT_DISTRICT       7221564    97.68\n",
              "HADEVELOPT             7045690    95.30\n",
              "HOUSING_PSA            6795132    91.91\n",
              "SUSP_AGE_GROUP         4456980    60.29\n",
              "SUSP_SEX               3224841    43.62\n",
              "SUSP_RACE              3093507    41.84\n",
              "LOC_OF_OCCUR_DESC      1412561    19.11\n",
              "CMPLNT_TO_DT           1324994    17.92\n",
              "CMPLNT_TO_TM           1320345    17.86\n",
              "VIC_AGE_GROUP          1307477    17.68\n",
              "PREM_TYP_DESC            27805     0.38\n",
              "OFNS_DESC                13428     0.18\n",
              "BORO_NM                   4163     0.06\n",
              "Longitude                 1400     0.02\n",
              "Latitude                  1400     0.02\n",
              "Lat_Lon                   1400     0.02\n",
              "X_COORD_CD                1400     0.02\n",
              "Y_COORD_CD                1400     0.02\n",
              "CMPLNT_FR_DT               591     0.01\n",
              "VIC_RACE                    87     0.00\n",
              "VIC_SEX                     72     0.00\n",
              "PATROL_BORO                 63     0.00\n",
              "CMPLNT_FR_TM                39     0.00\n",
              "CRM_ATPT_CPTD_CD            28     0.00\n",
              "CMPLNT_NUM                   0     0.00\n",
              "JURIS_DESC                   0     0.00\n",
              "LAW_CAT_CD                   0     0.00\n",
              "PD_DESC                      0     0.00\n",
              "PD_CD                        0     0.00\n",
              "KY_CD                        0     0.00\n",
              "RPT_DT                       0     0.00\n",
              "ADDR_PCT_CD                  0     0.00\n",
              "JURISDICTION_CODE            0     0.00"
            ],
            "text/html": [
              "\n",
              "  <div id=\"df-79fc595b-8f24-42ba-86f0-2b04f4d50ae6\">\n",
              "    <div class=\"colab-df-container\">\n",
              "      <div>\n",
              "<style scoped>\n",
              "    .dataframe tbody tr th:only-of-type {\n",
              "        vertical-align: middle;\n",
              "    }\n",
              "\n",
              "    .dataframe tbody tr th {\n",
              "        vertical-align: top;\n",
              "    }\n",
              "\n",
              "    .dataframe thead th {\n",
              "        text-align: right;\n",
              "    }\n",
              "</style>\n",
              "<table border=\"1\" class=\"dataframe\">\n",
              "  <thead>\n",
              "    <tr style=\"text-align: right;\">\n",
              "      <th></th>\n",
              "      <th>total_nulos</th>\n",
              "      <th>%_nulos</th>\n",
              "    </tr>\n",
              "  </thead>\n",
              "  <tbody>\n",
              "    <tr>\n",
              "      <th>PARKS_NM</th>\n",
              "      <td>7362589</td>\n",
              "      <td>99.59</td>\n",
              "    </tr>\n",
              "    <tr>\n",
              "      <th>STATION_NAME</th>\n",
              "      <td>7221564</td>\n",
              "      <td>97.68</td>\n",
              "    </tr>\n",
              "    <tr>\n",
              "      <th>TRANSIT_DISTRICT</th>\n",
              "      <td>7221564</td>\n",
              "      <td>97.68</td>\n",
              "    </tr>\n",
              "    <tr>\n",
              "      <th>HADEVELOPT</th>\n",
              "      <td>7045690</td>\n",
              "      <td>95.30</td>\n",
              "    </tr>\n",
              "    <tr>\n",
              "      <th>HOUSING_PSA</th>\n",
              "      <td>6795132</td>\n",
              "      <td>91.91</td>\n",
              "    </tr>\n",
              "    <tr>\n",
              "      <th>SUSP_AGE_GROUP</th>\n",
              "      <td>4456980</td>\n",
              "      <td>60.29</td>\n",
              "    </tr>\n",
              "    <tr>\n",
              "      <th>SUSP_SEX</th>\n",
              "      <td>3224841</td>\n",
              "      <td>43.62</td>\n",
              "    </tr>\n",
              "    <tr>\n",
              "      <th>SUSP_RACE</th>\n",
              "      <td>3093507</td>\n",
              "      <td>41.84</td>\n",
              "    </tr>\n",
              "    <tr>\n",
              "      <th>LOC_OF_OCCUR_DESC</th>\n",
              "      <td>1412561</td>\n",
              "      <td>19.11</td>\n",
              "    </tr>\n",
              "    <tr>\n",
              "      <th>CMPLNT_TO_DT</th>\n",
              "      <td>1324994</td>\n",
              "      <td>17.92</td>\n",
              "    </tr>\n",
              "    <tr>\n",
              "      <th>CMPLNT_TO_TM</th>\n",
              "      <td>1320345</td>\n",
              "      <td>17.86</td>\n",
              "    </tr>\n",
              "    <tr>\n",
              "      <th>VIC_AGE_GROUP</th>\n",
              "      <td>1307477</td>\n",
              "      <td>17.68</td>\n",
              "    </tr>\n",
              "    <tr>\n",
              "      <th>PREM_TYP_DESC</th>\n",
              "      <td>27805</td>\n",
              "      <td>0.38</td>\n",
              "    </tr>\n",
              "    <tr>\n",
              "      <th>OFNS_DESC</th>\n",
              "      <td>13428</td>\n",
              "      <td>0.18</td>\n",
              "    </tr>\n",
              "    <tr>\n",
              "      <th>BORO_NM</th>\n",
              "      <td>4163</td>\n",
              "      <td>0.06</td>\n",
              "    </tr>\n",
              "    <tr>\n",
              "      <th>Longitude</th>\n",
              "      <td>1400</td>\n",
              "      <td>0.02</td>\n",
              "    </tr>\n",
              "    <tr>\n",
              "      <th>Latitude</th>\n",
              "      <td>1400</td>\n",
              "      <td>0.02</td>\n",
              "    </tr>\n",
              "    <tr>\n",
              "      <th>Lat_Lon</th>\n",
              "      <td>1400</td>\n",
              "      <td>0.02</td>\n",
              "    </tr>\n",
              "    <tr>\n",
              "      <th>X_COORD_CD</th>\n",
              "      <td>1400</td>\n",
              "      <td>0.02</td>\n",
              "    </tr>\n",
              "    <tr>\n",
              "      <th>Y_COORD_CD</th>\n",
              "      <td>1400</td>\n",
              "      <td>0.02</td>\n",
              "    </tr>\n",
              "    <tr>\n",
              "      <th>CMPLNT_FR_DT</th>\n",
              "      <td>591</td>\n",
              "      <td>0.01</td>\n",
              "    </tr>\n",
              "    <tr>\n",
              "      <th>VIC_RACE</th>\n",
              "      <td>87</td>\n",
              "      <td>0.00</td>\n",
              "    </tr>\n",
              "    <tr>\n",
              "      <th>VIC_SEX</th>\n",
              "      <td>72</td>\n",
              "      <td>0.00</td>\n",
              "    </tr>\n",
              "    <tr>\n",
              "      <th>PATROL_BORO</th>\n",
              "      <td>63</td>\n",
              "      <td>0.00</td>\n",
              "    </tr>\n",
              "    <tr>\n",
              "      <th>CMPLNT_FR_TM</th>\n",
              "      <td>39</td>\n",
              "      <td>0.00</td>\n",
              "    </tr>\n",
              "    <tr>\n",
              "      <th>CRM_ATPT_CPTD_CD</th>\n",
              "      <td>28</td>\n",
              "      <td>0.00</td>\n",
              "    </tr>\n",
              "    <tr>\n",
              "      <th>CMPLNT_NUM</th>\n",
              "      <td>0</td>\n",
              "      <td>0.00</td>\n",
              "    </tr>\n",
              "    <tr>\n",
              "      <th>JURIS_DESC</th>\n",
              "      <td>0</td>\n",
              "      <td>0.00</td>\n",
              "    </tr>\n",
              "    <tr>\n",
              "      <th>LAW_CAT_CD</th>\n",
              "      <td>0</td>\n",
              "      <td>0.00</td>\n",
              "    </tr>\n",
              "    <tr>\n",
              "      <th>PD_DESC</th>\n",
              "      <td>0</td>\n",
              "      <td>0.00</td>\n",
              "    </tr>\n",
              "    <tr>\n",
              "      <th>PD_CD</th>\n",
              "      <td>0</td>\n",
              "      <td>0.00</td>\n",
              "    </tr>\n",
              "    <tr>\n",
              "      <th>KY_CD</th>\n",
              "      <td>0</td>\n",
              "      <td>0.00</td>\n",
              "    </tr>\n",
              "    <tr>\n",
              "      <th>RPT_DT</th>\n",
              "      <td>0</td>\n",
              "      <td>0.00</td>\n",
              "    </tr>\n",
              "    <tr>\n",
              "      <th>ADDR_PCT_CD</th>\n",
              "      <td>0</td>\n",
              "      <td>0.00</td>\n",
              "    </tr>\n",
              "    <tr>\n",
              "      <th>JURISDICTION_CODE</th>\n",
              "      <td>0</td>\n",
              "      <td>0.00</td>\n",
              "    </tr>\n",
              "  </tbody>\n",
              "</table>\n",
              "</div>\n",
              "      <button class=\"colab-df-convert\" onclick=\"convertToInteractive('df-79fc595b-8f24-42ba-86f0-2b04f4d50ae6')\"\n",
              "              title=\"Convert this dataframe to an interactive table.\"\n",
              "              style=\"display:none;\">\n",
              "        \n",
              "  <svg xmlns=\"http://www.w3.org/2000/svg\" height=\"24px\"viewBox=\"0 0 24 24\"\n",
              "       width=\"24px\">\n",
              "    <path d=\"M0 0h24v24H0V0z\" fill=\"none\"/>\n",
              "    <path d=\"M18.56 5.44l.94 2.06.94-2.06 2.06-.94-2.06-.94-.94-2.06-.94 2.06-2.06.94zm-11 1L8.5 8.5l.94-2.06 2.06-.94-2.06-.94L8.5 2.5l-.94 2.06-2.06.94zm10 10l.94 2.06.94-2.06 2.06-.94-2.06-.94-.94-2.06-.94 2.06-2.06.94z\"/><path d=\"M17.41 7.96l-1.37-1.37c-.4-.4-.92-.59-1.43-.59-.52 0-1.04.2-1.43.59L10.3 9.45l-7.72 7.72c-.78.78-.78 2.05 0 2.83L4 21.41c.39.39.9.59 1.41.59.51 0 1.02-.2 1.41-.59l7.78-7.78 2.81-2.81c.8-.78.8-2.07 0-2.86zM5.41 20L4 18.59l7.72-7.72 1.47 1.35L5.41 20z\"/>\n",
              "  </svg>\n",
              "      </button>\n",
              "      \n",
              "  <style>\n",
              "    .colab-df-container {\n",
              "      display:flex;\n",
              "      flex-wrap:wrap;\n",
              "      gap: 12px;\n",
              "    }\n",
              "\n",
              "    .colab-df-convert {\n",
              "      background-color: #E8F0FE;\n",
              "      border: none;\n",
              "      border-radius: 50%;\n",
              "      cursor: pointer;\n",
              "      display: none;\n",
              "      fill: #1967D2;\n",
              "      height: 32px;\n",
              "      padding: 0 0 0 0;\n",
              "      width: 32px;\n",
              "    }\n",
              "\n",
              "    .colab-df-convert:hover {\n",
              "      background-color: #E2EBFA;\n",
              "      box-shadow: 0px 1px 2px rgba(60, 64, 67, 0.3), 0px 1px 3px 1px rgba(60, 64, 67, 0.15);\n",
              "      fill: #174EA6;\n",
              "    }\n",
              "\n",
              "    [theme=dark] .colab-df-convert {\n",
              "      background-color: #3B4455;\n",
              "      fill: #D2E3FC;\n",
              "    }\n",
              "\n",
              "    [theme=dark] .colab-df-convert:hover {\n",
              "      background-color: #434B5C;\n",
              "      box-shadow: 0px 1px 3px 1px rgba(0, 0, 0, 0.15);\n",
              "      filter: drop-shadow(0px 1px 2px rgba(0, 0, 0, 0.3));\n",
              "      fill: #FFFFFF;\n",
              "    }\n",
              "  </style>\n",
              "\n",
              "      <script>\n",
              "        const buttonEl =\n",
              "          document.querySelector('#df-79fc595b-8f24-42ba-86f0-2b04f4d50ae6 button.colab-df-convert');\n",
              "        buttonEl.style.display =\n",
              "          google.colab.kernel.accessAllowed ? 'block' : 'none';\n",
              "\n",
              "        async function convertToInteractive(key) {\n",
              "          const element = document.querySelector('#df-79fc595b-8f24-42ba-86f0-2b04f4d50ae6');\n",
              "          const dataTable =\n",
              "            await google.colab.kernel.invokeFunction('convertToInteractive',\n",
              "                                                     [key], {});\n",
              "          if (!dataTable) return;\n",
              "\n",
              "          const docLinkHtml = 'Like what you see? Visit the ' +\n",
              "            '<a target=\"_blank\" href=https://colab.research.google.com/notebooks/data_table.ipynb>data table notebook</a>'\n",
              "            + ' to learn more about interactive tables.';\n",
              "          element.innerHTML = '';\n",
              "          dataTable['output_type'] = 'display_data';\n",
              "          await google.colab.output.renderOutput(dataTable, element);\n",
              "          const docLink = document.createElement('div');\n",
              "          docLink.innerHTML = docLinkHtml;\n",
              "          element.appendChild(docLink);\n",
              "        }\n",
              "      </script>\n",
              "    </div>\n",
              "  </div>\n",
              "  "
            ]
          },
          "metadata": {},
          "execution_count": 12
        }
      ]
    },
    {
      "cell_type": "markdown",
      "source": [
        "Variables que contienen más del 90% como valores nulos, son descartadass del análisis: PARKS_NM = nombre_area_suceso\t(99.59%), STATION_NAME = nombre_estacion_transito (97.68%), TRANSIT_DISTRICT = distrito_transito\t(97.68%), HADEVELOPT = nombre_urbanizacion (95.30%), HOUSING_PSA = codigo_nivel_desarrollo (91.91%)"
      ],
      "metadata": {
        "id": "C6l9QdMSBTey"
      }
    },
    {
      "cell_type": "code",
      "execution_count": 13,
      "metadata": {
        "id": "YMXGx9jlo3dM"
      },
      "outputs": [],
      "source": [
        "#for i in df.columns:\n",
        "#  if len(df[i].unique()) < 30:\n",
        "#    print(f\"La columna: {i}, contiene: {len(df[i].unique())} valores unicos\")\n",
        "#    print(\"_____________________\")\n",
        "#    print(\"_____________________\")\n",
        "#    print(df[i].value_counts())\n",
        "#  else: \n",
        "#    pass"
      ]
    },
    {
      "cell_type": "code",
      "execution_count": 14,
      "metadata": {
        "id": "CYnaDN56vv2_"
      },
      "outputs": [],
      "source": [
        "# print(df['PARKS_NM'].value_counts())\n",
        "#print(df.drop_duplicates(subset = [\"PARKS_NM\"]))\n",
        "# print(df['HOUSING_PSA'].value_counts())\n",
        "#print(df.drop_duplicates(subset = [\"HOUSING_PSA\"]))"
      ]
    },
    {
      "cell_type": "code",
      "execution_count": 15,
      "metadata": {
        "id": "hvE6MkryteQ4"
      },
      "outputs": [],
      "source": [
        "df.rename(columns={\"CMPLNT_NUM\": \"num_denuncia\"}, inplace=True)\n",
        "df.rename(columns={\"CMPLNT_FR_DT\": \"fecha_inicio_suceso\"}, inplace=True)\n",
        "df.rename(columns={\"CMPLNT_FR_TM\": \"hora_inicio_suceso\"}, inplace=True)\n",
        "df.rename(columns={\"CMPLNT_TO_DT\": \"fecha_final_suceso\"}, inplace=True)\n",
        "df.rename(columns={\"CMPLNT_TO_TM\": \"hora_final_suceso\"}, inplace=True)\n",
        "df.rename(columns={\"ADDR_PCT_CD\": \"direccion_suceso\"}, inplace=True)\n",
        "df.rename(columns={\"RPT_DT\": \"fecha_denuncia\"}, inplace=True)\n",
        "df.rename(columns={\"KY_CD\": \"codigo_clasificacion\"}, inplace=True)\n",
        "df.rename(columns={\"OFNS_DESC\": \"descripcion_suceso\"}, inplace=True)\n",
        "df.rename(columns={\"PD_CD\": \"codigo_clasificacion_granular\"}, inplace=True)\n",
        "df.rename(columns={\"PD_DESC\": \"descripcion_codigo_clasificacion_granular\"}, inplace=True)\n",
        "df.rename(columns={\"CRM_ATPT_CPTD_CD\": \"delito_completado_interrumpido\"}, inplace=True)\n",
        "df.rename(columns={\"LAW_CAT_CD\": \"nivel_ofensa\"}, inplace=True)\n",
        "df.rename(columns={\"BORO_NM\": \"distrito\"}, inplace=True)\n",
        "df.rename(columns={\"LOC_OF_OCCUR_DESC\": \"ubicacion_especifica\"}, inplace=True)\n",
        "df.rename(columns={\"PREM_TYP_DESC\": \"descripcion_ubicacion\"}, inplace=True)\n",
        "df.rename(columns={\"JURIS_DESC\": \"descripcion_codigo_jurisdiccion\"}, inplace=True)\n",
        "df.rename(columns={\"JURISDICTION_CODE\": \"jurisdiccion_encargada\"}, inplace=True)\n",
        "df.rename(columns={\"PARKS_NM\": \"nombre_area_suceso\"}, inplace=True)\n",
        "df.rename(columns={\"HADEVELOPT\": \"nombre_urbanizacion\"}, inplace=True)\n",
        "df.rename(columns={\"HOUSING_PSA\": \"codigo_nivel_desarrollo\"}, inplace=True)\n",
        "df.rename(columns={\"X_COORD_CD\": \"coordenada_x\"}, inplace=True)\n",
        "df.rename(columns={\"Y_COORD_CD\": \"coordenada_y\"}, inplace=True)\n",
        "df.rename(columns={\"SUSP_AGE_GROUP\": \"grupo_edad_sospechoso\"}, inplace=True)\n",
        "df.rename(columns={\"SUSP_RACE\": \"raza_sospechoso\"}, inplace=True)\n",
        "df.rename(columns={\"SUSP_SEX\": \"sexo_sospechoso\"}, inplace=True)\n",
        "df.rename(columns={\"TRANSIT_DISTRICT\": \"distrito_transito\"}, inplace=True)\n",
        "df.rename(columns={\"Latitude\": \"latitud\"}, inplace=True)\n",
        "df.rename(columns={\"Longitude\": \"longitud\"}, inplace=True)\n",
        "df.rename(columns={\"Lat_Lon\": \"geoespacial\"}, inplace=True)\n",
        "df.rename(columns={\"PATROL_BORO\": \"nombre_patrulla_suceso\"}, inplace=True)\n",
        "df.rename(columns={\"STATION_NAME\": \"nombre_estacion_transito\"}, inplace=True)\n",
        "df.rename(columns={\"VIC_AGE_GROUP\": \"grupo_edad_victima\"}, inplace=True)\n",
        "df.rename(columns={\"VIC_RACE\": \"raza_victima\"}, inplace=True)\n",
        "df.rename(columns={\"VIC_SEX\": \"sexo_victima\"}, inplace=True)"
      ]
    },
    {
      "cell_type": "markdown",
      "source": [
        "Se elimina codigo de clasificacion y se centra el analisis en el tipo de crimen"
      ],
      "metadata": {
        "id": "Xs_ShQjIe-NS"
      }
    },
    {
      "cell_type": "code",
      "source": [
        "df.drop(columns=[\"nombre_area_suceso\", \"nombre_estacion_transito\", \"distrito_transito\", \n",
        "                 \"nombre_urbanizacion\", \"codigo_nivel_desarrollo\", \n",
        "                 \"codigo_clasificacion\", \"codigo_clasificacion_granular\", \n",
        "                 \"ubicacion_especifica\", \"descripcion_codigo_clasificacion_granular\", \"descripcion_codigo_jurisdiccion\", \"nombre_patrulla_suceso\",\n",
        "                 \"coordenada_x\", \"coordenada_y\"], inplace = True)\n",
        "print(len(df.columns))\n",
        "print(df.columns)"
      ],
      "metadata": {
        "colab": {
          "base_uri": "https://localhost:8080/"
        },
        "id": "PxmV_BOHe0GC",
        "outputId": "bfe263c9-1d00-4d16-abb2-585bc18ceb33"
      },
      "execution_count": 16,
      "outputs": [
        {
          "output_type": "stream",
          "name": "stdout",
          "text": [
            "22\n",
            "Index(['num_denuncia', 'fecha_inicio_suceso', 'hora_inicio_suceso',\n",
            "       'fecha_final_suceso', 'hora_final_suceso', 'direccion_suceso',\n",
            "       'fecha_denuncia', 'descripcion_suceso',\n",
            "       'delito_completado_interrumpido', 'nivel_ofensa', 'distrito',\n",
            "       'descripcion_ubicacion', 'jurisdiccion_encargada',\n",
            "       'grupo_edad_sospechoso', 'raza_sospechoso', 'sexo_sospechoso',\n",
            "       'latitud', 'longitud', 'geoespacial', 'grupo_edad_victima',\n",
            "       'raza_victima', 'sexo_victima'],\n",
            "      dtype='object')\n"
          ]
        }
      ]
    },
    {
      "cell_type": "markdown",
      "source": [
        "descripcion_codigo_jurisdiccion, se elimina ya que en jurisdiccion encargada se agrupa cada ente responsable, nombre_patrulla_suceso se elimina ya que cada patrulla es inherente al Distrito"
      ],
      "metadata": {
        "id": "UlapKXyxj0Qh"
      }
    },
    {
      "cell_type": "code",
      "source": [
        "#NO eliminar \"grupo_edad_sospechoso\", \"grupo_edad_victima\" y darle tratamiento a los nulos y atipicos"
      ],
      "metadata": {
        "id": "NX06fBnGFpVj"
      },
      "execution_count": 17,
      "outputs": []
    },
    {
      "cell_type": "code",
      "source": [
        "df.jurisdiccion_encargada = np.where(df.jurisdiccion_encargada == '0', 'Policia', np.where(df.jurisdiccion_encargada == '1', 'Transito', np.where(df.jurisdiccion_encargada == '2', 'Vivienda', np.where(df.jurisdiccion_encargada == '3', 'Externas', 'Otras'))))"
      ],
      "metadata": {
        "id": "1I3_mzsnghl-"
      },
      "execution_count": 18,
      "outputs": []
    },
    {
      "cell_type": "code",
      "source": [
        "df.jurisdiccion_encargada.value_counts()"
      ],
      "metadata": {
        "colab": {
          "base_uri": "https://localhost:8080/"
        },
        "id": "EdWPG8GphKXX",
        "outputId": "7e81e071-7a83-43b2-b57e-29e9416e01b0"
      },
      "execution_count": 19,
      "outputs": [
        {
          "output_type": "execute_result",
          "data": {
            "text/plain": [
              "Policia     6542514\n",
              "Vivienda     592248\n",
              "Transito     171607\n",
              "Otras         54165\n",
              "Externas      32633\n",
              "Name: jurisdiccion_encargada, dtype: int64"
            ]
          },
          "metadata": {},
          "execution_count": 19
        }
      ]
    },
    {
      "cell_type": "code",
      "source": [
        "df_dis_precint = df[['distrito', 'direccion_suceso']].groupby(['distrito', 'direccion_suceso']).count().reset_index()\n",
        "df_dis_precint"
      ],
      "metadata": {
        "id": "p9FkDNpdxLWp",
        "colab": {
          "base_uri": "https://localhost:8080/",
          "height": 424
        },
        "outputId": "c0e2ed6d-4bdb-4089-c04d-7793359dc4cb"
      },
      "execution_count": 20,
      "outputs": [
        {
          "output_type": "execute_result",
          "data": {
            "text/plain": [
              "          distrito  direccion_suceso\n",
              "0            BRONX               1.0\n",
              "1            BRONX               5.0\n",
              "2            BRONX               6.0\n",
              "3            BRONX               7.0\n",
              "4            BRONX               9.0\n",
              "..             ...               ...\n",
              "380  STATEN ISLAND             115.0\n",
              "381  STATEN ISLAND             120.0\n",
              "382  STATEN ISLAND             121.0\n",
              "383  STATEN ISLAND             122.0\n",
              "384  STATEN ISLAND             123.0\n",
              "\n",
              "[385 rows x 2 columns]"
            ],
            "text/html": [
              "\n",
              "  <div id=\"df-07646077-dd7e-46d3-a56f-c0221cc21e6b\">\n",
              "    <div class=\"colab-df-container\">\n",
              "      <div>\n",
              "<style scoped>\n",
              "    .dataframe tbody tr th:only-of-type {\n",
              "        vertical-align: middle;\n",
              "    }\n",
              "\n",
              "    .dataframe tbody tr th {\n",
              "        vertical-align: top;\n",
              "    }\n",
              "\n",
              "    .dataframe thead th {\n",
              "        text-align: right;\n",
              "    }\n",
              "</style>\n",
              "<table border=\"1\" class=\"dataframe\">\n",
              "  <thead>\n",
              "    <tr style=\"text-align: right;\">\n",
              "      <th></th>\n",
              "      <th>distrito</th>\n",
              "      <th>direccion_suceso</th>\n",
              "    </tr>\n",
              "  </thead>\n",
              "  <tbody>\n",
              "    <tr>\n",
              "      <th>0</th>\n",
              "      <td>BRONX</td>\n",
              "      <td>1.0</td>\n",
              "    </tr>\n",
              "    <tr>\n",
              "      <th>1</th>\n",
              "      <td>BRONX</td>\n",
              "      <td>5.0</td>\n",
              "    </tr>\n",
              "    <tr>\n",
              "      <th>2</th>\n",
              "      <td>BRONX</td>\n",
              "      <td>6.0</td>\n",
              "    </tr>\n",
              "    <tr>\n",
              "      <th>3</th>\n",
              "      <td>BRONX</td>\n",
              "      <td>7.0</td>\n",
              "    </tr>\n",
              "    <tr>\n",
              "      <th>4</th>\n",
              "      <td>BRONX</td>\n",
              "      <td>9.0</td>\n",
              "    </tr>\n",
              "    <tr>\n",
              "      <th>...</th>\n",
              "      <td>...</td>\n",
              "      <td>...</td>\n",
              "    </tr>\n",
              "    <tr>\n",
              "      <th>380</th>\n",
              "      <td>STATEN ISLAND</td>\n",
              "      <td>115.0</td>\n",
              "    </tr>\n",
              "    <tr>\n",
              "      <th>381</th>\n",
              "      <td>STATEN ISLAND</td>\n",
              "      <td>120.0</td>\n",
              "    </tr>\n",
              "    <tr>\n",
              "      <th>382</th>\n",
              "      <td>STATEN ISLAND</td>\n",
              "      <td>121.0</td>\n",
              "    </tr>\n",
              "    <tr>\n",
              "      <th>383</th>\n",
              "      <td>STATEN ISLAND</td>\n",
              "      <td>122.0</td>\n",
              "    </tr>\n",
              "    <tr>\n",
              "      <th>384</th>\n",
              "      <td>STATEN ISLAND</td>\n",
              "      <td>123.0</td>\n",
              "    </tr>\n",
              "  </tbody>\n",
              "</table>\n",
              "<p>385 rows × 2 columns</p>\n",
              "</div>\n",
              "      <button class=\"colab-df-convert\" onclick=\"convertToInteractive('df-07646077-dd7e-46d3-a56f-c0221cc21e6b')\"\n",
              "              title=\"Convert this dataframe to an interactive table.\"\n",
              "              style=\"display:none;\">\n",
              "        \n",
              "  <svg xmlns=\"http://www.w3.org/2000/svg\" height=\"24px\"viewBox=\"0 0 24 24\"\n",
              "       width=\"24px\">\n",
              "    <path d=\"M0 0h24v24H0V0z\" fill=\"none\"/>\n",
              "    <path d=\"M18.56 5.44l.94 2.06.94-2.06 2.06-.94-2.06-.94-.94-2.06-.94 2.06-2.06.94zm-11 1L8.5 8.5l.94-2.06 2.06-.94-2.06-.94L8.5 2.5l-.94 2.06-2.06.94zm10 10l.94 2.06.94-2.06 2.06-.94-2.06-.94-.94-2.06-.94 2.06-2.06.94z\"/><path d=\"M17.41 7.96l-1.37-1.37c-.4-.4-.92-.59-1.43-.59-.52 0-1.04.2-1.43.59L10.3 9.45l-7.72 7.72c-.78.78-.78 2.05 0 2.83L4 21.41c.39.39.9.59 1.41.59.51 0 1.02-.2 1.41-.59l7.78-7.78 2.81-2.81c.8-.78.8-2.07 0-2.86zM5.41 20L4 18.59l7.72-7.72 1.47 1.35L5.41 20z\"/>\n",
              "  </svg>\n",
              "      </button>\n",
              "      \n",
              "  <style>\n",
              "    .colab-df-container {\n",
              "      display:flex;\n",
              "      flex-wrap:wrap;\n",
              "      gap: 12px;\n",
              "    }\n",
              "\n",
              "    .colab-df-convert {\n",
              "      background-color: #E8F0FE;\n",
              "      border: none;\n",
              "      border-radius: 50%;\n",
              "      cursor: pointer;\n",
              "      display: none;\n",
              "      fill: #1967D2;\n",
              "      height: 32px;\n",
              "      padding: 0 0 0 0;\n",
              "      width: 32px;\n",
              "    }\n",
              "\n",
              "    .colab-df-convert:hover {\n",
              "      background-color: #E2EBFA;\n",
              "      box-shadow: 0px 1px 2px rgba(60, 64, 67, 0.3), 0px 1px 3px 1px rgba(60, 64, 67, 0.15);\n",
              "      fill: #174EA6;\n",
              "    }\n",
              "\n",
              "    [theme=dark] .colab-df-convert {\n",
              "      background-color: #3B4455;\n",
              "      fill: #D2E3FC;\n",
              "    }\n",
              "\n",
              "    [theme=dark] .colab-df-convert:hover {\n",
              "      background-color: #434B5C;\n",
              "      box-shadow: 0px 1px 3px 1px rgba(0, 0, 0, 0.15);\n",
              "      filter: drop-shadow(0px 1px 2px rgba(0, 0, 0, 0.3));\n",
              "      fill: #FFFFFF;\n",
              "    }\n",
              "  </style>\n",
              "\n",
              "      <script>\n",
              "        const buttonEl =\n",
              "          document.querySelector('#df-07646077-dd7e-46d3-a56f-c0221cc21e6b button.colab-df-convert');\n",
              "        buttonEl.style.display =\n",
              "          google.colab.kernel.accessAllowed ? 'block' : 'none';\n",
              "\n",
              "        async function convertToInteractive(key) {\n",
              "          const element = document.querySelector('#df-07646077-dd7e-46d3-a56f-c0221cc21e6b');\n",
              "          const dataTable =\n",
              "            await google.colab.kernel.invokeFunction('convertToInteractive',\n",
              "                                                     [key], {});\n",
              "          if (!dataTable) return;\n",
              "\n",
              "          const docLinkHtml = 'Like what you see? Visit the ' +\n",
              "            '<a target=\"_blank\" href=https://colab.research.google.com/notebooks/data_table.ipynb>data table notebook</a>'\n",
              "            + ' to learn more about interactive tables.';\n",
              "          element.innerHTML = '';\n",
              "          dataTable['output_type'] = 'display_data';\n",
              "          await google.colab.output.renderOutput(dataTable, element);\n",
              "          const docLink = document.createElement('div');\n",
              "          docLink.innerHTML = docLinkHtml;\n",
              "          element.appendChild(docLink);\n",
              "        }\n",
              "      </script>\n",
              "    </div>\n",
              "  </div>\n",
              "  "
            ]
          },
          "metadata": {},
          "execution_count": 20
        }
      ]
    },
    {
      "cell_type": "code",
      "source": [
        "df_dis_precint = df.groupby(['distrito', 'direccion_suceso'])['num_denuncia'].count().reset_index()\n",
        "\n",
        "# Pivot the data to prepare for plotting\n",
        "pivot_df = df_dis_precint.pivot(index='direccion_suceso', columns='distrito', values='num_denuncia')\n",
        "\n",
        "# Create the bar chart\n",
        "pivot_df.plot(kind='bar', figsize=(18,5), width=0.8)\n",
        "\n",
        "# Add title and axis labels\n",
        "plt.title(\"Number of Unique Complaints per Precinct and Borough\")\n",
        "plt.xlabel(\"Precinct\")\n",
        "plt.ylabel(\"Number of Unique Complaints\")\n",
        "\n",
        "# Show the plot\n",
        "plt.show()"
      ],
      "metadata": {
        "id": "qHZgnbOE1VL_",
        "colab": {
          "base_uri": "https://localhost:8080/",
          "height": 513
        },
        "outputId": "425d6f6d-0c47-45ea-c0fa-b4fbbfc4c140"
      },
      "execution_count": 21,
      "outputs": [
        {
          "output_type": "display_data",
          "data": {
            "text/plain": [
              "<Figure size 1800x500 with 1 Axes>"
            ],
            "image/png": "[encoded data removed]"
          },
          "metadata": {}
        }
      ]
    },
    {
      "cell_type": "code",
      "source": [
        "df.columns"
      ],
      "metadata": {
        "colab": {
          "base_uri": "https://localhost:8080/"
        },
        "id": "jCuDhNbVlI0h",
        "outputId": "d8b9125b-7058-44c0-976b-33bdb3ac20c3"
      },
      "execution_count": 22,
      "outputs": [
        {
          "output_type": "execute_result",
          "data": {
            "text/plain": [
              "Index(['num_denuncia', 'fecha_inicio_suceso', 'hora_inicio_suceso',\n",
              "       'fecha_final_suceso', 'hora_final_suceso', 'direccion_suceso',\n",
              "       'fecha_denuncia', 'descripcion_suceso',\n",
              "       'delito_completado_interrumpido', 'nivel_ofensa', 'distrito',\n",
              "       'descripcion_ubicacion', 'jurisdiccion_encargada',\n",
              "       'grupo_edad_sospechoso', 'raza_sospechoso', 'sexo_sospechoso',\n",
              "       'latitud', 'longitud', 'geoespacial', 'grupo_edad_victima',\n",
              "       'raza_victima', 'sexo_victima'],\n",
              "      dtype='object')"
            ]
          },
          "metadata": {},
          "execution_count": 22
        }
      ]
    },
    {
      "cell_type": "markdown",
      "source": [
        "Dado que las variables de edad contienen ruido, para evitar perder informaciíon en otras columnas se reemplaza por edad 'desconocida' pues tiene sentido que muchas de las denuncias (crimenes) no haya una descripción exacta de dichas personas."
      ],
      "metadata": {
        "id": "fyNTPs4vn2XA"
      }
    },
    {
      "cell_type": "code",
      "source": [
        "mask1 = ~df.grupo_edad_sospechoso.isin(['25-44', '18-44', '<18', '45-64'])\n",
        "df.grupo_edad_sospechoso = np.where(mask1, \"UNKNOWN\", df.grupo_edad_sospechoso)"
      ],
      "metadata": {
        "id": "bdnVUX9fncU6"
      },
      "execution_count": 23,
      "outputs": []
    },
    {
      "cell_type": "code",
      "source": [
        "mask2 = ~df.grupo_edad_victima.isin(['25-44', '18-44', '<18', '45-64'])\n",
        "df.grupo_edad_victima = np.where(mask2, \"UNKNOWN\", df.grupo_edad_victima)"
      ],
      "metadata": {
        "id": "QvWlm2e2likv"
      },
      "execution_count": 24,
      "outputs": []
    },
    {
      "cell_type": "code",
      "source": [
        "df.raza_victima.value_counts()\n",
        "df.raza_victima = np.where(df.raza_victima == 'OTHER', 'UNKNOWN', np.where(df.raza_victima == 'BLACK HISPANIC', 'BLACK', np.where(df.raza_victima == 'WHITE HISPANIC', 'WHITE', df.raza_victima)))"
      ],
      "metadata": {
        "id": "Qch6SN0IoF6g"
      },
      "execution_count": 25,
      "outputs": []
    },
    {
      "cell_type": "code",
      "source": [
        "df.raza_victima.value_counts()"
      ],
      "metadata": {
        "colab": {
          "base_uri": "https://localhost:8080/"
        },
        "id": "pGN_JaVMpA4Q",
        "outputId": "f27e5cb4-8985-4f75-f5c0-d20a032e47ee"
      },
      "execution_count": 26,
      "outputs": [
        {
          "output_type": "execute_result",
          "data": {
            "text/plain": [
              "WHITE                             2561747\n",
              "UNKNOWN                           2222776\n",
              "BLACK                             2117516\n",
              "ASIAN / PACIFIC ISLANDER           456709\n",
              "AMERICAN INDIAN/ALASKAN NATIVE      34332\n",
              "Name: raza_victima, dtype: int64"
            ]
          },
          "metadata": {},
          "execution_count": 26
        }
      ]
    },
    {
      "cell_type": "code",
      "source": [
        "df.sexo_victima \n",
        "mask3 = ~df.sexo_victima.isin(['F', 'M'])\n",
        "df.sexo_victima = np.where(mask3, 'UNKNOWN',  df.sexo_victima)"
      ],
      "metadata": {
        "id": "kuGeYvN7pwrN"
      },
      "execution_count": 27,
      "outputs": []
    },
    {
      "cell_type": "code",
      "source": [
        "df.sexo_sospechoso.value_counts()"
      ],
      "metadata": {
        "colab": {
          "base_uri": "https://localhost:8080/"
        },
        "id": "1RmtUYw_rYGX",
        "outputId": "1c7c7ce6-984b-440e-ae25-d1c0545124da"
      },
      "execution_count": 28,
      "outputs": [
        {
          "output_type": "execute_result",
          "data": {
            "text/plain": [
              "M    2597067\n",
              "F     812026\n",
              "U     759233\n",
              "Name: sexo_sospechoso, dtype: int64"
            ]
          },
          "metadata": {},
          "execution_count": 28
        }
      ]
    },
    {
      "cell_type": "code",
      "execution_count": 29,
      "metadata": {
        "id": "yK2_-okyhwnL",
        "colab": {
          "base_uri": "https://localhost:8080/"
        },
        "outputId": "22773aad-0c9c-44ea-b004-f71b0188ff64"
      },
      "outputs": [
        {
          "output_type": "stream",
          "name": "stdout",
          "text": [
            "En promedio, para los hechos en que existe una fecha de finalización de suceso, el promedio de días que toman los hechos es de:   8.91 días\n",
            "Sin embargo, para no entrar en detalle, dado que la misma base lo describe así, la fecha inicio puede ser tomada como la fecha exacta del suceso\n"
          ]
        }
      ],
      "source": [
        "#Esta columna con la idea de mirar en promedio cuántos días pasan entre la fecha en que comienza el hecho y la fecha en que termina.\n",
        "#Para fechas podría no ser relevante para hechos como robos que generalmente duran minutos o hasta segundos.\n",
        "#Para tiempo, podría en algún caso ser últil para la capacidad de reacción de alguna patrulla en lo que identifica un hecho sea porque\n",
        "#hay un sospechoso, en cierta zona, con algunas caracteristicas dada (como edad, raza y sexo) y una posible victima con otras caracterísiticas.\n",
        "\n",
        "#Se remueve una fila que contiene un dato: 1018-09-28\n",
        "#df.drop(df['fecha_inicio_suceso'] == '1018-09-28').index\n",
        "df['fecha_inicio_suceso'] = pd.to_datetime(df['fecha_inicio_suceso'], errors='coerce')\n",
        "df['fecha_final_suceso'] = pd.to_datetime(df['fecha_final_suceso'], errors = 'coerce')\n",
        "\n",
        "df[\"fecha_denuncia\"] = pd.to_datetime(df[\"fecha_denuncia\"], errors = 'coerce')\n",
        "\n",
        "#Considerando que hay NaT en la columna fecha_final_suceso, se van a excluir esas filas y luego con el promedio de días se va a sumar a la fecha_inicio_suceso\n",
        "\n",
        "# calculate the time difference in days for non-null values\n",
        "not_null_mask = pd.notnull(df['fecha_final_suceso']) & pd.notnull(df['fecha_inicio_suceso'])\n",
        "df['diferencia_dias_suceso'] = (df.loc[not_null_mask, 'fecha_final_suceso'] - df.loc[not_null_mask, 'fecha_inicio_suceso']).dt.days\n",
        "\n",
        "# calculate the mean time difference in days for non-null values\n",
        "mean_diferencia_dias_suceso = df['diferencia_dias_suceso'].mean()\n",
        "\n",
        "# print the result\n",
        "print(f\"En promedio, para los hechos en que existe una fecha de finalización de suceso, el promedio de días que toman los hechos es de:  {mean_diferencia_dias_suceso: .2f} días\")\n",
        "print(f\"Sin embargo, para no entrar en detalle, dado que la misma base lo describe así, la fecha inicio puede ser tomada como la fecha exacta del suceso\")"
      ]
    },
    {
      "cell_type": "code",
      "execution_count": 30,
      "metadata": {
        "id": "ASIWYu4rlvHG"
      },
      "outputs": [],
      "source": [
        "df.drop(columns=[\"fecha_final_suceso\",\t\"hora_final_suceso\"], inplace=True)\n",
        "df.rename(columns={\"fecha_inicio_suceso\": \"fecha_suceso\"}, inplace=True)\n",
        "df.rename(columns={\"hora_inicio_suceso\": \"hora_suceso\"}, inplace=True)"
      ]
    },
    {
      "cell_type": "code",
      "execution_count": 31,
      "metadata": {
        "id": "VE-cbbdlsQNU",
        "colab": {
          "base_uri": "https://localhost:8080/"
        },
        "outputId": "ff00e469-df50-490b-8d5f-d69cfb15e39d"
      },
      "outputs": [
        {
          "output_type": "execute_result",
          "data": {
            "text/plain": [
              "(3254767, 21)"
            ]
          },
          "metadata": {},
          "execution_count": 31
        }
      ],
      "source": [
        "df.dropna().shape"
      ]
    },
    {
      "cell_type": "code",
      "execution_count": 32,
      "metadata": {
        "id": "UJ5WXyyiI9GA",
        "colab": {
          "base_uri": "https://localhost:8080/",
          "height": 708
        },
        "outputId": "a269687c-26d9-4fc8-903f-b1fc7c7581f7"
      },
      "outputs": [
        {
          "output_type": "execute_result",
          "data": {
            "text/plain": [
              "                                total_nulos  %_nulos\n",
              "sexo_sospechoso                     3224841    43.62\n",
              "raza_sospechoso                     3093507    41.84\n",
              "diferencia_dias_suceso              1325597    17.93\n",
              "descripcion_ubicacion                 27805     0.38\n",
              "descripcion_suceso                    13428     0.18\n",
              "distrito                               4163     0.06\n",
              "longitud                               1400     0.02\n",
              "geoespacial                            1400     0.02\n",
              "latitud                                1400     0.02\n",
              "fecha_suceso                            724     0.01\n",
              "raza_victima                             87     0.00\n",
              "hora_suceso                              39     0.00\n",
              "delito_completado_interrumpido           28     0.00\n",
              "sexo_victima                              0     0.00\n",
              "grupo_edad_victima                        0     0.00\n",
              "num_denuncia                              0     0.00\n",
              "grupo_edad_sospechoso                     0     0.00\n",
              "nivel_ofensa                              0     0.00\n",
              "fecha_denuncia                            0     0.00\n",
              "direccion_suceso                          0     0.00\n",
              "jurisdiccion_encargada                    0     0.00"
            ],
            "text/html": [
              "\n",
              "  <div id=\"df-b0d2c6a7-3010-4b27-9bf7-3353b41f4dd0\">\n",
              "    <div class=\"colab-df-container\">\n",
              "      <div>\n",
              "<style scoped>\n",
              "    .dataframe tbody tr th:only-of-type {\n",
              "        vertical-align: middle;\n",
              "    }\n",
              "\n",
              "    .dataframe tbody tr th {\n",
              "        vertical-align: top;\n",
              "    }\n",
              "\n",
              "    .dataframe thead th {\n",
              "        text-align: right;\n",
              "    }\n",
              "</style>\n",
              "<table border=\"1\" class=\"dataframe\">\n",
              "  <thead>\n",
              "    <tr style=\"text-align: right;\">\n",
              "      <th></th>\n",
              "      <th>total_nulos</th>\n",
              "      <th>%_nulos</th>\n",
              "    </tr>\n",
              "  </thead>\n",
              "  <tbody>\n",
              "    <tr>\n",
              "      <th>sexo_sospechoso</th>\n",
              "      <td>3224841</td>\n",
              "      <td>43.62</td>\n",
              "    </tr>\n",
              "    <tr>\n",
              "      <th>raza_sospechoso</th>\n",
              "      <td>3093507</td>\n",
              "      <td>41.84</td>\n",
              "    </tr>\n",
              "    <tr>\n",
              "      <th>diferencia_dias_suceso</th>\n",
              "      <td>1325597</td>\n",
              "      <td>17.93</td>\n",
              "    </tr>\n",
              "    <tr>\n",
              "      <th>descripcion_ubicacion</th>\n",
              "      <td>27805</td>\n",
              "      <td>0.38</td>\n",
              "    </tr>\n",
              "    <tr>\n",
              "      <th>descripcion_suceso</th>\n",
              "      <td>13428</td>\n",
              "      <td>0.18</td>\n",
              "    </tr>\n",
              "    <tr>\n",
              "      <th>distrito</th>\n",
              "      <td>4163</td>\n",
              "      <td>0.06</td>\n",
              "    </tr>\n",
              "    <tr>\n",
              "      <th>longitud</th>\n",
              "      <td>1400</td>\n",
              "      <td>0.02</td>\n",
              "    </tr>\n",
              "    <tr>\n",
              "      <th>geoespacial</th>\n",
              "      <td>1400</td>\n",
              "      <td>0.02</td>\n",
              "    </tr>\n",
              "    <tr>\n",
              "      <th>latitud</th>\n",
              "      <td>1400</td>\n",
              "      <td>0.02</td>\n",
              "    </tr>\n",
              "    <tr>\n",
              "      <th>fecha_suceso</th>\n",
              "      <td>724</td>\n",
              "      <td>0.01</td>\n",
              "    </tr>\n",
              "    <tr>\n",
              "      <th>raza_victima</th>\n",
              "      <td>87</td>\n",
              "      <td>0.00</td>\n",
              "    </tr>\n",
              "    <tr>\n",
              "      <th>hora_suceso</th>\n",
              "      <td>39</td>\n",
              "      <td>0.00</td>\n",
              "    </tr>\n",
              "    <tr>\n",
              "      <th>delito_completado_interrumpido</th>\n",
              "      <td>28</td>\n",
              "      <td>0.00</td>\n",
              "    </tr>\n",
              "    <tr>\n",
              "      <th>sexo_victima</th>\n",
              "      <td>0</td>\n",
              "      <td>0.00</td>\n",
              "    </tr>\n",
              "    <tr>\n",
              "      <th>grupo_edad_victima</th>\n",
              "      <td>0</td>\n",
              "      <td>0.00</td>\n",
              "    </tr>\n",
              "    <tr>\n",
              "      <th>num_denuncia</th>\n",
              "      <td>0</td>\n",
              "      <td>0.00</td>\n",
              "    </tr>\n",
              "    <tr>\n",
              "      <th>grupo_edad_sospechoso</th>\n",
              "      <td>0</td>\n",
              "      <td>0.00</td>\n",
              "    </tr>\n",
              "    <tr>\n",
              "      <th>nivel_ofensa</th>\n",
              "      <td>0</td>\n",
              "      <td>0.00</td>\n",
              "    </tr>\n",
              "    <tr>\n",
              "      <th>fecha_denuncia</th>\n",
              "      <td>0</td>\n",
              "      <td>0.00</td>\n",
              "    </tr>\n",
              "    <tr>\n",
              "      <th>direccion_suceso</th>\n",
              "      <td>0</td>\n",
              "      <td>0.00</td>\n",
              "    </tr>\n",
              "    <tr>\n",
              "      <th>jurisdiccion_encargada</th>\n",
              "      <td>0</td>\n",
              "      <td>0.00</td>\n",
              "    </tr>\n",
              "  </tbody>\n",
              "</table>\n",
              "</div>\n",
              "      <button class=\"colab-df-convert\" onclick=\"convertToInteractive('df-b0d2c6a7-3010-4b27-9bf7-3353b41f4dd0')\"\n",
              "              title=\"Convert this dataframe to an interactive table.\"\n",
              "              style=\"display:none;\">\n",
              "        \n",
              "  <svg xmlns=\"http://www.w3.org/2000/svg\" height=\"24px\"viewBox=\"0 0 24 24\"\n",
              "       width=\"24px\">\n",
              "    <path d=\"M0 0h24v24H0V0z\" fill=\"none\"/>\n",
              "    <path d=\"M18.56 5.44l.94 2.06.94-2.06 2.06-.94-2.06-.94-.94-2.06-.94 2.06-2.06.94zm-11 1L8.5 8.5l.94-2.06 2.06-.94-2.06-.94L8.5 2.5l-.94 2.06-2.06.94zm10 10l.94 2.06.94-2.06 2.06-.94-2.06-.94-.94-2.06-.94 2.06-2.06.94z\"/><path d=\"M17.41 7.96l-1.37-1.37c-.4-.4-.92-.59-1.43-.59-.52 0-1.04.2-1.43.59L10.3 9.45l-7.72 7.72c-.78.78-.78 2.05 0 2.83L4 21.41c.39.39.9.59 1.41.59.51 0 1.02-.2 1.41-.59l7.78-7.78 2.81-2.81c.8-.78.8-2.07 0-2.86zM5.41 20L4 18.59l7.72-7.72 1.47 1.35L5.41 20z\"/>\n",
              "  </svg>\n",
              "      </button>\n",
              "      \n",
              "  <style>\n",
              "    .colab-df-container {\n",
              "      display:flex;\n",
              "      flex-wrap:wrap;\n",
              "      gap: 12px;\n",
              "    }\n",
              "\n",
              "    .colab-df-convert {\n",
              "      background-color: #E8F0FE;\n",
              "      border: none;\n",
              "      border-radius: 50%;\n",
              "      cursor: pointer;\n",
              "      display: none;\n",
              "      fill: #1967D2;\n",
              "      height: 32px;\n",
              "      padding: 0 0 0 0;\n",
              "      width: 32px;\n",
              "    }\n",
              "\n",
              "    .colab-df-convert:hover {\n",
              "      background-color: #E2EBFA;\n",
              "      box-shadow: 0px 1px 2px rgba(60, 64, 67, 0.3), 0px 1px 3px 1px rgba(60, 64, 67, 0.15);\n",
              "      fill: #174EA6;\n",
              "    }\n",
              "\n",
              "    [theme=dark] .colab-df-convert {\n",
              "      background-color: #3B4455;\n",
              "      fill: #D2E3FC;\n",
              "    }\n",
              "\n",
              "    [theme=dark] .colab-df-convert:hover {\n",
              "      background-color: #434B5C;\n",
              "      box-shadow: 0px 1px 3px 1px rgba(0, 0, 0, 0.15);\n",
              "      filter: drop-shadow(0px 1px 2px rgba(0, 0, 0, 0.3));\n",
              "      fill: #FFFFFF;\n",
              "    }\n",
              "  </style>\n",
              "\n",
              "      <script>\n",
              "        const buttonEl =\n",
              "          document.querySelector('#df-b0d2c6a7-3010-4b27-9bf7-3353b41f4dd0 button.colab-df-convert');\n",
              "        buttonEl.style.display =\n",
              "          google.colab.kernel.accessAllowed ? 'block' : 'none';\n",
              "\n",
              "        async function convertToInteractive(key) {\n",
              "          const element = document.querySelector('#df-b0d2c6a7-3010-4b27-9bf7-3353b41f4dd0');\n",
              "          const dataTable =\n",
              "            await google.colab.kernel.invokeFunction('convertToInteractive',\n",
              "                                                     [key], {});\n",
              "          if (!dataTable) return;\n",
              "\n",
              "          const docLinkHtml = 'Like what you see? Visit the ' +\n",
              "            '<a target=\"_blank\" href=https://colab.research.google.com/notebooks/data_table.ipynb>data table notebook</a>'\n",
              "            + ' to learn more about interactive tables.';\n",
              "          element.innerHTML = '';\n",
              "          dataTable['output_type'] = 'display_data';\n",
              "          await google.colab.output.renderOutput(dataTable, element);\n",
              "          const docLink = document.createElement('div');\n",
              "          docLink.innerHTML = docLinkHtml;\n",
              "          element.appendChild(docLink);\n",
              "        }\n",
              "      </script>\n",
              "    </div>\n",
              "  </div>\n",
              "  "
            ]
          },
          "metadata": {},
          "execution_count": 32
        }
      ],
      "source": [
        "#There are missing values for different columns:\n",
        "\n",
        "#df.isna()\n",
        "a = df.isnull().sum().to_frame().sort_values(by=[0], ascending=False)\n",
        "a.rename(columns={0: \"total_nulos\"}, inplace = True)\n",
        "a[\"%_nulos\"] =round(df.apply(lambda x: 1-(x.count()/x.size))*100,2)\n",
        "a\n",
        "#df.style.format(\"{:,.0f}\")"
      ]
    },
    {
      "cell_type": "code",
      "execution_count": 33,
      "metadata": {
        "id": "ibA5m2WhN2oV"
      },
      "outputs": [],
      "source": [
        "threshold = 0.3 # set the threshold to 30%\n",
        "mask = df.isnull().mean(axis=1) > threshold # create a boolean mask\n",
        "rows_with_many_nulls = df[mask] # select rows that meet the condition"
      ]
    },
    {
      "cell_type": "code",
      "execution_count": 34,
      "metadata": {
        "id": "cra_bjsyO_h3",
        "colab": {
          "base_uri": "https://localhost:8080/"
        },
        "outputId": "a3ed707b-b599-4f8b-89f1-f8b31a910122"
      },
      "outputs": [
        {
          "output_type": "stream",
          "name": "stdout",
          "text": [
            "0\n"
          ]
        }
      ],
      "source": [
        "print(len(rows_with_many_nulls))"
      ]
    },
    {
      "cell_type": "code",
      "execution_count": 35,
      "metadata": {
        "id": "p-Lj4K39ylro",
        "colab": {
          "base_uri": "https://localhost:8080/"
        },
        "outputId": "99ae1bf2-0979-4cee-aa7e-0a0d551ebda1"
      },
      "outputs": [
        {
          "output_type": "execute_result",
          "data": {
            "text/plain": [
              "M    2597067\n",
              "F     812026\n",
              "U     759233\n",
              "Name: sexo_sospechoso, dtype: int64"
            ]
          },
          "metadata": {},
          "execution_count": 35
        }
      ],
      "source": [
        "df['sexo_sospechoso'].value_counts()"
      ]
    },
    {
      "cell_type": "code",
      "execution_count": 36,
      "metadata": {
        "id": "HjngEQq1y2oe",
        "colab": {
          "base_uri": "https://localhost:8080/"
        },
        "outputId": "dad77cc9-e720-41fb-83cc-74ef9a7b069d"
      },
      "outputs": [
        {
          "output_type": "execute_result",
          "data": {
            "text/plain": [
              "BLACK                             1598025\n",
              "UNKNOWN                           1142361\n",
              "WHITE HISPANIC                     724182\n",
              "WHITE                              462390\n",
              "BLACK HISPANIC                     220804\n",
              "ASIAN / PACIFIC ISLANDER           139247\n",
              "AMERICAN INDIAN/ALASKAN NATIVE      12641\n",
              "OTHER                                  10\n",
              "Name: raza_sospechoso, dtype: int64"
            ]
          },
          "metadata": {},
          "execution_count": 36
        }
      ],
      "source": [
        "df['raza_sospechoso'].value_counts()"
      ]
    },
    {
      "cell_type": "code",
      "execution_count": 37,
      "metadata": {
        "id": "-TdM-CAEPTKf"
      },
      "outputs": [],
      "source": [
        "#sexo_sospechoso y raza_sospechoso, son imputadas y, una vez hecho esto, se elige la muestra para trabajar el ejercicio:\n",
        "\n",
        "df['sexo_sospechoso'] = df['sexo_sospechoso'].fillna('U')\n",
        "df['raza_sospechoso'] = df['raza_sospechoso'].fillna('UNKNOWN')\n",
        "df.drop(columns=[\"diferencia_dias_suceso\"], inplace=True)"
      ]
    },
    {
      "cell_type": "code",
      "execution_count": 38,
      "metadata": {
        "id": "b7mWWAZrXVI8",
        "colab": {
          "base_uri": "https://localhost:8080/"
        },
        "outputId": "5b0a65d9-6ec0-4639-d283-55e19e1b7303"
      },
      "outputs": [
        {
          "output_type": "stream",
          "name": "stdout",
          "text": [
            "7393167\n"
          ]
        },
        {
          "output_type": "execute_result",
          "data": {
            "text/plain": [
              "(7393167, 20)"
            ]
          },
          "metadata": {},
          "execution_count": 38
        }
      ],
      "source": [
        "print(len(df))\n",
        "df.shape"
      ]
    },
    {
      "cell_type": "code",
      "execution_count": 39,
      "metadata": {
        "id": "TUU9ndBQQ6PP",
        "colab": {
          "base_uri": "https://localhost:8080/",
          "height": 677
        },
        "outputId": "73e4f2db-b5ba-41de-8adb-5fbe02bb0c66"
      },
      "outputs": [
        {
          "output_type": "execute_result",
          "data": {
            "text/plain": [
              "                                total_nulos  %_nulos\n",
              "descripcion_ubicacion                 27805     0.38\n",
              "descripcion_suceso                    13428     0.18\n",
              "distrito                               4163     0.06\n",
              "geoespacial                            1400     0.02\n",
              "longitud                               1400     0.02\n",
              "latitud                                1400     0.02\n",
              "fecha_suceso                            724     0.01\n",
              "raza_victima                             87     0.00\n",
              "hora_suceso                              39     0.00\n",
              "delito_completado_interrumpido           28     0.00\n",
              "num_denuncia                              0     0.00\n",
              "sexo_sospechoso                           0     0.00\n",
              "grupo_edad_victima                        0     0.00\n",
              "jurisdiccion_encargada                    0     0.00\n",
              "raza_sospechoso                           0     0.00\n",
              "grupo_edad_sospechoso                     0     0.00\n",
              "nivel_ofensa                              0     0.00\n",
              "fecha_denuncia                            0     0.00\n",
              "direccion_suceso                          0     0.00\n",
              "sexo_victima                              0     0.00"
            ],
            "text/html": [
              "\n",
              "  <div id=\"df-d257ec9b-b21f-4cd7-a2f3-cefb6564a267\">\n",
              "    <div class=\"colab-df-container\">\n",
              "      <div>\n",
              "<style scoped>\n",
              "    .dataframe tbody tr th:only-of-type {\n",
              "        vertical-align: middle;\n",
              "    }\n",
              "\n",
              "    .dataframe tbody tr th {\n",
              "        vertical-align: top;\n",
              "    }\n",
              "\n",
              "    .dataframe thead th {\n",
              "        text-align: right;\n",
              "    }\n",
              "</style>\n",
              "<table border=\"1\" class=\"dataframe\">\n",
              "  <thead>\n",
              "    <tr style=\"text-align: right;\">\n",
              "      <th></th>\n",
              "      <th>total_nulos</th>\n",
              "      <th>%_nulos</th>\n",
              "    </tr>\n",
              "  </thead>\n",
              "  <tbody>\n",
              "    <tr>\n",
              "      <th>descripcion_ubicacion</th>\n",
              "      <td>27805</td>\n",
              "      <td>0.38</td>\n",
              "    </tr>\n",
              "    <tr>\n",
              "      <th>descripcion_suceso</th>\n",
              "      <td>13428</td>\n",
              "      <td>0.18</td>\n",
              "    </tr>\n",
              "    <tr>\n",
              "      <th>distrito</th>\n",
              "      <td>4163</td>\n",
              "      <td>0.06</td>\n",
              "    </tr>\n",
              "    <tr>\n",
              "      <th>geoespacial</th>\n",
              "      <td>1400</td>\n",
              "      <td>0.02</td>\n",
              "    </tr>\n",
              "    <tr>\n",
              "      <th>longitud</th>\n",
              "      <td>1400</td>\n",
              "      <td>0.02</td>\n",
              "    </tr>\n",
              "    <tr>\n",
              "      <th>latitud</th>\n",
              "      <td>1400</td>\n",
              "      <td>0.02</td>\n",
              "    </tr>\n",
              "    <tr>\n",
              "      <th>fecha_suceso</th>\n",
              "      <td>724</td>\n",
              "      <td>0.01</td>\n",
              "    </tr>\n",
              "    <tr>\n",
              "      <th>raza_victima</th>\n",
              "      <td>87</td>\n",
              "      <td>0.00</td>\n",
              "    </tr>\n",
              "    <tr>\n",
              "      <th>hora_suceso</th>\n",
              "      <td>39</td>\n",
              "      <td>0.00</td>\n",
              "    </tr>\n",
              "    <tr>\n",
              "      <th>delito_completado_interrumpido</th>\n",
              "      <td>28</td>\n",
              "      <td>0.00</td>\n",
              "    </tr>\n",
              "    <tr>\n",
              "      <th>num_denuncia</th>\n",
              "      <td>0</td>\n",
              "      <td>0.00</td>\n",
              "    </tr>\n",
              "    <tr>\n",
              "      <th>sexo_sospechoso</th>\n",
              "      <td>0</td>\n",
              "      <td>0.00</td>\n",
              "    </tr>\n",
              "    <tr>\n",
              "      <th>grupo_edad_victima</th>\n",
              "      <td>0</td>\n",
              "      <td>0.00</td>\n",
              "    </tr>\n",
              "    <tr>\n",
              "      <th>jurisdiccion_encargada</th>\n",
              "      <td>0</td>\n",
              "      <td>0.00</td>\n",
              "    </tr>\n",
              "    <tr>\n",
              "      <th>raza_sospechoso</th>\n",
              "      <td>0</td>\n",
              "      <td>0.00</td>\n",
              "    </tr>\n",
              "    <tr>\n",
              "      <th>grupo_edad_sospechoso</th>\n",
              "      <td>0</td>\n",
              "      <td>0.00</td>\n",
              "    </tr>\n",
              "    <tr>\n",
              "      <th>nivel_ofensa</th>\n",
              "      <td>0</td>\n",
              "      <td>0.00</td>\n",
              "    </tr>\n",
              "    <tr>\n",
              "      <th>fecha_denuncia</th>\n",
              "      <td>0</td>\n",
              "      <td>0.00</td>\n",
              "    </tr>\n",
              "    <tr>\n",
              "      <th>direccion_suceso</th>\n",
              "      <td>0</td>\n",
              "      <td>0.00</td>\n",
              "    </tr>\n",
              "    <tr>\n",
              "      <th>sexo_victima</th>\n",
              "      <td>0</td>\n",
              "      <td>0.00</td>\n",
              "    </tr>\n",
              "  </tbody>\n",
              "</table>\n",
              "</div>\n",
              "      <button class=\"colab-df-convert\" onclick=\"convertToInteractive('df-d257ec9b-b21f-4cd7-a2f3-cefb6564a267')\"\n",
              "              title=\"Convert this dataframe to an interactive table.\"\n",
              "              style=\"display:none;\">\n",
              "        \n",
              "  <svg xmlns=\"http://www.w3.org/2000/svg\" height=\"24px\"viewBox=\"0 0 24 24\"\n",
              "       width=\"24px\">\n",
              "    <path d=\"M0 0h24v24H0V0z\" fill=\"none\"/>\n",
              "    <path d=\"M18.56 5.44l.94 2.06.94-2.06 2.06-.94-2.06-.94-.94-2.06-.94 2.06-2.06.94zm-11 1L8.5 8.5l.94-2.06 2.06-.94-2.06-.94L8.5 2.5l-.94 2.06-2.06.94zm10 10l.94 2.06.94-2.06 2.06-.94-2.06-.94-.94-2.06-.94 2.06-2.06.94z\"/><path d=\"M17.41 7.96l-1.37-1.37c-.4-.4-.92-.59-1.43-.59-.52 0-1.04.2-1.43.59L10.3 9.45l-7.72 7.72c-.78.78-.78 2.05 0 2.83L4 21.41c.39.39.9.59 1.41.59.51 0 1.02-.2 1.41-.59l7.78-7.78 2.81-2.81c.8-.78.8-2.07 0-2.86zM5.41 20L4 18.59l7.72-7.72 1.47 1.35L5.41 20z\"/>\n",
              "  </svg>\n",
              "      </button>\n",
              "      \n",
              "  <style>\n",
              "    .colab-df-container {\n",
              "      display:flex;\n",
              "      flex-wrap:wrap;\n",
              "      gap: 12px;\n",
              "    }\n",
              "\n",
              "    .colab-df-convert {\n",
              "      background-color: #E8F0FE;\n",
              "      border: none;\n",
              "      border-radius: 50%;\n",
              "      cursor: pointer;\n",
              "      display: none;\n",
              "      fill: #1967D2;\n",
              "      height: 32px;\n",
              "      padding: 0 0 0 0;\n",
              "      width: 32px;\n",
              "    }\n",
              "\n",
              "    .colab-df-convert:hover {\n",
              "      background-color: #E2EBFA;\n",
              "      box-shadow: 0px 1px 2px rgba(60, 64, 67, 0.3), 0px 1px 3px 1px rgba(60, 64, 67, 0.15);\n",
              "      fill: #174EA6;\n",
              "    }\n",
              "\n",
              "    [theme=dark] .colab-df-convert {\n",
              "      background-color: #3B4455;\n",
              "      fill: #D2E3FC;\n",
              "    }\n",
              "\n",
              "    [theme=dark] .colab-df-convert:hover {\n",
              "      background-color: #434B5C;\n",
              "      box-shadow: 0px 1px 3px 1px rgba(0, 0, 0, 0.15);\n",
              "      filter: drop-shadow(0px 1px 2px rgba(0, 0, 0, 0.3));\n",
              "      fill: #FFFFFF;\n",
              "    }\n",
              "  </style>\n",
              "\n",
              "      <script>\n",
              "        const buttonEl =\n",
              "          document.querySelector('#df-d257ec9b-b21f-4cd7-a2f3-cefb6564a267 button.colab-df-convert');\n",
              "        buttonEl.style.display =\n",
              "          google.colab.kernel.accessAllowed ? 'block' : 'none';\n",
              "\n",
              "        async function convertToInteractive(key) {\n",
              "          const element = document.querySelector('#df-d257ec9b-b21f-4cd7-a2f3-cefb6564a267');\n",
              "          const dataTable =\n",
              "            await google.colab.kernel.invokeFunction('convertToInteractive',\n",
              "                                                     [key], {});\n",
              "          if (!dataTable) return;\n",
              "\n",
              "          const docLinkHtml = 'Like what you see? Visit the ' +\n",
              "            '<a target=\"_blank\" href=https://colab.research.google.com/notebooks/data_table.ipynb>data table notebook</a>'\n",
              "            + ' to learn more about interactive tables.';\n",
              "          element.innerHTML = '';\n",
              "          dataTable['output_type'] = 'display_data';\n",
              "          await google.colab.output.renderOutput(dataTable, element);\n",
              "          const docLink = document.createElement('div');\n",
              "          docLink.innerHTML = docLinkHtml;\n",
              "          element.appendChild(docLink);\n",
              "        }\n",
              "      </script>\n",
              "    </div>\n",
              "  </div>\n",
              "  "
            ]
          },
          "metadata": {},
          "execution_count": 39
        }
      ],
      "source": [
        "#There are missing values for different columns:\n",
        "\n",
        "#df.isna()\n",
        "a = df.isnull().sum().to_frame().sort_values(by=[0], ascending=False)\n",
        "a.rename(columns={0: \"total_nulos\"}, inplace = True)\n",
        "a[\"%_nulos\"] =round(df.apply(lambda x: 1-(x.count()/x.size))*100,2)\n",
        "a\n",
        "#df.style.format(\"{:,.0f}\")"
      ]
    },
    {
      "cell_type": "code",
      "execution_count": 40,
      "metadata": {
        "id": "L_C3Ri6YQ6DC"
      },
      "outputs": [],
      "source": [
        "threshold = 0.3 # set the threshold to 30%\n",
        "mask = df.isnull().mean(axis=1) > threshold # create a boolean mask\n",
        "rows_with_many_nulls = df[mask] # select rows that meet the condition"
      ]
    },
    {
      "cell_type": "code",
      "execution_count": 41,
      "metadata": {
        "id": "WT-cOyP1Q5xq",
        "colab": {
          "base_uri": "https://localhost:8080/"
        },
        "outputId": "81503477-7d7c-499e-8a35-07d7e3ff0726"
      },
      "outputs": [
        {
          "output_type": "stream",
          "name": "stdout",
          "text": [
            "0\n"
          ]
        }
      ],
      "source": [
        "print(len(rows_with_many_nulls))"
      ]
    },
    {
      "cell_type": "code",
      "execution_count": 42,
      "metadata": {
        "id": "sJ_ObdCdW0qM",
        "colab": {
          "base_uri": "https://localhost:8080/"
        },
        "outputId": "c966415d-ea6f-4dfb-8d3b-d5b18fefb28b"
      },
      "outputs": [
        {
          "output_type": "stream",
          "name": "stdout",
          "text": [
            "(7345635, 20)\n",
            "7345635\n"
          ]
        }
      ],
      "source": [
        "df_not_na = df.dropna()\n",
        "print(df_not_na.shape)\n",
        "print(len(df_not_na))"
      ]
    },
    {
      "cell_type": "code",
      "execution_count": 43,
      "metadata": {
        "id": "iv191nt2xzs3"
      },
      "outputs": [],
      "source": [
        "dic_crimenes = {'CRIMINAL MISCHIEF & RELATED OF' : 'Orden publico', \n",
        "'PETIT LARCENY': 'Robos y hurtos',\n",
        "'OFF. AGNST PUB ORD SENSBLTY &' : 'Orden publico', \n",
        "'FORGERY' : 'Fraude', \n",
        "'DANGEROUS WEAPONS' : 'Armas',\n",
        "'ASSAULT 3 & RELATED OFFENSES' : 'Delito mayor', \n",
        "'FELONY ASSAULT': 'Delito mayor', \n",
        "'GRAND LARCENY' : 'Robos y hurtos',\n",
        "'OFFENSES AGAINST PUBLIC ADMINI' : 'Orden publico', \n",
        "'ROBBERY' : 'Robos y hurtos', \n",
        "'HARRASSMENT 2' : 'Acoso',\n",
        "'DANGEROUS DRUGS' : 'Trafico de drogas', \n",
        "'SEX CRIMES' : 'Crimenes sexuales', \n",
        "'VEHICLE AND TRAFFIC LAWS' : 'Leyes de transito',\n",
        "'OTHER OFFENSES RELATED TO THEF': 'Robos y hurtos', \n",
        "'CRIMINAL TRESPASS' : 'Robos y hurtos',\n",
        "'OFFENSES AGAINST THE PERSON' : 'Acoso', \n",
        "'BURGLARY' : 'Robos y hurtos',\n",
        "'POSSESSION OF STOLEN PROPERTY' : 'Delito mayor', \n",
        "'MISCELLANEOUS PENAL LAW' : 'Crimen fallido',\n",
        "'ARSON' : 'Orden publico', \n",
        "'GRAND LARCENY OF MOTOR VEHICLE' : 'Robos y hurtos', \n",
        "'RAPE' : 'Crimenes sexuales',\n",
        "'OFFENSES INVOLVING FRAUD' : 'Fraude', \n",
        "'INTOXICATED & IMPAIRED DRIVING' : 'Leyes de transito',\n",
        "'UNAUTHORIZED USE OF A VEHICLE' : 'Leyes de transito', \n",
        "'NYS LAWS-UNCLASSIFIED FELONY' : 'Delito menor',\n",
        "'OTHER STATE LAWS (NON PENAL LA' : 'Delito menor', \n",
        "'FRAUDS' : 'Fraude', \n",
        "'THEFT-FRAUD' : 'Robos y hurtos',\n",
        "'ADMINISTRATIVE CODE' : 'Delitos administrativos', \n",
        "'nan': 'Otros crimenes', \n",
        "'OFFENSES AGAINST PUBLIC SAFETY' : 'Orden publico',\n",
        "'DISORDERLY CONDUCT' : 'Orden publico', \n",
        "'ANTICIPATORY OFFENSES' : 'Concierto para delinquir', \n",
        "'JOSTLING' : 'Riñas',\n",
        "'KIDNAPPING & RELATED OFFENSES' : 'Secuestro y relacionados', \n",
        "'MURDER & NON-NEGL. MANSLAUGHTER' : 'Homicidio',\n",
        "'ALCOHOLIC BEVERAGE CONTROL LAW' : 'Orden publico', \n",
        "'THEFT OF SERVICES' : 'Robos y hurtos',\n",
        "\"BURGLAR'S TOOLS\" : 'Robos y hurtos', \n",
        "'FRAUDULENT ACCOSTING': 'Fraude', \n",
        "'GAMBLING' : 'Fraude',\n",
        "'PETIT LARCENY OF MOTOR VEHICLE' : 'Robos y hurtos',\n",
        "'AGRICULTURE & MRKTS LAW-UNCLASSIFIED' : 'Orden publico',\n",
        "'PROSTITUTION & RELATED OFFENSES' : 'Crimenes sexuales', \n",
        "'CHILD ABANDONMENT/NON SUPPORT' : 'Crimenes sexuales',\n",
        "'OFFENSES RELATED TO CHILDREN' : 'Crimenes sexuales', \n",
        "'ENDAN WELFARE INCOMP' : 'Acoso', \n",
        "'ABORTION' : 'Crimenes sexuales',\n",
        "'NYS LAWS-UNCLASSIFIED VIOLATION': 'Crimenes sexuales', \n",
        "'OTHER STATE LAWS': 'Otros crimenes',\n",
        "'INTOXICATED/IMPAIRED DRIVING' : 'Leyes de transito', \n",
        "'KIDNAPPING' : 'Secuestro y relacionados', \n",
        "'ESCAPE 3' : 'Fuga',\n",
        "'HOMICIDE-NEGLIGENT,UNCLASSIFIE' : 'Homicidio', \n",
        "'LOITERING/GAMBLING (CARDS, DIC' : 'Fraude',\n",
        "'NEW YORK CITY HEALTH CODE' : 'Salud Publica', \n",
        "'UNLAWFUL POSS. WEAP. ON SCHOOL' : 'Armas',\n",
        "'UNDER THE INFLUENCE OF DRUGS' : 'Orden publico', \n",
        "'HOMICIDE-NEGLIGENT-VEHICLE' : 'Leyes de transito',\n",
        "'OTHER TRAFFIC INFRACTION' : 'Leyes de transito', \n",
        "'ADMINISTRATIVE CODES' : 'Delitos administrativos',\n",
        "'OTHER STATE LAWS (NON PENAL LAW)' : 'Otros crimenes',\n",
        "'DISRUPTION OF A RELIGIOUS SERV' : 'Orden publico', \n",
        "'FELONY SEX CRIMES' : 'Crimenes sexuales',\n",
        "'OFFENSES AGAINST MARRIAGE UNCL' : 'Crimenes sexuales', \n",
        "'FORTUNE TELLING' : 'Fraude',\n",
        "'KIDNAPPING AND RELATED OFFENSES' : 'Secuestro y relacionados', \n",
        "'LOITERING' : 'Fraude',\n",
        "'LOITERING FOR DRUG PURPOSES' : 'Trafico de drogas', \n",
        "'LOITERING/DEVIATE SEX' : 'Crimenes sexuales'}\n",
        "\n",
        "dic_location = {'PARKING LOT/GARAGE (PUBLIC)' : 'Parqueadero', \n",
        "'DEPARTMENT STORE' : 'Zona de comercio',\n",
        " 'STREET' : 'Calle',\n",
        " 'RESIDENCE - APT. HOUSE' : 'Zona residencial', \n",
        "'CHAIN STORE' : 'Zona de comercio',\n",
        " 'TRANSIT - NYC SUBWAY' : 'Transporte publico',\n",
        " 'FAST FOOD' : 'Restaurante',\n",
        " 'RESIDENCE-HOUSE' : 'Zona residencial',\n",
        " 'BAR/NIGHT CLUB' : 'club nocturno', \n",
        "'MAILBOX OUTSIDE' : 'Zona residencial', \n",
        "'STORAGE FACILITY' : 'Bodega',\n",
        " 'TELECOMM. STORE' : 'Zona de comercio', \n",
        "'GROCERY/BODEGA' : 'Bodega', \n",
        "'DRUG STORE' : 'Zona de comercio',\n",
        " 'RESIDENCE - PUBLIC HOUSING' : 'Zona residencial', \n",
        "'SMALL MERCHANT' : 'Zona de comercio', \n",
        "'COMMERCIAL BUILDING': 'Zona de comercio',\n",
        " 'OTHER': 'Otros', \n",
        "'FOOD SUPERMARKET': 'Restaurante', \n",
        "'RESTAURANT/DINER': 'Restaurante', \n",
        "'ABANDONED BUILDING' : 'Edificio abandonado',\n",
        " 'LIQUOR STORE' : 'Licorera', \n",
        "'DOCTOR/DENTIST OFFICE' : 'Servicios de salud', \n",
        "'nan' : 'No registrado', \n",
        "'AIRPORT TERMINAL' : 'Transporte publico',\n",
        " 'DRY CLEANER/LAUNDRY' : 'Zona de comercio', \n",
        "'CLOTHING/BOUTIQUE' : 'Zona de comercio', \n",
        "'MOSQUE' : 'Templo religioso', \n",
        "'HIGHWAY/PARKWAY' : 'Calle',\n",
        " 'PARKING LOT/GARAGE (PRIVATE)' : 'Parqueadero', \n",
        "'PARK/PLAYGROUND' : 'Parque', \n",
        "'BANK' : 'Servicios financieros',\n",
        " 'BUS (NYC TRANSIT)' : 'Transporte publico', \n",
        "'JEWELRY' : 'Zona de comercio', \n",
        "'GYM/FITNESS FACILITY' : 'Zona de comercio', \n",
        "'HOSPITAL' : 'Servicios de salud',\n",
        " 'PRIVATE/PAROCHIAL SCHOOL' : 'Institucion educativa', \n",
        "'STORE UNCLASSIFIED' : 'Zona de comercio', \n",
        "'HOTEL/MOTEL' : 'Hotel',\n",
        " 'PUBLIC SCHOOL' : 'Institucion educativa', \n",
        "'GAS STATION' : 'Zona de comercio', \n",
        "'TUNNEL' : 'Calle', \n",
        "'CHURCH': 'Templo religioso', \n",
        "'PUBLIC BUILDING': 'Centros publicos',\n",
        " 'CONSTRUCTION SITE' : 'Construccion', \n",
        "'BEAUTY & NAIL SALON' : 'Zona de comercio', \n",
        "'BUS (OTHER)' : 'Transporte publico',\n",
        " 'OPEN AREAS (OPEN LOTS)' : 'Parque', \n",
        "'MARINA/PIER' : 'Muelle', \n",
        "'ATM' : 'Servicios financieros', \n",
        "'SHOE' : 'Zona de comercio', \n",
        "'VARIETY STORE' : 'Zona de comercio',\n",
        " 'CHECK CASHING BUSINESS' : 'Servicios financieros', \n",
        "'TAXI (YELLOW LICENSED)' : 'Transporte publico', \n",
        "'SOCIAL CLUB/POLICY' : 'club nocturno',\n",
        " 'TAXI (LIVERY LICENSED)' : 'Transporte publico', \n",
        "'CANDY STORE' : 'Zona de comercio', \n",
        "'FERRY/FERRY TERMINAL' : 'Transporte publico',\n",
        " 'TRANSIT FACILITY (OTHER)' : 'Transporte publico', \n",
        "'BUS TERMINAL' : 'Transporte publico', \n",
        "'TAXI/LIVERY (UNLICENSED)' : 'Transporte publico',\n",
        " 'BUS STOP' : 'Transporte publico', \n",
        "'FACTORY/WAREHOUSE' : 'Bodega', \n",
        "'PHOTO/COPY' : 'Zona de comercio', \n",
        "'BRIDGE' : 'Calle', \n",
        "'MAILBOX INSIDE' : 'Zona residencial',\n",
        "'BOOK/CARD' : 'Zona de comercio', \n",
        "'OTHER HOUSE OF WORSHIP' : 'Templo religioso', \n",
        "'SYNAGOGUE' : 'Templo religioso', \n",
        "'VIDEO STORE' : 'Zona de comercio',\n",
        "'LOAN COMPANY' : 'Servicios financieros', \n",
        "'CEMETERY' : 'Centros publicos',\n",
        "'TRAMWAY' : 'Transporte publico',\n",
        "'HOMELESS SHELTER' : 'Calle', \n",
        "'DAYCARE FACILITY' : 'Institucion educativa'}"
      ]
    },
    {
      "cell_type": "code",
      "execution_count": 44,
      "metadata": {
        "id": "Nz-gcyz0fYKy",
        "colab": {
          "base_uri": "https://localhost:8080/"
        },
        "outputId": "380b1491-98af-4d7a-b74c-46c082adbdae"
      },
      "outputs": [
        {
          "output_type": "stream",
          "name": "stdout",
          "text": [
            "71\n"
          ]
        }
      ],
      "source": [
        "a = df[\"descripcion_suceso\"].drop_duplicates()\n",
        "print(len(a.unique()))"
      ]
    },
    {
      "cell_type": "code",
      "source": [
        "df[\"descripcion_suceso\"].value_counts()"
      ],
      "metadata": {
        "id": "7LKOrzoenFCm",
        "colab": {
          "base_uri": "https://localhost:8080/"
        },
        "outputId": "59f1edc4-0703-4aea-e19a-b1abe07ccc86"
      },
      "execution_count": 45,
      "outputs": [
        {
          "output_type": "execute_result",
          "data": {
            "text/plain": [
              "PETIT LARCENY                      1240593\n",
              "HARRASSMENT 2                      1014645\n",
              "ASSAULT 3 & RELATED OFFENSES        809920\n",
              "CRIMINAL MISCHIEF & RELATED OF      744122\n",
              "GRAND LARCENY                       658035\n",
              "                                    ...   \n",
              "OTHER TRAFFIC INFRACTION                 8\n",
              "ABORTION                                 7\n",
              "OFFENSES AGAINST MARRIAGE UNCL           5\n",
              "KIDNAPPING AND RELATED OFFENSES          3\n",
              "UNDER THE INFLUENCE OF DRUGS             3\n",
              "Name: descripcion_suceso, Length: 70, dtype: int64"
            ]
          },
          "metadata": {},
          "execution_count": 45
        }
      ]
    },
    {
      "cell_type": "code",
      "execution_count": 46,
      "metadata": {
        "id": "7cWlX_7bfr3H",
        "colab": {
          "base_uri": "https://localhost:8080/"
        },
        "outputId": "e77a8619-0b06-4130-8490-86c918ec44b7"
      },
      "outputs": [
        {
          "output_type": "stream",
          "name": "stdout",
          "text": [
            "75\n"
          ]
        }
      ],
      "source": [
        "b = df[\"descripcion_ubicacion\"].drop_duplicates()\n",
        "print(len(b.unique()))"
      ]
    },
    {
      "cell_type": "code",
      "execution_count": 47,
      "metadata": {
        "id": "xsd07e7DoiXG"
      },
      "outputs": [],
      "source": [
        "df[\"tipo_crimen\"]=df[\"descripcion_suceso\"].replace(dic_crimenes)\n",
        "df[\"lugar\"]=df[\"descripcion_ubicacion\"].replace(dic_location)"
      ]
    },
    {
      "cell_type": "code",
      "source": [
        "df[\"tipo_crimen\"].value_counts().to_frame()"
      ],
      "metadata": {
        "id": "528--ctPsNfF",
        "colab": {
          "base_uri": "https://localhost:8080/",
          "height": 645
        },
        "outputId": "54fe9e3d-b62c-474c-d7ee-8e871e2fb5e5"
      },
      "execution_count": 48,
      "outputs": [
        {
          "output_type": "execute_result",
          "data": {
            "text/plain": [
              "                          tipo_crimen\n",
              "Robos y hurtos                2754037\n",
              "Orden publico                 1292748\n",
              "Delito mayor                  1145454\n",
              "Acoso                         1032510\n",
              "Trafico de drogas              341671\n",
              "Crimen fallido                 192253\n",
              "Leyes de transito              189183\n",
              "Armas                          140377\n",
              "Fraude                         139351\n",
              "Crimenes sexuales              119689\n",
              "Delitos administrativos         16481\n",
              "Delito menor                    11696\n",
              "Secuestro y relacionados         3007\n",
              "Riñas                             440\n",
              "Otros crimenes                    267\n",
              "Fuga                              191\n",
              "Homicidio                         175\n",
              "Concierto para delinquir          126\n",
              "Salud Publica                      83"
            ],
            "text/html": [
              "\n",
              "  <div id=\"df-47b0fddd-12ef-4b29-ad2c-76a5c9150ab5\">\n",
              "    <div class=\"colab-df-container\">\n",
              "      <div>\n",
              "<style scoped>\n",
              "    .dataframe tbody tr th:only-of-type {\n",
              "        vertical-align: middle;\n",
              "    }\n",
              "\n",
              "    .dataframe tbody tr th {\n",
              "        vertical-align: top;\n",
              "    }\n",
              "\n",
              "    .dataframe thead th {\n",
              "        text-align: right;\n",
              "    }\n",
              "</style>\n",
              "<table border=\"1\" class=\"dataframe\">\n",
              "  <thead>\n",
              "    <tr style=\"text-align: right;\">\n",
              "      <th></th>\n",
              "      <th>tipo_crimen</th>\n",
              "    </tr>\n",
              "  </thead>\n",
              "  <tbody>\n",
              "    <tr>\n",
              "      <th>Robos y hurtos</th>\n",
              "      <td>2754037</td>\n",
              "    </tr>\n",
              "    <tr>\n",
              "      <th>Orden publico</th>\n",
              "      <td>1292748</td>\n",
              "    </tr>\n",
              "    <tr>\n",
              "      <th>Delito mayor</th>\n",
              "      <td>1145454</td>\n",
              "    </tr>\n",
              "    <tr>\n",
              "      <th>Acoso</th>\n",
              "      <td>1032510</td>\n",
              "    </tr>\n",
              "    <tr>\n",
              "      <th>Trafico de drogas</th>\n",
              "      <td>341671</td>\n",
              "    </tr>\n",
              "    <tr>\n",
              "      <th>Crimen fallido</th>\n",
              "      <td>192253</td>\n",
              "    </tr>\n",
              "    <tr>\n",
              "      <th>Leyes de transito</th>\n",
              "      <td>189183</td>\n",
              "    </tr>\n",
              "    <tr>\n",
              "      <th>Armas</th>\n",
              "      <td>140377</td>\n",
              "    </tr>\n",
              "    <tr>\n",
              "      <th>Fraude</th>\n",
              "      <td>139351</td>\n",
              "    </tr>\n",
              "    <tr>\n",
              "      <th>Crimenes sexuales</th>\n",
              "      <td>119689</td>\n",
              "    </tr>\n",
              "    <tr>\n",
              "      <th>Delitos administrativos</th>\n",
              "      <td>16481</td>\n",
              "    </tr>\n",
              "    <tr>\n",
              "      <th>Delito menor</th>\n",
              "      <td>11696</td>\n",
              "    </tr>\n",
              "    <tr>\n",
              "      <th>Secuestro y relacionados</th>\n",
              "      <td>3007</td>\n",
              "    </tr>\n",
              "    <tr>\n",
              "      <th>Riñas</th>\n",
              "      <td>440</td>\n",
              "    </tr>\n",
              "    <tr>\n",
              "      <th>Otros crimenes</th>\n",
              "      <td>267</td>\n",
              "    </tr>\n",
              "    <tr>\n",
              "      <th>Fuga</th>\n",
              "      <td>191</td>\n",
              "    </tr>\n",
              "    <tr>\n",
              "      <th>Homicidio</th>\n",
              "      <td>175</td>\n",
              "    </tr>\n",
              "    <tr>\n",
              "      <th>Concierto para delinquir</th>\n",
              "      <td>126</td>\n",
              "    </tr>\n",
              "    <tr>\n",
              "      <th>Salud Publica</th>\n",
              "      <td>83</td>\n",
              "    </tr>\n",
              "  </tbody>\n",
              "</table>\n",
              "</div>\n",
              "      <button class=\"colab-df-convert\" onclick=\"convertToInteractive('df-47b0fddd-12ef-4b29-ad2c-76a5c9150ab5')\"\n",
              "              title=\"Convert this dataframe to an interactive table.\"\n",
              "              style=\"display:none;\">\n",
              "        \n",
              "  <svg xmlns=\"http://www.w3.org/2000/svg\" height=\"24px\"viewBox=\"0 0 24 24\"\n",
              "       width=\"24px\">\n",
              "    <path d=\"M0 0h24v24H0V0z\" fill=\"none\"/>\n",
              "    <path d=\"M18.56 5.44l.94 2.06.94-2.06 2.06-.94-2.06-.94-.94-2.06-.94 2.06-2.06.94zm-11 1L8.5 8.5l.94-2.06 2.06-.94-2.06-.94L8.5 2.5l-.94 2.06-2.06.94zm10 10l.94 2.06.94-2.06 2.06-.94-2.06-.94-.94-2.06-.94 2.06-2.06.94z\"/><path d=\"M17.41 7.96l-1.37-1.37c-.4-.4-.92-.59-1.43-.59-.52 0-1.04.2-1.43.59L10.3 9.45l-7.72 7.72c-.78.78-.78 2.05 0 2.83L4 21.41c.39.39.9.59 1.41.59.51 0 1.02-.2 1.41-.59l7.78-7.78 2.81-2.81c.8-.78.8-2.07 0-2.86zM5.41 20L4 18.59l7.72-7.72 1.47 1.35L5.41 20z\"/>\n",
              "  </svg>\n",
              "      </button>\n",
              "      \n",
              "  <style>\n",
              "    .colab-df-container {\n",
              "      display:flex;\n",
              "      flex-wrap:wrap;\n",
              "      gap: 12px;\n",
              "    }\n",
              "\n",
              "    .colab-df-convert {\n",
              "      background-color: #E8F0FE;\n",
              "      border: none;\n",
              "      border-radius: 50%;\n",
              "      cursor: pointer;\n",
              "      display: none;\n",
              "      fill: #1967D2;\n",
              "      height: 32px;\n",
              "      padding: 0 0 0 0;\n",
              "      width: 32px;\n",
              "    }\n",
              "\n",
              "    .colab-df-convert:hover {\n",
              "      background-color: #E2EBFA;\n",
              "      box-shadow: 0px 1px 2px rgba(60, 64, 67, 0.3), 0px 1px 3px 1px rgba(60, 64, 67, 0.15);\n",
              "      fill: #174EA6;\n",
              "    }\n",
              "\n",
              "    [theme=dark] .colab-df-convert {\n",
              "      background-color: #3B4455;\n",
              "      fill: #D2E3FC;\n",
              "    }\n",
              "\n",
              "    [theme=dark] .colab-df-convert:hover {\n",
              "      background-color: #434B5C;\n",
              "      box-shadow: 0px 1px 3px 1px rgba(0, 0, 0, 0.15);\n",
              "      filter: drop-shadow(0px 1px 2px rgba(0, 0, 0, 0.3));\n",
              "      fill: #FFFFFF;\n",
              "    }\n",
              "  </style>\n",
              "\n",
              "      <script>\n",
              "        const buttonEl =\n",
              "          document.querySelector('#df-47b0fddd-12ef-4b29-ad2c-76a5c9150ab5 button.colab-df-convert');\n",
              "        buttonEl.style.display =\n",
              "          google.colab.kernel.accessAllowed ? 'block' : 'none';\n",
              "\n",
              "        async function convertToInteractive(key) {\n",
              "          const element = document.querySelector('#df-47b0fddd-12ef-4b29-ad2c-76a5c9150ab5');\n",
              "          const dataTable =\n",
              "            await google.colab.kernel.invokeFunction('convertToInteractive',\n",
              "                                                     [key], {});\n",
              "          if (!dataTable) return;\n",
              "\n",
              "          const docLinkHtml = 'Like what you see? Visit the ' +\n",
              "            '<a target=\"_blank\" href=https://colab.research.google.com/notebooks/data_table.ipynb>data table notebook</a>'\n",
              "            + ' to learn more about interactive tables.';\n",
              "          element.innerHTML = '';\n",
              "          dataTable['output_type'] = 'display_data';\n",
              "          await google.colab.output.renderOutput(dataTable, element);\n",
              "          const docLink = document.createElement('div');\n",
              "          docLink.innerHTML = docLinkHtml;\n",
              "          element.appendChild(docLink);\n",
              "        }\n",
              "      </script>\n",
              "    </div>\n",
              "  </div>\n",
              "  "
            ]
          },
          "metadata": {},
          "execution_count": 48
        }
      ]
    },
    {
      "cell_type": "code",
      "source": [
        "df[\"lugar\"].value_counts().to_frame()"
      ],
      "metadata": {
        "id": "OoiAtTOO1wsb",
        "colab": {
          "base_uri": "https://localhost:8080/",
          "height": 677
        },
        "outputId": "5b21b482-624b-4903-cbe1-ad0e14d01dbc"
      },
      "execution_count": 49,
      "outputs": [
        {
          "output_type": "execute_result",
          "data": {
            "text/plain": [
              "                         lugar\n",
              "Zona residencial       2990716\n",
              "Calle                  2293426\n",
              "Zona de comercio        811144\n",
              "Transporte publico      239122\n",
              "Otros                   194770\n",
              "Restaurante             162084\n",
              "Bodega                  110504\n",
              "Institucion educativa    90905\n",
              "Parque                   88301\n",
              "club nocturno            83044\n",
              "Parqueadero              79464\n",
              "Servicios de salud       54517\n",
              "Servicios financieros    45785\n",
              "Centros publicos         42087\n",
              "Hotel                    36349\n",
              "Templo religioso         17874\n",
              "Construccion             13298\n",
              "Licorera                  6280\n",
              "Muelle                    3013\n",
              "Edificio abandonado       2679"
            ],
            "text/html": [
              "\n",
              "  <div id=\"df-12312615-42e1-4277-b59e-5d45d7e55792\">\n",
              "    <div class=\"colab-df-container\">\n",
              "      <div>\n",
              "<style scoped>\n",
              "    .dataframe tbody tr th:only-of-type {\n",
              "        vertical-align: middle;\n",
              "    }\n",
              "\n",
              "    .dataframe tbody tr th {\n",
              "        vertical-align: top;\n",
              "    }\n",
              "\n",
              "    .dataframe thead th {\n",
              "        text-align: right;\n",
              "    }\n",
              "</style>\n",
              "<table border=\"1\" class=\"dataframe\">\n",
              "  <thead>\n",
              "    <tr style=\"text-align: right;\">\n",
              "      <th></th>\n",
              "      <th>lugar</th>\n",
              "    </tr>\n",
              "  </thead>\n",
              "  <tbody>\n",
              "    <tr>\n",
              "      <th>Zona residencial</th>\n",
              "      <td>2990716</td>\n",
              "    </tr>\n",
              "    <tr>\n",
              "      <th>Calle</th>\n",
              "      <td>2293426</td>\n",
              "    </tr>\n",
              "    <tr>\n",
              "      <th>Zona de comercio</th>\n",
              "      <td>811144</td>\n",
              "    </tr>\n",
              "    <tr>\n",
              "      <th>Transporte publico</th>\n",
              "      <td>239122</td>\n",
              "    </tr>\n",
              "    <tr>\n",
              "      <th>Otros</th>\n",
              "      <td>194770</td>\n",
              "    </tr>\n",
              "    <tr>\n",
              "      <th>Restaurante</th>\n",
              "      <td>162084</td>\n",
              "    </tr>\n",
              "    <tr>\n",
              "      <th>Bodega</th>\n",
              "      <td>110504</td>\n",
              "    </tr>\n",
              "    <tr>\n",
              "      <th>Institucion educativa</th>\n",
              "      <td>90905</td>\n",
              "    </tr>\n",
              "    <tr>\n",
              "      <th>Parque</th>\n",
              "      <td>88301</td>\n",
              "    </tr>\n",
              "    <tr>\n",
              "      <th>club nocturno</th>\n",
              "      <td>83044</td>\n",
              "    </tr>\n",
              "    <tr>\n",
              "      <th>Parqueadero</th>\n",
              "      <td>79464</td>\n",
              "    </tr>\n",
              "    <tr>\n",
              "      <th>Servicios de salud</th>\n",
              "      <td>54517</td>\n",
              "    </tr>\n",
              "    <tr>\n",
              "      <th>Servicios financieros</th>\n",
              "      <td>45785</td>\n",
              "    </tr>\n",
              "    <tr>\n",
              "      <th>Centros publicos</th>\n",
              "      <td>42087</td>\n",
              "    </tr>\n",
              "    <tr>\n",
              "      <th>Hotel</th>\n",
              "      <td>36349</td>\n",
              "    </tr>\n",
              "    <tr>\n",
              "      <th>Templo religioso</th>\n",
              "      <td>17874</td>\n",
              "    </tr>\n",
              "    <tr>\n",
              "      <th>Construccion</th>\n",
              "      <td>13298</td>\n",
              "    </tr>\n",
              "    <tr>\n",
              "      <th>Licorera</th>\n",
              "      <td>6280</td>\n",
              "    </tr>\n",
              "    <tr>\n",
              "      <th>Muelle</th>\n",
              "      <td>3013</td>\n",
              "    </tr>\n",
              "    <tr>\n",
              "      <th>Edificio abandonado</th>\n",
              "      <td>2679</td>\n",
              "    </tr>\n",
              "  </tbody>\n",
              "</table>\n",
              "</div>\n",
              "      <button class=\"colab-df-convert\" onclick=\"convertToInteractive('df-12312615-42e1-4277-b59e-5d45d7e55792')\"\n",
              "              title=\"Convert this dataframe to an interactive table.\"\n",
              "              style=\"display:none;\">\n",
              "        \n",
              "  <svg xmlns=\"http://www.w3.org/2000/svg\" height=\"24px\"viewBox=\"0 0 24 24\"\n",
              "       width=\"24px\">\n",
              "    <path d=\"M0 0h24v24H0V0z\" fill=\"none\"/>\n",
              "    <path d=\"M18.56 5.44l.94 2.06.94-2.06 2.06-.94-2.06-.94-.94-2.06-.94 2.06-2.06.94zm-11 1L8.5 8.5l.94-2.06 2.06-.94-2.06-.94L8.5 2.5l-.94 2.06-2.06.94zm10 10l.94 2.06.94-2.06 2.06-.94-2.06-.94-.94-2.06-.94 2.06-2.06.94z\"/><path d=\"M17.41 7.96l-1.37-1.37c-.4-.4-.92-.59-1.43-.59-.52 0-1.04.2-1.43.59L10.3 9.45l-7.72 7.72c-.78.78-.78 2.05 0 2.83L4 21.41c.39.39.9.59 1.41.59.51 0 1.02-.2 1.41-.59l7.78-7.78 2.81-2.81c.8-.78.8-2.07 0-2.86zM5.41 20L4 18.59l7.72-7.72 1.47 1.35L5.41 20z\"/>\n",
              "  </svg>\n",
              "      </button>\n",
              "      \n",
              "  <style>\n",
              "    .colab-df-container {\n",
              "      display:flex;\n",
              "      flex-wrap:wrap;\n",
              "      gap: 12px;\n",
              "    }\n",
              "\n",
              "    .colab-df-convert {\n",
              "      background-color: #E8F0FE;\n",
              "      border: none;\n",
              "      border-radius: 50%;\n",
              "      cursor: pointer;\n",
              "      display: none;\n",
              "      fill: #1967D2;\n",
              "      height: 32px;\n",
              "      padding: 0 0 0 0;\n",
              "      width: 32px;\n",
              "    }\n",
              "\n",
              "    .colab-df-convert:hover {\n",
              "      background-color: #E2EBFA;\n",
              "      box-shadow: 0px 1px 2px rgba(60, 64, 67, 0.3), 0px 1px 3px 1px rgba(60, 64, 67, 0.15);\n",
              "      fill: #174EA6;\n",
              "    }\n",
              "\n",
              "    [theme=dark] .colab-df-convert {\n",
              "      background-color: #3B4455;\n",
              "      fill: #D2E3FC;\n",
              "    }\n",
              "\n",
              "    [theme=dark] .colab-df-convert:hover {\n",
              "      background-color: #434B5C;\n",
              "      box-shadow: 0px 1px 3px 1px rgba(0, 0, 0, 0.15);\n",
              "      filter: drop-shadow(0px 1px 2px rgba(0, 0, 0, 0.3));\n",
              "      fill: #FFFFFF;\n",
              "    }\n",
              "  </style>\n",
              "\n",
              "      <script>\n",
              "        const buttonEl =\n",
              "          document.querySelector('#df-12312615-42e1-4277-b59e-5d45d7e55792 button.colab-df-convert');\n",
              "        buttonEl.style.display =\n",
              "          google.colab.kernel.accessAllowed ? 'block' : 'none';\n",
              "\n",
              "        async function convertToInteractive(key) {\n",
              "          const element = document.querySelector('#df-12312615-42e1-4277-b59e-5d45d7e55792');\n",
              "          const dataTable =\n",
              "            await google.colab.kernel.invokeFunction('convertToInteractive',\n",
              "                                                     [key], {});\n",
              "          if (!dataTable) return;\n",
              "\n",
              "          const docLinkHtml = 'Like what you see? Visit the ' +\n",
              "            '<a target=\"_blank\" href=https://colab.research.google.com/notebooks/data_table.ipynb>data table notebook</a>'\n",
              "            + ' to learn more about interactive tables.';\n",
              "          element.innerHTML = '';\n",
              "          dataTable['output_type'] = 'display_data';\n",
              "          await google.colab.output.renderOutput(dataTable, element);\n",
              "          const docLink = document.createElement('div');\n",
              "          docLink.innerHTML = docLinkHtml;\n",
              "          element.appendChild(docLink);\n",
              "        }\n",
              "      </script>\n",
              "    </div>\n",
              "  </div>\n",
              "  "
            ]
          },
          "metadata": {},
          "execution_count": 49
        }
      ]
    },
    {
      "cell_type": "code",
      "source": [
        "df['hora_suceso'] = pd.to_datetime(df['hora_suceso'],format= '%H:%M:%S').dt.time\n",
        "df.drop(columns=[\"descripcion_suceso\", \"descripcion_ubicacion\"], inplace = True)"
      ],
      "metadata": {
        "id": "stQZ8dW-wVFX"
      },
      "execution_count": 51,
      "outputs": []
    },
    {
      "cell_type": "code",
      "source": [
        "#df.to_csv('df_iter1.csv', index= False)"
      ],
      "metadata": {
        "id": "9H3a6yhcoJSJ"
      },
      "execution_count": 53,
      "outputs": []
    },
    {
      "cell_type": "code",
      "source": [
        "#from google.colab import files\n",
        "#files.download('/content/df_iter1.csv')"
      ],
      "metadata": {
        "id": "FIhHTa2Xrvv0"
      },
      "execution_count": null,
      "outputs": []
    },
    {
      "cell_type": "code",
      "source": [
        "d#f =  pd.read_csv(\"/content/df_iter1.csv\", low_memory=False)"
      ],
      "metadata": {
        "id": "obVhdWOqAyzS"
      },
      "execution_count": null,
      "outputs": []
    },
    {
      "cell_type": "code",
      "execution_count": 55,
      "metadata": {
        "id": "fi-Meu_tkVEG"
      },
      "outputs": [],
      "source": [
        "df = df.sample(frac=0.15, replace=True, random_state=1)"
      ]
    },
    {
      "cell_type": "code",
      "execution_count": 59,
      "metadata": {
        "id": "dgz-X-F_NTvA"
      },
      "outputs": [],
      "source": [
        "obj_cat_df = df[['delito_completado_interrumpido', 'nivel_ofensa', 'distrito', 'raza_sospechoso', 'sexo_sospechoso',\n",
        "       'raza_victima', 'sexo_victima',\n",
        "       'tipo_crimen', 'lugar']]"
      ]
    },
    {
      "cell_type": "code",
      "execution_count": 60,
      "metadata": {
        "id": "K36SLKtaS8y6"
      },
      "outputs": [],
      "source": [
        "ohc = OneHotEncoder(sparse = False)"
      ]
    },
    {
      "cell_type": "code",
      "execution_count": 61,
      "metadata": {
        "id": "Z3QmF43FTB0e",
        "colab": {
          "base_uri": "https://localhost:8080/"
        },
        "outputId": "8ce185f2-ce13-4832-ed4d-7d68f2dfcd19"
      },
      "outputs": [
        {
          "output_type": "stream",
          "name": "stderr",
          "text": [
            "/usr/local/lib/python3.10/dist-packages/sklearn/preprocessing/_encoders.py:868: FutureWarning: `sparse` was renamed to `sparse_output` in version 1.2 and will be removed in 1.4. `sparse_output` is ignored unless you leave `sparse` to its default value.\n",
            "  warnings.warn(\n"
          ]
        }
      ],
      "source": [
        "df_encoder = ohc.fit_transform(obj_cat_df)"
      ]
    },
    {
      "cell_type": "code",
      "execution_count": 62,
      "metadata": {
        "id": "bdyvSs-dVvd8",
        "colab": {
          "base_uri": "https://localhost:8080/"
        },
        "outputId": "3de2e744-af7a-4a63-da22-34501d25a028"
      },
      "outputs": [
        {
          "output_type": "execute_result",
          "data": {
            "text/plain": [
              "71"
            ]
          },
          "metadata": {},
          "execution_count": 62
        }
      ],
      "source": [
        "len(ohc.get_feature_names_out())"
      ]
    },
    {
      "cell_type": "code",
      "execution_count": 63,
      "metadata": {
        "id": "S7NFm4_akMH0"
      },
      "outputs": [],
      "source": [
        "#df = pd.concat([df[\"num_denuncia\"], df[\"fecha_suceso\"], df[\"hora_suceso\"], df[\"geoespacial\"], obj_cat_df], sort = False)\n",
        "\n",
        "# Convertir la matriz sparse resultante a un dataframe\n",
        "encoded_df = pd.DataFrame(df_encoder, \n",
        "                          columns = ohc.get_feature_names_out())\n",
        "# asegurarnos de que los dataframes tengan la misma cantidad de filas y estén en el mismo orden\n",
        "df_encoded = encoded_df.reset_index(drop=True)\n",
        "df_original = df.reset_index(drop=True)\n",
        "\n",
        "# concatenar los dataframes por columnas, \"hora_suceso\",  \"geoespacial\", \"num_denuncia\", \"fecha_suceso\", \"fecha_denuncia\", se excluyen momentaneamente estas variables en lo que se encuentra una manera de tratarlas\n",
        "#hora = [madrugada, mañana, mediodia, tarde, noche]\n",
        "#fecha_suceso = [dia de la semana], [finde semana, dia_laboral], [quincena, no_quincena], [verano, invierno, primavera, otoño], [mes], [dias de festividades, por ejemplo superbowl]\n",
        "#fecha_denuncia = [fecha_suceso] - [fecha_denuncia] (esto es un numero)\n",
        "df_concatenado = pd.concat([df_original[[\"latitud\", \"longitud\"]], df_encoded], axis=1)\n",
        "\n",
        "#df_concatenado =  df_encoded"
      ]
    },
    {
      "cell_type": "code",
      "source": [
        "df_concatenado = df_concatenado.dropna()"
      ],
      "metadata": {
        "id": "lTXoYDMl1uKd"
      },
      "execution_count": 65,
      "outputs": []
    },
    {
      "cell_type": "markdown",
      "source": [
        "##### Standarization and PCA before running KMeans (1st iteration)"
      ],
      "metadata": {
        "id": "lpehuNQ9yh9H"
      }
    },
    {
      "cell_type": "code",
      "source": [
        "scaler = StandardScaler()\n",
        "segmentation_std = scaler.fit_transform(df_concatenado)"
      ],
      "metadata": {
        "id": "TlkmE778xzL3"
      },
      "execution_count": 66,
      "outputs": []
    },
    {
      "cell_type": "code",
      "source": [
        "pca = PCA()\n",
        "pca.fit(segmentation_std)"
      ],
      "metadata": {
        "id": "eaMxQbvmzWlx",
        "colab": {
          "base_uri": "https://localhost:8080/",
          "height": 75
        },
        "outputId": "bbc62d09-2352-481d-f9be-df88d87dc18b"
      },
      "execution_count": 67,
      "outputs": [
        {
          "output_type": "execute_result",
          "data": {
            "text/plain": [
              "PCA()"
            ],
            "text/html": [
              "<style>#sk-container-id-1 {color: black;background-color: white;}#sk-container-id-1 pre{padding: 0;}#sk-container-id-1 div.sk-toggleable {background-color: white;}#sk-container-id-1 label.sk-toggleable__label {cursor: pointer;display: block;width: 100%;margin-bottom: 0;padding: 0.3em;box-sizing: border-box;text-align: center;}#sk-container-id-1 label.sk-toggleable__label-arrow:before {content: \"▸\";float: left;margin-right: 0.25em;color: #696969;}#sk-container-id-1 label.sk-toggleable__label-arrow:hover:before {color: black;}#sk-container-id-1 div.sk-estimator:hover label.sk-toggleable__label-arrow:before {color: black;}#sk-container-id-1 div.sk-toggleable__content {max-height: 0;max-width: 0;overflow: hidden;text-align: left;background-color: #f0f8ff;}#sk-container-id-1 div.sk-toggleable__content pre {margin: 0.2em;color: black;border-radius: 0.25em;background-color: #f0f8ff;}#sk-container-id-1 input.sk-toggleable__control:checked~div.sk-toggleable__content {max-height: 200px;max-width: 100%;overflow: auto;}#sk-container-id-1 input.sk-toggleable__control:checked~label.sk-toggleable__label-arrow:before {content: \"▾\";}#sk-container-id-1 div.sk-estimator input.sk-toggleable__control:checked~label.sk-toggleable__label {background-color: #d4ebff;}#sk-container-id-1 div.sk-label input.sk-toggleable__control:checked~label.sk-toggleable__label {background-color: #d4ebff;}#sk-container-id-1 input.sk-hidden--visually {border: 0;clip: rect(1px 1px 1px 1px);clip: rect(1px, 1px, 1px, 1px);height: 1px;margin: -1px;overflow: hidden;padding: 0;position: absolute;width: 1px;}#sk-container-id-1 div.sk-estimator {font-family: monospace;background-color: #f0f8ff;border: 1px dotted black;border-radius: 0.25em;box-sizing: border-box;margin-bottom: 0.5em;}#sk-container-id-1 div.sk-estimator:hover {background-color: #d4ebff;}#sk-container-id-1 div.sk-parallel-item::after {content: \"\";width: 100%;border-bottom: 1px solid gray;flex-grow: 1;}#sk-container-id-1 div.sk-label:hover label.sk-toggleable__label {background-color: #d4ebff;}#sk-container-id-1 div.sk-serial::before {content: \"\";position: absolute;border-left: 1px solid gray;box-sizing: border-box;top: 0;bottom: 0;left: 50%;z-index: 0;}#sk-container-id-1 div.sk-serial {display: flex;flex-direction: column;align-items: center;background-color: white;padding-right: 0.2em;padding-left: 0.2em;position: relative;}#sk-container-id-1 div.sk-item {position: relative;z-index: 1;}#sk-container-id-1 div.sk-parallel {display: flex;align-items: stretch;justify-content: center;background-color: white;position: relative;}#sk-container-id-1 div.sk-item::before, #sk-container-id-1 div.sk-parallel-item::before {content: \"\";position: absolute;border-left: 1px solid gray;box-sizing: border-box;top: 0;bottom: 0;left: 50%;z-index: -1;}#sk-container-id-1 div.sk-parallel-item {display: flex;flex-direction: column;z-index: 1;position: relative;background-color: white;}#sk-container-id-1 div.sk-parallel-item:first-child::after {align-self: flex-end;width: 50%;}#sk-container-id-1 div.sk-parallel-item:last-child::after {align-self: flex-start;width: 50%;}#sk-container-id-1 div.sk-parallel-item:only-child::after {width: 0;}#sk-container-id-1 div.sk-dashed-wrapped {border: 1px dashed gray;margin: 0 0.4em 0.5em 0.4em;box-sizing: border-box;padding-bottom: 0.4em;background-color: white;}#sk-container-id-1 div.sk-label label {font-family: monospace;font-weight: bold;display: inline-block;line-height: 1.2em;}#sk-container-id-1 div.sk-label-container {text-align: center;}#sk-container-id-1 div.sk-container {/* jupyter's `normalize.less` sets `[hidden] { display: none; }` but bootstrap.min.css set `[hidden] { display: none !important; }` so we also need the `!important` here to be able to override the default hidden behavior on the sphinx rendered scikit-learn.org. See: https://github.com/scikit-learn/scikit-learn/issues/21755 */display: inline-block !important;position: relative;}#sk-container-id-1 div.sk-text-repr-fallback {display: none;}</style><div id=\"sk-container-id-1\" class=\"sk-top-container\"><div class=\"sk-text-repr-fallback\"><pre>PCA()</pre><b>In a Jupyter environment, please rerun this cell to show the HTML representation or trust the notebook. <br />On GitHub, the HTML representation is unable to render, please try loading this page with nbviewer.org.</b></div><div class=\"sk-container\" hidden><div class=\"sk-item\"><div class=\"sk-estimator sk-toggleable\"><input class=\"sk-toggleable__control sk-hidden--visually\" id=\"sk-estimator-id-1\" type=\"checkbox\" checked><label for=\"sk-estimator-id-1\" class=\"sk-toggleable__label sk-toggleable__label-arrow\">PCA</label><div class=\"sk-toggleable__content\"><pre>PCA()</pre></div></div></div></div></div>"
            ]
          },
          "metadata": {},
          "execution_count": 67
        }
      ]
    },
    {
      "cell_type": "code",
      "source": [
        "pca.explained_variance_ratio_"
      ],
      "metadata": {
        "id": "Hg1m9RET2fBS",
        "colab": {
          "base_uri": "https://localhost:8080/"
        },
        "outputId": "e05bde90-e2d9-46a4-8499-8acaf2e2df7b"
      },
      "execution_count": 68,
      "outputs": [
        {
          "output_type": "execute_result",
          "data": {
            "text/plain": [
              "array([6.18893487e-02, 4.04561035e-02, 3.42854850e-02, 3.22328791e-02,\n",
              "       2.84128627e-02, 2.69767360e-02, 2.60954113e-02, 2.45034263e-02,\n",
              "       2.36358893e-02, 2.15873832e-02, 1.83729529e-02, 1.78182266e-02,\n",
              "       1.64948381e-02, 1.64386981e-02, 1.62419919e-02, 1.59178598e-02,\n",
              "       1.51754714e-02, 1.49543983e-02, 1.48162899e-02, 1.45042876e-02,\n",
              "       1.43426457e-02, 1.43144566e-02, 1.41995684e-02, 1.41298142e-02,\n",
              "       1.40490287e-02, 1.39050204e-02, 1.38678336e-02, 1.38223084e-02,\n",
              "       1.37711848e-02, 1.37608358e-02, 1.37541625e-02, 1.37340832e-02,\n",
              "       1.37302976e-02, 1.37145012e-02, 1.37031325e-02, 1.36998473e-02,\n",
              "       1.36988928e-02, 1.36966326e-02, 1.36841835e-02, 1.36704023e-02,\n",
              "       1.36615901e-02, 1.36547500e-02, 1.36111862e-02, 1.35963319e-02,\n",
              "       1.35502694e-02, 1.34938398e-02, 1.34046293e-02, 1.32140046e-02,\n",
              "       1.31151440e-02, 1.30382099e-02, 1.29816196e-02, 1.26576707e-02,\n",
              "       1.22994798e-02, 1.18005694e-02, 1.12561800e-02, 1.11081617e-02,\n",
              "       1.01166839e-02, 9.70829965e-03, 6.74185281e-03, 2.77047794e-03,\n",
              "       2.24320796e-03, 2.01360146e-03, 1.62672304e-03, 2.76145219e-04,\n",
              "       1.29291168e-32, 4.41708945e-33, 2.86093486e-33, 2.36904294e-33,\n",
              "       2.20882365e-33, 1.24911177e-33, 8.46065455e-34, 8.13184602e-34,\n",
              "       2.03962327e-34])"
            ]
          },
          "metadata": {},
          "execution_count": 68
        }
      ]
    },
    {
      "cell_type": "code",
      "source": [
        "plt.figure(figsize=(8, 5))\n",
        "plt.plot(range(1, 74), pca.explained_variance_ratio_.cumsum(), marker=\"o\", linestyle=\"--\")\n",
        "plt.title(\"Explained variance by Components\")\n",
        "plt.xlabel(\"Number of Components\")\n",
        "plt.ylabel(\"Cumulative explained variance\")"
      ],
      "metadata": {
        "id": "uF7LRTLb2yxH",
        "colab": {
          "base_uri": "https://localhost:8080/",
          "height": 504
        },
        "outputId": "43896b05-18eb-44a0-d103-5bf183f6ea1f"
      },
      "execution_count": 71,
      "outputs": [
        {
          "output_type": "execute_result",
          "data": {
            "text/plain": [
              "Text(0, 0.5, 'Cumulative explained variance')"
            ]
          },
          "metadata": {},
          "execution_count": 71
        },
        {
          "output_type": "display_data",
          "data": {
            "text/plain": [
              "<Figure size 800x500 with 1 Axes>"
            ],
            "image/png": "[encoded data removed]"
          },
          "metadata": {}
        }
      ]
    },
    {
      "cell_type": "markdown",
      "source": [
        "##Iteración 1"
      ],
      "metadata": {
        "id": "JrkDq8ZVEtbo"
      }
    },
    {
      "cell_type": "markdown",
      "metadata": {
        "id": "PckFlq0lkd1p"
      },
      "source": [
        "##KMeans"
      ]
    },
    {
      "cell_type": "code",
      "execution_count": 72,
      "metadata": {
        "id": "T55pTp-ekP9j",
        "colab": {
          "base_uri": "https://localhost:8080/",
          "height": 507
        },
        "outputId": "66e7106d-25e2-4891-e610-e443101123c1"
      },
      "outputs": [
        {
          "output_type": "stream",
          "name": "stderr",
          "text": [
            "/usr/local/lib/python3.10/dist-packages/sklearn/cluster/_kmeans.py:870: FutureWarning: The default value of `n_init` will change from 10 to 'auto' in 1.4. Set the value of `n_init` explicitly to suppress the warning\n",
            "  warnings.warn(\n"
          ]
        },
        {
          "output_type": "display_data",
          "data": {
            "text/plain": [
              "<Figure size 640x480 with 1 Axes>"
            ],
            "image/png": "[encoded data removed]"
          },
          "metadata": {}
        }
      ],
      "source": [
        "import matplotlib.pyplot as plt\n",
        "from sklearn.cluster import KMeans\n",
        "from sklearn.decomposition import PCA\n",
        "from sklearn.metrics import silhouette_score\n",
        "\n",
        "# Load data from a CSV file into a pandas dataframe\n",
        "data = df_concatenado\n",
        "\n",
        "# Create a KMeans model with 3 clusters\n",
        "kmeans = KMeans(n_clusters=6)\n",
        "\n",
        "# Fit the model to the data\n",
        "kmeans.fit(data)\n",
        "\n",
        "# Get the cluster labels\n",
        "labels = kmeans.labels_\n",
        "\n",
        "# Use PCA to reduce the dimensions of your data to a 2D space\n",
        "pca = PCA(n_components=2)\n",
        "data_2d = pca.fit_transform(data)\n",
        "\n",
        "# Create a scatter plot of the data with the points colored according to their assigned cluster label\n",
        "plt.scatter(data_2d[:, 0], data_2d[:, 1], c=labels)\n",
        "plt.xlabel('PC1')\n",
        "plt.ylabel('PC2')\n",
        "plt.title('KMeans Clustering Results')\n",
        "plt.show()\n"
      ]
    },
    {
      "cell_type": "code",
      "source": [
        "clusters= [10, 7, 5, 3]\n",
        "data = df_concatenado\n",
        "\n",
        "#data2 = data.sample(frac=0.10, replace=True, random_state=1)\n",
        "\n",
        "labels_KModel= {}\n",
        "\n",
        "for cluster in clusters: \n",
        "  # fit the model\n",
        "\n",
        "  kmeans = KMeans(n_clusters=cluster)\n",
        "  kmeans.fit(data)\n",
        "  labels = kmeans.labels_\n",
        "  labels_KModel[f'NClus{cluster}'] = labels\n",
        "  print(cluster)"
      ],
      "metadata": {
        "id": "Jim5YUj26Tf7",
        "colab": {
          "base_uri": "https://localhost:8080/"
        },
        "outputId": "211393ba-77a8-4c7b-b92a-2ee08594524e"
      },
      "execution_count": 73,
      "outputs": [
        {
          "output_type": "stream",
          "name": "stderr",
          "text": [
            "/usr/local/lib/python3.10/dist-packages/sklearn/cluster/_kmeans.py:870: FutureWarning: The default value of `n_init` will change from 10 to 'auto' in 1.4. Set the value of `n_init` explicitly to suppress the warning\n",
            "  warnings.warn(\n"
          ]
        },
        {
          "output_type": "stream",
          "name": "stdout",
          "text": [
            "10\n"
          ]
        },
        {
          "output_type": "stream",
          "name": "stderr",
          "text": [
            "/usr/local/lib/python3.10/dist-packages/sklearn/cluster/_kmeans.py:870: FutureWarning: The default value of `n_init` will change from 10 to 'auto' in 1.4. Set the value of `n_init` explicitly to suppress the warning\n",
            "  warnings.warn(\n"
          ]
        },
        {
          "output_type": "stream",
          "name": "stdout",
          "text": [
            "7\n"
          ]
        },
        {
          "output_type": "stream",
          "name": "stderr",
          "text": [
            "/usr/local/lib/python3.10/dist-packages/sklearn/cluster/_kmeans.py:870: FutureWarning: The default value of `n_init` will change from 10 to 'auto' in 1.4. Set the value of `n_init` explicitly to suppress the warning\n",
            "  warnings.warn(\n"
          ]
        },
        {
          "output_type": "stream",
          "name": "stdout",
          "text": [
            "5\n"
          ]
        },
        {
          "output_type": "stream",
          "name": "stderr",
          "text": [
            "/usr/local/lib/python3.10/dist-packages/sklearn/cluster/_kmeans.py:870: FutureWarning: The default value of `n_init` will change from 10 to 'auto' in 1.4. Set the value of `n_init` explicitly to suppress the warning\n",
            "  warnings.warn(\n"
          ]
        },
        {
          "output_type": "stream",
          "name": "stdout",
          "text": [
            "3\n"
          ]
        }
      ]
    },
    {
      "cell_type": "code",
      "source": [
        "#data2 = data.sample(frac=0.5, replace=False, random_state=1)\n",
        "silhouette_avgClus= {}\n",
        "\n",
        "Nsample= 0\n",
        "for key in list(labels_KModel.keys()):\n",
        "  data2 = data.sample(frac= Nsample+0.05, replace=True, random_state=1)\n",
        "  #silhouette_score\n",
        "  n = int(len(labels_KModel[key]) * (Nsample+0.05))\n",
        "  if len(data2) != n:\n",
        "    n += 1\n",
        "  else:\n",
        "    n = n\n",
        "  lab2 = np.random.choice(labels_KModel[key], n , replace=True)\n",
        "  silhouette_avg = silhouette_score(data2, lab2)\n",
        "  silhouette_avgClus[key]= silhouette_avg\n",
        "  print(f\"Silhouette score {key}: {silhouette_avg}\")\n",
        "  Nsample= Nsample+0.05\n",
        "  print(f'Sample Size {Nsample}')"
      ],
      "metadata": {
        "id": "va0SIPKw8hg6",
        "colab": {
          "base_uri": "https://localhost:8080/"
        },
        "outputId": "81a37d44-df4e-47d1-b98e-725093f887c7"
      },
      "execution_count": 74,
      "outputs": [
        {
          "output_type": "stream",
          "name": "stdout",
          "text": [
            "Silhouette score NClus10: -0.008013366614662133\n",
            "Sample Size 0.05\n",
            "Silhouette score NClus7: -0.00422055023595264\n",
            "Sample Size 0.1\n",
            "Silhouette score NClus5: -0.0026530855785128647\n",
            "Sample Size 0.15000000000000002\n",
            "Silhouette score NClus3: -0.0010468096212295672\n",
            "Sample Size 0.2\n"
          ]
        }
      ]
    }
  ],
  "metadata": {
    "colab": {
      "collapsed_sections": [
        "gXBH_zzsMYtt"
      ],
      "provenance": []
    },
    "kernelspec": {
      "display_name": "Python 3",
      "name": "python3"
    },
    "language_info": {
      "name": "python"
    }
  },
  "nbformat": 4,
  "nbformat_minor": 0
}